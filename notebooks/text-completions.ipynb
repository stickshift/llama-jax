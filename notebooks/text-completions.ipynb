{
 "cells": [
  {
   "cell_type": "markdown",
   "id": "748db826-cb5f-43f8-9282-e1fd31b0a4dd",
   "metadata": {},
   "source": [
    "# Text Completions"
   ]
  },
  {
   "cell_type": "markdown",
   "id": "fb259b01-2122-415a-9fb6-c6da9b7c274e",
   "metadata": {},
   "source": [
    "Exploring text completions using llama-jax."
   ]
  },
  {
   "cell_type": "markdown",
   "id": "f5f400fb-da00-428b-84e7-860e2d27ecde",
   "metadata": {
    "jp-MarkdownHeadingCollapsed": true
   },
   "source": [
    "# Setup"
   ]
  },
  {
   "cell_type": "code",
   "execution_count": 1,
   "id": "bb5244ca-c3a8-4d07-893c-df0aa14799b7",
   "metadata": {},
   "outputs": [],
   "source": [
    "from contextlib import contextmanager\n",
    "from sys import stdout\n",
    "from time import time_ns, perf_counter_ns as timer\n",
    "\n",
    "import jax\n",
    "from jax import numpy as jnp\n",
    "from jax import random\n",
    "\n",
    "import llama_jax as ll"
   ]
  },
  {
   "cell_type": "code",
   "execution_count": 2,
   "id": "ec4ab47d-3d54-4355-9ce8-1add44bbb1f8",
   "metadata": {},
   "outputs": [
    {
     "name": "stderr",
     "output_type": "stream",
     "text": [
      "WARNING:2025-01-05 21:36:16,966:jax._src.xla_bridge:1000: Platform 'METAL' is experimental and not all JAX functionality may be correctly supported!\n"
     ]
    },
    {
     "name": "stdout",
     "output_type": "stream",
     "text": [
      "Metal device set to: Apple M1 Max\n",
      "Available devices: [METAL(id=0)]\n"
     ]
    },
    {
     "name": "stderr",
     "output_type": "stream",
     "text": [
      "WARNING: All log messages before absl::InitializeLog() is called are written to STDERR\n",
      "W0000 00:00:1736130976.966982 17303936 mps_client.cc:510] WARNING: JAX Apple GPU support is experimental and not all JAX functionality is correctly supported!\n",
      "I0000 00:00:1736130976.977310 17303936 service.cc:145] XLA service 0x60000049c500 initialized for platform METAL (this does not guarantee that XLA will be used). Devices:\n",
      "I0000 00:00:1736130976.977319 17303936 service.cc:153]   StreamExecutor device (0): Metal, <undefined>\n",
      "I0000 00:00:1736130976.978433 17303936 mps_client.cc:406] Using Simple allocator.\n",
      "I0000 00:00:1736130976.978439 17303936 mps_client.cc:384] XLA backend will use up to 51539214336 bytes on device 0 for SimpleAllocator.\n"
     ]
    }
   ],
   "source": [
    "print(f\"Available devices: {jax.devices()}\")"
   ]
  },
  {
   "cell_type": "code",
   "execution_count": 3,
   "id": "4c996aee-8718-48db-be55-157d2cf3ebb1",
   "metadata": {},
   "outputs": [],
   "source": [
    "@contextmanager\n",
    "def tps_report(n_tokens: int):\n",
    "    start_time = timer()\n",
    "\n",
    "    yield\n",
    "    \n",
    "    stdout.write(\"\\n\\n\")\n",
    "    \n",
    "    duration = (timer() - start_time) / 1000000000\n",
    "    tps = n_tokens / duration\n",
    "    \n",
    "    print(f\"Generated {n_tokens} tokens in {duration:0.1f} s ({tps:0.1f} tps)\")"
   ]
  },
  {
   "cell_type": "markdown",
   "id": "8337a93e-d0ed-43ef-a434-06c86bc6977f",
   "metadata": {},
   "source": [
    "# Configure"
   ]
  },
  {
   "cell_type": "code",
   "execution_count": 4,
   "id": "ee8788e4-04d2-4ee0-99c4-323598bcea82",
   "metadata": {},
   "outputs": [],
   "source": [
    "# Parameters\n",
    "max_tokens = 30\n",
    "seed = time_ns()"
   ]
  },
  {
   "cell_type": "code",
   "execution_count": 5,
   "id": "f5ae982f-d15e-4526-98e9-aec414886954",
   "metadata": {},
   "outputs": [],
   "source": [
    "# Configure generator\n",
    "key = random.key(seed)\n",
    "config = ll.checkpoint.load_config(\"Llama3.2-3B\")\n",
    "generator, key = ll.text.generator(config, key, max_tokens=max_tokens)"
   ]
  },
  {
   "cell_type": "markdown",
   "id": "bf0076e5-474c-42d0-96aa-0b3b9d09958f",
   "metadata": {},
   "source": [
    "# Warmup"
   ]
  },
  {
   "cell_type": "code",
   "execution_count": 6,
   "id": "605989f7-71f7-4419-be6a-6458d082a691",
   "metadata": {},
   "outputs": [],
   "source": [
    "prompt = \"My name is Julien and I like to\""
   ]
  },
  {
   "cell_type": "code",
   "execution_count": 7,
   "id": "26156151-ac76-4370-a76d-1e377aa93153",
   "metadata": {},
   "outputs": [
    {
     "name": "stdout",
     "output_type": "stream",
     "text": [
      "My name is Julien and I like to play games.\n",
      "I am a passionate gamer who loves to play games, and I want to share my passion with the world. I am a member of\n",
      "\n",
      "Generated 30 tokens in 21.9 s (1.4 tps)\n"
     ]
    }
   ],
   "source": [
    "with tps_report(max_tokens):\n",
    "    # Print input tokens\n",
    "    stdout.write(prompt)\n",
    "    \n",
    "    # Generate tokens\n",
    "    for token in generator(prompt):\n",
    "        # Print next token\n",
    "        stdout.write(token)"
   ]
  },
  {
   "cell_type": "markdown",
   "id": "305e18ca-8fe8-4547-80d2-6f24a7a3dacb",
   "metadata": {},
   "source": [
    "# Prompt 0: Trains"
   ]
  },
  {
   "cell_type": "code",
   "execution_count": 8,
   "id": "ce7d5987-e79d-42aa-ad63-7a311727b4a4",
   "metadata": {},
   "outputs": [],
   "source": [
    "prompt = \"I like traveling by train because\""
   ]
  },
  {
   "cell_type": "code",
   "execution_count": 9,
   "id": "23ce7892-5c16-4088-a43e-25a5ddb81dd2",
   "metadata": {},
   "outputs": [
    {
     "name": "stdout",
     "output_type": "stream",
     "text": [
      "I like traveling by train because it's very relaxing. I enjoy watching the scenery go by and reading a book. It's very different from driving a car and I like that.\n",
      "\n",
      "\n",
      "Generated 30 tokens in 3.0 s (10.1 tps)\n"
     ]
    }
   ],
   "source": [
    "with tps_report(max_tokens):\n",
    "    # Print input tokens\n",
    "    stdout.write(prompt)\n",
    "    \n",
    "    # Generate tokens\n",
    "    for token in generator(prompt):\n",
    "        # Print next token\n",
    "        stdout.write(token)"
   ]
  },
  {
   "cell_type": "markdown",
   "id": "0a0f1eeb-8417-4979-924a-de7c30d4886e",
   "metadata": {},
   "source": [
    "# Prompt 1: Paris"
   ]
  },
  {
   "cell_type": "code",
   "execution_count": 10,
   "id": "eb78b2f6-8b17-4d05-8abd-09623f6f9979",
   "metadata": {},
   "outputs": [],
   "source": [
    "prompt = \"Paris is an amazing place to visit,\""
   ]
  },
  {
   "cell_type": "code",
   "execution_count": 11,
   "id": "784ffa59-1ed6-461e-8061-773285b32a83",
   "metadata": {},
   "outputs": [
    {
     "name": "stdout",
     "output_type": "stream",
     "text": [
      "Paris is an amazing place to visit, but the food can be expensive. However, there are plenty of affordable restaurants in Paris that offer delicious and authentic cuisine. Here are some of the best\n",
      "\n",
      "Generated 30 tokens in 1.1 s (26.8 tps)\n"
     ]
    }
   ],
   "source": [
    "with tps_report(max_tokens):\n",
    "    # Print input tokens\n",
    "    stdout.write(prompt)\n",
    "    \n",
    "    # Generate tokens\n",
    "    for token in generator(prompt):\n",
    "        # Print next token\n",
    "        stdout.write(token)"
   ]
  },
  {
   "cell_type": "markdown",
   "id": "dbe2feef-09ed-43ca-b0fa-af06747857ad",
   "metadata": {},
   "source": [
    "# Prompt 2: Once Upon a Time"
   ]
  },
  {
   "cell_type": "code",
   "execution_count": 12,
   "id": "94059aab-e08d-4992-aab5-6542e26cbb48",
   "metadata": {},
   "outputs": [],
   "source": [
    "prompt = \"Once upon a time\""
   ]
  },
  {
   "cell_type": "code",
   "execution_count": 13,
   "id": "49b6331c-8ee7-43bc-9cac-eee6634cb1ce",
   "metadata": {},
   "outputs": [
    {
     "name": "stdout",
     "output_type": "stream",
     "text": [
      "Once upon a time, the only way to get your hands on a good book was to go to the library. In fact, I can remember as a child going to\n",
      "\n",
      "Generated 30 tokens in 2.8 s (10.6 tps)\n"
     ]
    }
   ],
   "source": [
    "with tps_report(max_tokens):\n",
    "    # Print input tokens\n",
    "    stdout.write(prompt)\n",
    "    \n",
    "    # Generate tokens\n",
    "    for token in generator(prompt):\n",
    "        # Print next token\n",
    "        stdout.write(token)"
   ]
  },
  {
   "cell_type": "markdown",
   "id": "7ee4fcc3-70bb-480c-b97a-e2aa5137fe30",
   "metadata": {},
   "source": [
    "# Prompt 3: Once Upon a Time Extended"
   ]
  },
  {
   "cell_type": "code",
   "execution_count": 14,
   "id": "1010331b-8304-4897-9d2f-4cbb5ce358d5",
   "metadata": {},
   "outputs": [],
   "source": [
    "prompt = \"Once upon a time\"\n",
    "n_tokens = 120"
   ]
  },
  {
   "cell_type": "code",
   "execution_count": 15,
   "id": "5ccddea0-3cea-47cd-a4ab-7ee8c814eba0",
   "metadata": {},
   "outputs": [
    {
     "name": "stdout",
     "output_type": "stream",
     "text": [
      "Once upon a time, the only way to get your hands on a good book was to go to the library. In fact, I can remember as a child going to the library every week with my mother. We would walk around the stacks, looking for the books we wanted to borrow, and then we would go to the checkout desk and wait in line to get our books.\n",
      "As I got older, I started to get my books from the library less and less. I would borrow them from friends, or I would buy them at the bookstore. But eventually, I stopped going to the library altogether. I had all\n",
      "\n",
      "Generated 120 tokens in 55.1 s (2.2 tps)\n"
     ]
    }
   ],
   "source": [
    "with tps_report(n_tokens):\n",
    "    # Print input tokens\n",
    "    stdout.write(prompt)\n",
    "    \n",
    "    # Generate tokens\n",
    "    for token in generator(prompt, max_tokens=n_tokens):\n",
    "        # Print next token\n",
    "        stdout.write(token)"
   ]
  },
  {
   "cell_type": "code",
   "execution_count": null,
   "id": "1a8f890c-2bf2-46ac-b2a1-be30b985e9f8",
   "metadata": {},
   "outputs": [],
   "source": []
  }
 ],
 "metadata": {
  "kernelspec": {
   "display_name": "Python 3 (ipykernel)",
   "language": "python",
   "name": "python3"
  },
  "language_info": {
   "codemirror_mode": {
    "name": "ipython",
    "version": 3
   },
   "file_extension": ".py",
   "mimetype": "text/x-python",
   "name": "python",
   "nbconvert_exporter": "python",
   "pygments_lexer": "ipython3",
   "version": "3.12.6"
  }
 },
 "nbformat": 4,
 "nbformat_minor": 5
}
