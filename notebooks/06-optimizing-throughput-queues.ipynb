{
 "cells": [
  {
   "cell_type": "markdown",
   "metadata": {},
   "source": [
    "# Optimizing Throughput: Queues"
   ]
  },
  {
   "cell_type": "markdown",
   "metadata": {},
   "source": [
    "We've shown the average throughput of llama-jax to be 10 tps short of Ollama (25 vs. 35 running on 64GB M1 MBP). The goal of this series of optimization experiments is to see how closely we can match Ollama's throughput.\n",
    "\n",
    "## Queues"
   ]
  },
  {
   "cell_type": "markdown",
   "metadata": {},
   "source": [
    "# Setup"
   ]
  },
  {
   "cell_type": "code",
   "execution_count": 1,
   "metadata": {},
   "outputs": [
    {
     "name": "stderr",
     "output_type": "stream",
     "text": [
      "WARNING:2025-03-05 16:46:02,657:jax._src.xla_bridge:1000: Platform 'METAL' is experimental and not all JAX functionality may be correctly supported!\n"
     ]
    },
    {
     "name": "stdout",
     "output_type": "stream",
     "text": [
      "Metal device set to: Apple M1 Max\n",
      "\n",
      "systemMemory: 64.00 GB\n",
      "maxCacheSize: 24.00 GB\n",
      "\n"
     ]
    },
    {
     "name": "stderr",
     "output_type": "stream",
     "text": [
      "WARNING: All log messages before absl::InitializeLog() is called are written to STDERR\n",
      "W0000 00:00:1741211162.658151 15159954 mps_client.cc:510] WARNING: JAX Apple GPU support is experimental and not all JAX functionality is correctly supported!\n",
      "I0000 00:00:1741211162.666866 15159954 service.cc:145] XLA service 0x12b3eb5f0 initialized for platform METAL (this does not guarantee that XLA will be used). Devices:\n",
      "I0000 00:00:1741211162.666877 15159954 service.cc:153]   StreamExecutor device (0): Metal, <undefined>\n",
      "I0000 00:00:1741211162.668319 15159954 mps_client.cc:406] Using Simple allocator.\n",
      "I0000 00:00:1741211162.668331 15159954 mps_client.cc:384] XLA backend will use up to 51539214336 bytes on device 0 for SimpleAllocator.\n"
     ]
    }
   ],
   "source": [
    "from collections.abc import Callable, Iterator, Sequence\n",
    "from concurrent.futures import wait,ThreadPoolExecutor\n",
    "from functools import partial\n",
    "from queue import SimpleQueue\n",
    "from time import time_ns as seed\n",
    "\n",
    "import jax\n",
    "from jax import Array, numpy as jnp, random\n",
    "from jax.nn import softmax\n",
    "import ollama\n",
    "from pandas import DataFrame\n",
    "from pydantic import BaseModel\n",
    "import seaborn as sns\n",
    "from tqdm.auto import tqdm\n",
    "\n",
    "import llama_jax as ll\n",
    "from llama_jax.chat import Message\n",
    "from llama_jax.checkpoint import ModelConfig\n",
    "from llama_jax.model import Model\n",
    "from llama_jax.kvc import KVCache\n",
    "from llama_jax.tools import default_arg"
   ]
  },
  {
   "cell_type": "markdown",
   "metadata": {},
   "source": [
    "# Parameters"
   ]
  },
  {
   "cell_type": "code",
   "execution_count": 2,
   "metadata": {},
   "outputs": [],
   "source": [
    "n_prompts = 30\n",
    "max_tokens = 50"
   ]
  },
  {
   "cell_type": "markdown",
   "metadata": {},
   "source": [
    "# Prompts"
   ]
  },
  {
   "cell_type": "code",
   "execution_count": 3,
   "metadata": {},
   "outputs": [
    {
     "data": {
      "text/plain": [
       "['Can Math Explain Reality?',\n",
       " 'What is Perfectly Rational Beauty?',\n",
       " 'Do Geometric Shapes Hold Secrets?',\n",
       " 'How Do Stars Align Physics?',\n",
       " 'Is Symmetry a Universal Law?',\n",
       " 'Do Laws of Nature Vary?',\n",
       " 'Why Does Time Work Differently?',\n",
       " 'Are Physical Constants Fixed?',\n",
       " 'How Do Black Holes Form?',\n",
       " 'Does Space-Time Matter More?',\n",
       " 'What is the Speed Limit?',\n",
       " 'Can Machines Solve Math Problems?',\n",
       " 'Is Pi an Infinite Answer?',\n",
       " 'Can Numbers Describe Reality?',\n",
       " 'Do Fractals Hold Secrets?',\n",
       " 'How Does Energy Transfer?',\n",
       " 'Is Gravity a Force?',\n",
       " 'Do Waves Have Speed Limits?',\n",
       " 'Why Do Some Laws Fail?',\n",
       " 'Do All Objects Decay Slowly?',\n",
       " 'How Much Energy is Lost?',\n",
       " 'What is the Speed of Light?',\n",
       " 'Can Machines See Color?',\n",
       " 'Why Do Plants Grow Taller?',\n",
       " 'Are Numbers Always Counting?',\n",
       " 'Does Matter Have a Speed Limit?',\n",
       " 'Can We Control Gravity?',\n",
       " 'Is Time Travel Possible?',\n",
       " 'Can Machines Learn Math Faster?',\n",
       " 'Do All Physical Laws Apply?',\n",
       " 'How Does Weather Affect Physics?',\n",
       " 'Is the Universe Made of Matter?']"
      ]
     },
     "execution_count": 3,
     "metadata": {},
     "output_type": "execute_result"
    }
   ],
   "source": [
    "class PromptPool(BaseModel):\n",
    "    prompts: list[str]\n",
    "\n",
    "prompt = ll.tools.prompt(\n",
    "    f\"\"\"\n",
    "    Generate {n_prompts} LLM prompts. Each prompt should pose an interesting question about math and science in 3 to 6 words.\n",
    "    Your response must be formatted as JSON.\n",
    "    \"\"\"\n",
    ")\n",
    "\n",
    "response = ollama.chat(\n",
    "    model=\"llama3.2:3b\", \n",
    "    messages=[{\"role\": \"user\", \"content\": prompt}], \n",
    "    format=PromptPool.model_json_schema(),\n",
    ")\n",
    "\n",
    "prompt_pool = PromptPool.model_validate_json(response.message.content)\n",
    "prompts = prompt_pool.prompts\n",
    "\n",
    "prompts"
   ]
  },
  {
   "cell_type": "code",
   "execution_count": 4,
   "metadata": {},
   "outputs": [],
   "source": [
    "warmup_prompt = \"Why is the sky blue?\""
   ]
  },
  {
   "cell_type": "markdown",
   "metadata": {},
   "source": [
    "# Building Blocks"
   ]
  },
  {
   "cell_type": "code",
   "execution_count": 5,
   "metadata": {},
   "outputs": [],
   "source": [
    "Pipeline = Callable[[Sequence[str]], Iterator[str]]\n",
    "\n",
    "\n",
    "@partial(jax.jit, static_argnames=\"config\")\n",
    "def transform(\n",
    "    config: ModelConfig,\n",
    "    state: Model,\n",
    "    token_ids: Array,\n",
    "    position_mask: Array,\n",
    "    *,\n",
    "    kvc: KVCache | None = None,\n",
    ") -> Array | tuple[Array, KVCache]:\n",
    "    \"\"\"Transform token_ids into next token logits.\"\"\"\n",
    "\n",
    "    # Remember if cache was provided\n",
    "    external_cache = kvc is not None\n",
    "\n",
    "    # Defaults\n",
    "    kvc = default_arg(kvc, default_factory=partial(ll.kvc.create, config))\n",
    "\n",
    "    # Sanity check\n",
    "    assert token_ids.ndim == 2\n",
    "\n",
    "    # Map tokens to embeddings\n",
    "    x = ll.embeddings.forward(config, state.embeddings, token_ids)\n",
    "\n",
    "    # Create mask\n",
    "    mask = ll.attention.attention_mask(config, position_mask)\n",
    "\n",
    "    # Create mutable kv cache\n",
    "    kvc_layers = list(kvc)\n",
    "\n",
    "    # Apply layers\n",
    "    for i, layer in enumerate(state.layers):\n",
    "        x, kvc_layers[i] = ll.layer.forward(config, layer, state.rope, mask, x, kvc_layers[i])\n",
    "\n",
    "    # Convert kv caches back into immutable sequence\n",
    "    kvc = KVCache(kvc_layers)\n",
    "\n",
    "    # Apply head\n",
    "    x = ll.head.forward(config, state.head, x, position_mask)\n",
    "\n",
    "    # Return updated cache if provided\n",
    "    if external_cache:\n",
    "        return x, kvc\n",
    "\n",
    "    return x\n",
    "\n",
    "\n",
    "@partial(jax.jit, static_argnames=(\"temperature\", \"top_k\", \"top_p\"))\n",
    "def next_token_id(\n",
    "    logits: Array,\n",
    "    *,\n",
    "    key: Array | None = None,\n",
    "    temperature: float | None = None,\n",
    "    top_k: int | None = None,\n",
    "    top_p: float | None = None,\n",
    ") -> Array:\n",
    "    \"\"\"Select next token id using temperature, top k, and top p sampling.\"\"\"\n",
    "\n",
    "    # Temperature\n",
    "    # -----------\n",
    "\n",
    "    # Defaults\n",
    "    temperature = default_arg(temperature, 0.6)\n",
    "\n",
    "    # If temperature is 0, return the top token\n",
    "    if temperature == 0:\n",
    "        return jnp.argmax(logits, axis=-1, keepdims=True)\n",
    "\n",
    "    # Apply temperature\n",
    "    logits = logits / temperature\n",
    "\n",
    "    # Ranking\n",
    "    # -------\n",
    "\n",
    "    # Sort logits in descending order, maintaining original indices\n",
    "    indices = jnp.argsort(logits, axis=-1, descending=True)\n",
    "\n",
    "    # Top K\n",
    "    # -----\n",
    "\n",
    "    # Defaults\n",
    "    top_k = default_arg(top_k, 50)\n",
    "\n",
    "    # Apply top k to entire batch at once\n",
    "    indices = indices[:, :top_k]\n",
    "    logits = jnp.take_along_axis(logits, indices, axis=-1)\n",
    "\n",
    "    # Top P\n",
    "    # -----\n",
    "\n",
    "    # Defaults\n",
    "    top_p = default_arg(top_p, 0.9)\n",
    "\n",
    "    # Convert remaining logits to probabilities\n",
    "    probs = softmax(logits, axis=-1)\n",
    "\n",
    "    # Find index where cumulative sum of probs exceeds p\n",
    "    cumulative_mask = probs.cumsum(axis=-1) <= top_p\n",
    "    cutoff = jnp.sum(cumulative_mask, axis=-1, keepdims=True)\n",
    "\n",
    "    # Calculate mask for indicies <= cutoff\n",
    "    mask = jnp.broadcast_to(jnp.arange(logits.shape[-1]), logits.shape) <= cutoff\n",
    "\n",
    "    # Zero out logits above cutoff\n",
    "    logits = jnp.where(mask, logits, 0)\n",
    "\n",
    "    # Random Selection\n",
    "    # ----------------\n",
    "\n",
    "    assert key is not None\n",
    "\n",
    "    # Randomly choose from remaining logits\n",
    "    key, subkey = random.split(key)\n",
    "    selected = random.categorical(subkey, logits, axis=-1)[:, None]\n",
    "\n",
    "    # Map selected back to original logit indices\n",
    "    next_token_id = jnp.take_along_axis(indices, selected, axis=-1)\n",
    "\n",
    "    return next_token_id"
   ]
  },
  {
   "cell_type": "code",
   "execution_count": 6,
   "metadata": {},
   "outputs": [],
   "source": [
    "config = ll.checkpoint.load_config(\"Llama3.2-3b-Instruct\")\n",
    "tokenizer = ll.checkpoint.load_tokenizer(config)\n",
    "model = ll.model.create(config)\n",
    "executor = ThreadPoolExecutor()"
   ]
  },
  {
   "cell_type": "markdown",
   "metadata": {},
   "source": [
    "# Pipeline 1: No Queue"
   ]
  },
  {
   "cell_type": "code",
   "execution_count": 7,
   "metadata": {},
   "outputs": [],
   "source": [
    "def pipeline1(prompts: Sequence[str]) -> Iterator[str]:\n",
    "\n",
    "    key = random.key(seed())\n",
    "\n",
    "    for content in prompts:\n",
    "        \n",
    "        prompt = ll.chat.render_prompt([Message(role=\"user\", content=content)])\n",
    "        token_ids, position_mask = tokenizer.encode(prompt)\n",
    "\n",
    "        x = token_ids\n",
    "        kvc = ll.kvc.create(config)\n",
    "        key, *subkeys = random.split(key, max_tokens+1)\n",
    "\n",
    "        for i in range(max_tokens):\n",
    "            \n",
    "            logits, kvc = transform(config, model, x, position_mask, kvc=kvc)\n",
    "            token_id = next_token_id(logits, key=subkeys[i])\n",
    "\n",
    "            yield tokenizer.decode(token_id)[0]\n",
    "\n",
    "            x = token_id"
   ]
  },
  {
   "cell_type": "markdown",
   "metadata": {},
   "source": [
    "# Pipeline 2: Queued\n",
    "\n",
    "Separate token encoding/decoding (CPU) from mapping token_ids to next_token_id (GPU)."
   ]
  },
  {
   "cell_type": "code",
   "execution_count": 8,
   "metadata": {},
   "outputs": [],
   "source": [
    "def pipeline2(prompts: Sequence[str]) -> Iterator[str]:\n",
    "\n",
    "    input_queue = SimpleQueue()\n",
    "    output_queue = SimpleQueue()\n",
    "\n",
    "    def encoder():\n",
    "        \"\"\"Encode prompts as token ids.\"\"\"\n",
    "\n",
    "        for prompt in prompts:\n",
    "            prompt = ll.chat.render_prompt([Message(role=\"user\", content=prompt)])\n",
    "            token_ids, position_mask = tokenizer.encode(prompt)\n",
    "            \n",
    "            input_queue.put((token_ids, position_mask))\n",
    "\n",
    "        input_queue.put(None)\n",
    "\n",
    "    def transformer():\n",
    "        \"\"\"Predict next token id from input token ids.\"\"\"\n",
    "        key = random.key(seed())\n",
    "\n",
    "        while (inputs := input_queue.get()) is not None:\n",
    "            token_ids, position_mask = inputs\n",
    "            \n",
    "            x = token_ids\n",
    "            kvc = ll.kvc.create(config)\n",
    "            key, *subkeys = random.split(key, max_tokens+1)\n",
    "\n",
    "            for i in range(max_tokens):\n",
    "                logits, kvc = transform(config, model, x, position_mask, kvc=kvc)\n",
    "                token_id = next_token_id(logits, key=subkeys[i])\n",
    "\n",
    "                output_queue.put(token_id)\n",
    "\n",
    "                x = token_id\n",
    "            \n",
    "        output_queue.put(None)\n",
    "\n",
    "    # Launch background jobs\n",
    "    tasks = [\n",
    "        executor.submit(encoder),\n",
    "        executor.submit(transformer),\n",
    "    ]\n",
    "\n",
    "    # Decode generated token ids\n",
    "    while (token_id := output_queue.get()) is not None:\n",
    "        yield tokenizer.decode(token_id)[0]\n",
    "    \n",
    "    wait(tasks)"
   ]
  },
  {
   "cell_type": "markdown",
   "metadata": {},
   "source": [
    "# Experiment"
   ]
  },
  {
   "cell_type": "code",
   "execution_count": 9,
   "metadata": {},
   "outputs": [],
   "source": [
    "def warmup(pipeline: Pipeline):\n",
    "    jax.clear_caches()\n",
    "\n",
    "    for _ in tqdm(pipeline([warmup_prompt]), desc=\"Warmup\", total=max_tokens, leave=False):\n",
    "        pass\n",
    "\n",
    "\n",
    "def run(pipeline: Pipeline):\n",
    "\n",
    "    with ll.render.token_view() as tv:\n",
    "        for token in pipeline(prompts):\n",
    "            tv.add_token(token)\n",
    "    \n",
    "    return tv.tps"
   ]
  },
  {
   "cell_type": "code",
   "execution_count": 10,
   "metadata": {},
   "outputs": [
    {
     "data": {
      "application/vnd.jupyter.widget-view+json": {
       "model_id": "c5d92d2fb4424db09b6505e35d8ce7d8",
       "version_major": 2,
       "version_minor": 0
      },
      "text/plain": [
       "Pipelines:   0%|          | 0/2 [00:00<?, ?it/s]"
      ]
     },
     "metadata": {},
     "output_type": "display_data"
    },
    {
     "data": {
      "application/vnd.jupyter.widget-view+json": {
       "model_id": "c946e4a89ac34819b5cad674acf48f81",
       "version_major": 2,
       "version_minor": 0
      },
      "text/plain": [
       "Warmup:   0%|          | 0/50 [00:00<?, ?it/s]"
      ]
     },
     "metadata": {},
     "output_type": "display_data"
    },
    {
     "data": {
      "application/vnd.jupyter.widget-view+json": {
       "model_id": "5b1b98bc11be40a0947b16f924cace0d",
       "version_major": 2,
       "version_minor": 0
      },
      "text/plain": [
       "Output()"
      ]
     },
     "metadata": {},
     "output_type": "display_data"
    },
    {
     "data": {
      "text/html": [
       "<pre style=\"white-space:pre;overflow-x:auto;line-height:normal;font-family:Menlo,'DejaVu Sans Mono',consolas,'Courier New',monospace\"></pre>\n"
      ],
      "text/plain": []
     },
     "metadata": {},
     "output_type": "display_data"
    },
    {
     "data": {
      "application/vnd.jupyter.widget-view+json": {
       "model_id": "eff6873361284179a14a0903a2d0d38c",
       "version_major": 2,
       "version_minor": 0
      },
      "text/plain": [
       "Warmup:   0%|          | 0/50 [00:00<?, ?it/s]"
      ]
     },
     "metadata": {},
     "output_type": "display_data"
    },
    {
     "data": {
      "application/vnd.jupyter.widget-view+json": {
       "model_id": "e23ad8f70a1c40958adf19cceaba1ee3",
       "version_major": 2,
       "version_minor": 0
      },
      "text/plain": [
       "Output()"
      ]
     },
     "metadata": {},
     "output_type": "display_data"
    },
    {
     "data": {
      "text/html": [
       "<pre style=\"white-space:pre;overflow-x:auto;line-height:normal;font-family:Menlo,'DejaVu Sans Mono',consolas,'Courier New',monospace\"></pre>\n"
      ],
      "text/plain": []
     },
     "metadata": {},
     "output_type": "display_data"
    }
   ],
   "source": [
    "pipelines = [\n",
    "    pipeline1,\n",
    "    pipeline2,\n",
    "]\n",
    "\n",
    "metrics = []\n",
    "\n",
    "for i, pipeline in enumerate(tqdm(pipelines, desc=\"Pipelines\")):\n",
    "    \n",
    "    warmup(pipeline)\n",
    "\n",
    "    tps = run(pipeline)\n",
    "\n",
    "    metrics.append({\"pipeline\": i, \"tps\": tps})"
   ]
  },
  {
   "cell_type": "code",
   "execution_count": null,
   "metadata": {},
   "outputs": [],
   "source": []
  },
  {
   "cell_type": "code",
   "execution_count": null,
   "metadata": {},
   "outputs": [],
   "source": []
  },
  {
   "cell_type": "markdown",
   "metadata": {},
   "source": [
    "# Analysis"
   ]
  },
  {
   "cell_type": "code",
   "execution_count": 11,
   "metadata": {},
   "outputs": [],
   "source": [
    "data = DataFrame(metrics)"
   ]
  },
  {
   "cell_type": "code",
   "execution_count": 12,
   "metadata": {},
   "outputs": [
    {
     "data": {
      "text/plain": [
       "<Axes: xlabel='pipeline', ylabel='tps'>"
      ]
     },
     "execution_count": 12,
     "metadata": {},
     "output_type": "execute_result"
    },
    {
     "data": {
      "image/png": "[encoded data removed]",
      "text/plain": [
       "<Figure size 640x480 with 1 Axes>"
      ]
     },
     "metadata": {},
     "output_type": "display_data"
    }
   ],
   "source": [
    "sns.barplot(data, x=\"pipeline\", y=\"tps\")"
   ]
  },
  {
   "cell_type": "code",
   "execution_count": null,
   "metadata": {},
   "outputs": [],
   "source": []
  },
  {
   "cell_type": "code",
   "execution_count": null,
   "metadata": {},
   "outputs": [],
   "source": []
  }
 ],
 "metadata": {
  "kernelspec": {
   "display_name": ".venv",
   "language": "python",
   "name": "python3"
  },
  "language_info": {
   "codemirror_mode": {
    "name": "ipython",
    "version": 3
   },
   "file_extension": ".py",
   "mimetype": "text/x-python",
   "name": "python",
   "nbconvert_exporter": "python",
   "pygments_lexer": "ipython3",
   "version": "3.12.8"
  }
 },
 "nbformat": 4,
 "nbformat_minor": 4
}
