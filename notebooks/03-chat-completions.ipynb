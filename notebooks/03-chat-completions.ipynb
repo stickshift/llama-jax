{
 "cells": [
  {
   "cell_type": "markdown",
   "id": "748db826-cb5f-43f8-9282-e1fd31b0a4dd",
   "metadata": {},
   "source": [
    "# Chat Completions"
   ]
  },
  {
   "cell_type": "markdown",
   "id": "fb259b01-2122-415a-9fb6-c6da9b7c274e",
   "metadata": {},
   "source": [
    "Exploring chat completions using llama-jax."
   ]
  },
  {
   "cell_type": "markdown",
   "id": "f5f400fb-da00-428b-84e7-860e2d27ecde",
   "metadata": {},
   "source": [
    "# Setup"
   ]
  },
  {
   "cell_type": "code",
   "execution_count": 1,
   "id": "bb5244ca-c3a8-4d07-893c-df0aa14799b7",
   "metadata": {},
   "outputs": [
    {
     "name": "stderr",
     "output_type": "stream",
     "text": [
      "WARNING:2025-03-03 12:55:35,902:jax._src.xla_bridge:1000: Platform 'METAL' is experimental and not all JAX functionality may be correctly supported!\n"
     ]
    },
    {
     "name": "stdout",
     "output_type": "stream",
     "text": [
      "Metal device set to: Apple M1 Max\n",
      "\n",
      "systemMemory: 64.00 GB\n",
      "maxCacheSize: 24.00 GB\n",
      "\n"
     ]
    },
    {
     "name": "stderr",
     "output_type": "stream",
     "text": [
      "WARNING: All log messages before absl::InitializeLog() is called are written to STDERR\n",
      "W0000 00:00:1741024535.903599 11875102 mps_client.cc:510] WARNING: JAX Apple GPU support is experimental and not all JAX functionality is correctly supported!\n",
      "I0000 00:00:1741024535.914191 11875102 service.cc:145] XLA service 0x1187adf90 initialized for platform METAL (this does not guarantee that XLA will be used). Devices:\n",
      "I0000 00:00:1741024535.914201 11875102 service.cc:153]   StreamExecutor device (0): Metal, <undefined>\n",
      "I0000 00:00:1741024535.915357 11875102 mps_client.cc:406] Using Simple allocator.\n",
      "I0000 00:00:1741024535.915364 11875102 mps_client.cc:384] XLA backend will use up to 51539214336 bytes on device 0 for SimpleAllocator.\n"
     ]
    }
   ],
   "source": [
    "from time import time_ns as seed\n",
    "\n",
    "from jax import random\n",
    "\n",
    "import llama_jax as ll"
   ]
  },
  {
   "cell_type": "code",
   "execution_count": 2,
   "id": "ee8788e4-04d2-4ee0-99c4-323598bcea82",
   "metadata": {},
   "outputs": [],
   "source": [
    "# Parameters\n",
    "max_tokens = 30"
   ]
  },
  {
   "cell_type": "code",
   "execution_count": 3,
   "id": "f5ae982f-d15e-4526-98e9-aec414886954",
   "metadata": {},
   "outputs": [
    {
     "data": {
      "application/vnd.jupyter.widget-view+json": {
       "model_id": "b4df70a075a44bd6bed3106ca7c712d3",
       "version_major": 2,
       "version_minor": 0
      },
      "text/plain": [
       "Warmup (1/10):   0%|          | 0/20 [00:00<?, ?it/s]"
      ]
     },
     "metadata": {},
     "output_type": "display_data"
    },
    {
     "data": {
      "application/vnd.jupyter.widget-view+json": {
       "model_id": "343488677b994b8880e3b5671da64134",
       "version_major": 2,
       "version_minor": 0
      },
      "text/plain": [
       "Warmup (2/10):   0%|          | 0/20 [00:00<?, ?it/s]"
      ]
     },
     "metadata": {},
     "output_type": "display_data"
    },
    {
     "data": {
      "application/vnd.jupyter.widget-view+json": {
       "model_id": "f9abf1ef46cf47328d4e779784fb8511",
       "version_major": 2,
       "version_minor": 0
      },
      "text/plain": [
       "Warmup (3/10):   0%|          | 0/20 [00:00<?, ?it/s]"
      ]
     },
     "metadata": {},
     "output_type": "display_data"
    },
    {
     "data": {
      "application/vnd.jupyter.widget-view+json": {
       "model_id": "3de106c253374fa3b74601310d96a0f2",
       "version_major": 2,
       "version_minor": 0
      },
      "text/plain": [
       "Warmup (4/10):   0%|          | 0/20 [00:00<?, ?it/s]"
      ]
     },
     "metadata": {},
     "output_type": "display_data"
    },
    {
     "data": {
      "application/vnd.jupyter.widget-view+json": {
       "model_id": "757d9d48b2824799931ab77613a900e4",
       "version_major": 2,
       "version_minor": 0
      },
      "text/plain": [
       "Warmup (5/10):   0%|          | 0/20 [00:00<?, ?it/s]"
      ]
     },
     "metadata": {},
     "output_type": "display_data"
    },
    {
     "data": {
      "application/vnd.jupyter.widget-view+json": {
       "model_id": "3c2ead47984a44e8955a0ded63229b00",
       "version_major": 2,
       "version_minor": 0
      },
      "text/plain": [
       "Warmup (6/10):   0%|          | 0/20 [00:00<?, ?it/s]"
      ]
     },
     "metadata": {},
     "output_type": "display_data"
    },
    {
     "data": {
      "application/vnd.jupyter.widget-view+json": {
       "model_id": "9de40cf22e214acaaa71d86456961712",
       "version_major": 2,
       "version_minor": 0
      },
      "text/plain": [
       "Warmup (7/10):   0%|          | 0/20 [00:00<?, ?it/s]"
      ]
     },
     "metadata": {},
     "output_type": "display_data"
    },
    {
     "data": {
      "application/vnd.jupyter.widget-view+json": {
       "model_id": "d8b9da0d5cb64e758633b323a474d896",
       "version_major": 2,
       "version_minor": 0
      },
      "text/plain": [
       "Warmup (8/10):   0%|          | 0/20 [00:00<?, ?it/s]"
      ]
     },
     "metadata": {},
     "output_type": "display_data"
    },
    {
     "data": {
      "application/vnd.jupyter.widget-view+json": {
       "model_id": "7b77a83714f2454eabb796d4372d9e4a",
       "version_major": 2,
       "version_minor": 0
      },
      "text/plain": [
       "Warmup (9/10):   0%|          | 0/20 [00:00<?, ?it/s]"
      ]
     },
     "metadata": {},
     "output_type": "display_data"
    },
    {
     "data": {
      "application/vnd.jupyter.widget-view+json": {
       "model_id": "b4585cc1b60e4a7bb58528ec92c47da2",
       "version_major": 2,
       "version_minor": 0
      },
      "text/plain": [
       "Warmup (10/10):   0%|          | 0/20 [00:00<?, ?it/s]"
      ]
     },
     "metadata": {},
     "output_type": "display_data"
    }
   ],
   "source": [
    "key = random.key(seed())\n",
    "\n",
    "# Configure chat session\n",
    "session = ll.chat.session(warmup_tokens=20)"
   ]
  },
  {
   "cell_type": "markdown",
   "id": "305e18ca-8fe8-4547-80d2-6f24a7a3dacb",
   "metadata": {},
   "source": [
    "# Prompt 0: Trains"
   ]
  },
  {
   "cell_type": "code",
   "execution_count": 4,
   "id": "ce7d5987-e79d-42aa-ad63-7a311727b4a4",
   "metadata": {},
   "outputs": [],
   "source": [
    "prompt = \"Why do you like traveling by train?\""
   ]
  },
  {
   "cell_type": "code",
   "execution_count": 5,
   "id": "d696ee1f",
   "metadata": {},
   "outputs": [
    {
     "data": {
      "application/vnd.jupyter.widget-view+json": {
       "model_id": "a3c9b9e41a7e4a2a8f9a6fda36f49789",
       "version_major": 2,
       "version_minor": 0
      },
      "text/plain": [
       "Output()"
      ]
     },
     "metadata": {},
     "output_type": "display_data"
    },
    {
     "data": {
      "text/html": [
       "<pre style=\"white-space:pre;overflow-x:auto;line-height:normal;font-family:Menlo,'DejaVu Sans Mono',consolas,'Courier New',monospace\"></pre>\n"
      ],
      "text/plain": []
     },
     "metadata": {},
     "output_type": "display_data"
    }
   ],
   "source": [
    "key, subkey = random.split(key)\n",
    "\n",
    "with ll.render.token_view(session.config, prompt=prompt) as tv:\n",
    "    for token in ll.chat.complete(session, content=prompt, key=subkey, max_tokens=max_tokens):\n",
    "        tv.add_token(token)"
   ]
  },
  {
   "cell_type": "markdown",
   "id": "0a0f1eeb-8417-4979-924a-de7c30d4886e",
   "metadata": {},
   "source": [
    "# Prompt 1: Paris"
   ]
  },
  {
   "cell_type": "code",
   "execution_count": 6,
   "id": "eb78b2f6-8b17-4d05-8abd-09623f6f9979",
   "metadata": {},
   "outputs": [],
   "source": [
    "prompt = \"Where do you go when you visit Paris?\""
   ]
  },
  {
   "cell_type": "code",
   "execution_count": 7,
   "id": "784ffa59-1ed6-461e-8061-773285b32a83",
   "metadata": {},
   "outputs": [
    {
     "data": {
      "application/vnd.jupyter.widget-view+json": {
       "model_id": "6a0db3a6c6e14c46b4892dea129f764b",
       "version_major": 2,
       "version_minor": 0
      },
      "text/plain": [
       "Output()"
      ]
     },
     "metadata": {},
     "output_type": "display_data"
    },
    {
     "data": {
      "text/html": [
       "<pre style=\"white-space:pre;overflow-x:auto;line-height:normal;font-family:Menlo,'DejaVu Sans Mono',consolas,'Courier New',monospace\"></pre>\n"
      ],
      "text/plain": []
     },
     "metadata": {},
     "output_type": "display_data"
    }
   ],
   "source": [
    "key, subkey = random.split(key)\n",
    "\n",
    "with ll.render.token_view(session.config, prompt=prompt) as tv:\n",
    "    for token in ll.chat.complete(session, content=prompt, key=subkey, max_tokens=max_tokens):\n",
    "        tv.add_token(token)"
   ]
  },
  {
   "cell_type": "markdown",
   "id": "dbe2feef-09ed-43ca-b0fa-af06747857ad",
   "metadata": {},
   "source": [
    "# Prompt 2: Once Upon a Time"
   ]
  },
  {
   "cell_type": "code",
   "execution_count": 8,
   "id": "94059aab-e08d-4992-aab5-6542e26cbb48",
   "metadata": {},
   "outputs": [],
   "source": [
    "prompt = \"Tell me a story.\""
   ]
  },
  {
   "cell_type": "code",
   "execution_count": 9,
   "id": "49b6331c-8ee7-43bc-9cac-eee6634cb1ce",
   "metadata": {},
   "outputs": [
    {
     "data": {
      "application/vnd.jupyter.widget-view+json": {
       "model_id": "410533e2c24d437eb2d6fab25b59bd14",
       "version_major": 2,
       "version_minor": 0
      },
      "text/plain": [
       "Output()"
      ]
     },
     "metadata": {},
     "output_type": "display_data"
    },
    {
     "data": {
      "text/html": [
       "<pre style=\"white-space:pre;overflow-x:auto;line-height:normal;font-family:Menlo,'DejaVu Sans Mono',consolas,'Courier New',monospace\"></pre>\n"
      ],
      "text/plain": []
     },
     "metadata": {},
     "output_type": "display_data"
    }
   ],
   "source": [
    "key, subkey = random.split(key)\n",
    "\n",
    "with ll.render.token_view(session.config, prompt=prompt) as tv:\n",
    "    for token in ll.chat.complete(session, content=prompt, key=subkey, max_tokens=max_tokens):\n",
    "        tv.add_token(token)"
   ]
  },
  {
   "cell_type": "code",
   "execution_count": null,
   "id": "9cdcd1ce",
   "metadata": {},
   "outputs": [],
   "source": []
  }
 ],
 "metadata": {
  "kernelspec": {
   "display_name": ".venv",
   "language": "python",
   "name": "python3"
  },
  "language_info": {
   "codemirror_mode": {
    "name": "ipython",
    "version": 3
   },
   "file_extension": ".py",
   "mimetype": "text/x-python",
   "name": "python",
   "nbconvert_exporter": "python",
   "pygments_lexer": "ipython3",
   "version": "3.12.8"
  }
 },
 "nbformat": 4,
 "nbformat_minor": 5
}
