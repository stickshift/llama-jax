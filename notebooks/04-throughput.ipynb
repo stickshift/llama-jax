{
 "cells": [
  {
   "cell_type": "markdown",
   "metadata": {},
   "source": [
    "# Throughput: Measuring Chat Completion Throughput w/ TPS"
   ]
  },
  {
   "cell_type": "markdown",
   "metadata": {},
   "source": [
    "# Setup"
   ]
  },
  {
   "cell_type": "code",
   "execution_count": 1,
   "metadata": {},
   "outputs": [
    {
     "name": "stderr",
     "output_type": "stream",
     "text": [
      "WARNING:2025-03-06 17:07:15,402:jax._src.xla_bridge:1000: Platform 'METAL' is experimental and not all JAX functionality may be correctly supported!\n"
     ]
    },
    {
     "name": "stdout",
     "output_type": "stream",
     "text": [
      "Metal device set to: Apple M1 Max\n",
      "\n",
      "systemMemory: 64.00 GB\n",
      "maxCacheSize: 24.00 GB\n",
      "\n"
     ]
    },
    {
     "name": "stderr",
     "output_type": "stream",
     "text": [
      "WARNING: All log messages before absl::InitializeLog() is called are written to STDERR\n",
      "W0000 00:00:1741298835.403252 17913609 mps_client.cc:510] WARNING: JAX Apple GPU support is experimental and not all JAX functionality is correctly supported!\n",
      "I0000 00:00:1741298835.413750 17913609 service.cc:145] XLA service 0x1106bfdf0 initialized for platform METAL (this does not guarantee that XLA will be used). Devices:\n",
      "I0000 00:00:1741298835.413765 17913609 service.cc:153]   StreamExecutor device (0): Metal, <undefined>\n",
      "I0000 00:00:1741298835.415222 17913609 mps_client.cc:406] Using Simple allocator.\n",
      "I0000 00:00:1741298835.415235 17913609 mps_client.cc:384] XLA backend will use up to 51539214336 bytes on device 0 for SimpleAllocator.\n"
     ]
    }
   ],
   "source": [
    "from random import sample\n",
    "from time import perf_counter_ns as seed\n",
    "\n",
    "from jax import random\n",
    "from matplotlib import pyplot as plt\n",
    "\n",
    "import llama_jax as ll\n",
    "from llama_jax.chat import Message"
   ]
  },
  {
   "cell_type": "code",
   "execution_count": 2,
   "metadata": {},
   "outputs": [],
   "source": [
    "key = random.key(seed())"
   ]
  },
  {
   "cell_type": "markdown",
   "metadata": {},
   "source": [
    "# Session"
   ]
  },
  {
   "cell_type": "code",
   "execution_count": 3,
   "metadata": {},
   "outputs": [],
   "source": [
    "system_prompt = ll.tools.prompt(\n",
    "    \"\"\"\n",
    "    You're answering a basic set of questions as part of an LLM test suite.\n",
    "\n",
    "    - All of your responses should be formatted as markdown.\n",
    "    - Answer in a single sentence whenever possible or not otherwise instructed.\n",
    "    - Don't ramble.\n",
    "    \"\"\"\n",
    ")"
   ]
  },
  {
   "cell_type": "code",
   "execution_count": 4,
   "metadata": {},
   "outputs": [
    {
     "data": {
      "application/vnd.jupyter.widget-view+json": {
       "model_id": "0a782009ecb54a48a743b16e329e2674",
       "version_major": 2,
       "version_minor": 0
      },
      "text/plain": [
       "Warmup (1/10):   0%|          | 0/20 [00:00<?, ?it/s]"
      ]
     },
     "metadata": {},
     "output_type": "display_data"
    },
    {
     "data": {
      "application/vnd.jupyter.widget-view+json": {
       "model_id": "256b1da6b2fe4c4db4d6583ad52fcf37",
       "version_major": 2,
       "version_minor": 0
      },
      "text/plain": [
       "Warmup (2/10):   0%|          | 0/20 [00:00<?, ?it/s]"
      ]
     },
     "metadata": {},
     "output_type": "display_data"
    },
    {
     "data": {
      "application/vnd.jupyter.widget-view+json": {
       "model_id": "3cc19ee3e1de4559b90df131041742bb",
       "version_major": 2,
       "version_minor": 0
      },
      "text/plain": [
       "Warmup (3/10):   0%|          | 0/20 [00:00<?, ?it/s]"
      ]
     },
     "metadata": {},
     "output_type": "display_data"
    },
    {
     "data": {
      "application/vnd.jupyter.widget-view+json": {
       "model_id": "622f9c2e95c24bdf8dc5e3c551a16878",
       "version_major": 2,
       "version_minor": 0
      },
      "text/plain": [
       "Warmup (4/10):   0%|          | 0/20 [00:00<?, ?it/s]"
      ]
     },
     "metadata": {},
     "output_type": "display_data"
    },
    {
     "data": {
      "application/vnd.jupyter.widget-view+json": {
       "model_id": "882e244a02a94683b41165f47b944e8a",
       "version_major": 2,
       "version_minor": 0
      },
      "text/plain": [
       "Warmup (5/10):   0%|          | 0/20 [00:00<?, ?it/s]"
      ]
     },
     "metadata": {},
     "output_type": "display_data"
    },
    {
     "data": {
      "application/vnd.jupyter.widget-view+json": {
       "model_id": "35e2eae25f6048fca754ce8b4404e4a9",
       "version_major": 2,
       "version_minor": 0
      },
      "text/plain": [
       "Warmup (6/10):   0%|          | 0/20 [00:00<?, ?it/s]"
      ]
     },
     "metadata": {},
     "output_type": "display_data"
    },
    {
     "data": {
      "application/vnd.jupyter.widget-view+json": {
       "model_id": "2c306d5c3d6a4cf0966c121bd99df405",
       "version_major": 2,
       "version_minor": 0
      },
      "text/plain": [
       "Warmup (7/10):   0%|          | 0/20 [00:00<?, ?it/s]"
      ]
     },
     "metadata": {},
     "output_type": "display_data"
    },
    {
     "data": {
      "application/vnd.jupyter.widget-view+json": {
       "model_id": "21513a6bc10a4d34a1ed1cd6c8d62658",
       "version_major": 2,
       "version_minor": 0
      },
      "text/plain": [
       "Warmup (8/10):   0%|          | 0/20 [00:00<?, ?it/s]"
      ]
     },
     "metadata": {},
     "output_type": "display_data"
    },
    {
     "data": {
      "application/vnd.jupyter.widget-view+json": {
       "model_id": "68001e6737a24634bf021ba844c40e15",
       "version_major": 2,
       "version_minor": 0
      },
      "text/plain": [
       "Warmup (9/10):   0%|          | 0/20 [00:00<?, ?it/s]"
      ]
     },
     "metadata": {},
     "output_type": "display_data"
    },
    {
     "data": {
      "application/vnd.jupyter.widget-view+json": {
       "model_id": "f897942a8af7462480495b99e82b9dad",
       "version_major": 2,
       "version_minor": 0
      },
      "text/plain": [
       "Warmup (10/10):   0%|          | 0/20 [00:00<?, ?it/s]"
      ]
     },
     "metadata": {},
     "output_type": "display_data"
    }
   ],
   "source": [
    "session = ll.chat.session(system_prompt=system_prompt, warmup_tokens=20)"
   ]
  },
  {
   "cell_type": "markdown",
   "metadata": {},
   "source": [
    "# Prompts"
   ]
  },
  {
   "cell_type": "code",
   "execution_count": 5,
   "metadata": {},
   "outputs": [],
   "source": [
    "prompt_pool = (\n",
    "    \"Why sky is blue?\",\n",
    "    \"How stars are formed?\",\n",
    "    \"Can animals feel emotions?\",\n",
    "    \"What causes economic inflation?\",\n",
    "    \"How computers understand language?\",\n",
    "    \"Why people dream nightly?\",\n",
    "    \"Are aliens actually real?\",\n",
    "    \"What defines true intelligence?\",\n",
    "    \"How memory actually works?\",\n",
    "    \"Why seasons change yearly?\",\n",
    "    \"Can AI experience consciousness?\",\n",
    "    \"How vaccines protect health?\",\n",
    "    \"Why mountains form naturally?\",\n",
    "    \"What determines musical talent?\",\n",
    "    \"How species become extinct?\",\n",
    "    \"Why oceans appear blue?\",\n",
    "    \"What causes thunder sounds?\",\n",
    "    \"How languages naturally evolve?\",\n",
    "    \"Why humans need sleep?\",\n",
    "    \"What makes diamonds valuable?\"\n",
    ")"
   ]
  },
  {
   "cell_type": "code",
   "execution_count": 6,
   "metadata": {},
   "outputs": [],
   "source": [
    "# Verify all messages have same length\n",
    "values = []\n",
    "for content in prompt_pool:\n",
    "    prompt = ll.chat.render_prompt([Message(role=\"user\", content=content)])\n",
    "    token_ids, position_mask = session.tokenizer.encode(prompt)\n",
    "    values.append(token_ids.shape[-1])\n",
    "assert all(v == values[0] for v in values)"
   ]
  },
  {
   "cell_type": "markdown",
   "metadata": {},
   "source": [
    "# Basic Scenario"
   ]
  },
  {
   "cell_type": "code",
   "execution_count": 7,
   "metadata": {},
   "outputs": [
    {
     "data": {
      "text/plain": [
       "['What defines true intelligence?',\n",
       " 'How languages naturally evolve?',\n",
       " 'What causes thunder sounds?']"
      ]
     },
     "execution_count": 7,
     "metadata": {},
     "output_type": "execute_result"
    }
   ],
   "source": [
    "data = {}\n",
    "\n",
    "prompts = sample(prompt_pool, k=3)\n",
    "prompts"
   ]
  },
  {
   "cell_type": "code",
   "execution_count": 8,
   "metadata": {},
   "outputs": [
    {
     "data": {
      "application/vnd.jupyter.widget-view+json": {
       "model_id": "87f15c413b7a4591b769f2eb44c774f9",
       "version_major": 2,
       "version_minor": 0
      },
      "text/plain": [
       "Output()"
      ]
     },
     "metadata": {},
     "output_type": "display_data"
    },
    {
     "data": {
      "text/html": [
       "<pre style=\"white-space:pre;overflow-x:auto;line-height:normal;font-family:Menlo,'DejaVu Sans Mono',consolas,'Courier New',monospace\"></pre>\n"
      ],
      "text/plain": []
     },
     "metadata": {},
     "output_type": "display_data"
    }
   ],
   "source": [
    "# Cold\n",
    "prompt = prompts[0]\n",
    "\n",
    "with ll.render.token_view(prompt=prompt) as view:\n",
    "    for event in ll.chat.complete(session, messages=[{\"role\": \"user\", \"content\": prompt}], stream=True):\n",
    "        if event.delta:\n",
    "            view.add_token(event.delta)\n",
    "    \n",
    "    data[\"cold\"] = view.tps"
   ]
  },
  {
   "cell_type": "code",
   "execution_count": 10,
   "metadata": {},
   "outputs": [
    {
     "data": {
      "application/vnd.jupyter.widget-view+json": {
       "model_id": "49df829875444410b9e8c5550022515c",
       "version_major": 2,
       "version_minor": 0
      },
      "text/plain": [
       "Output()"
      ]
     },
     "metadata": {},
     "output_type": "display_data"
    },
    {
     "data": {
      "text/html": [
       "<pre style=\"white-space:pre;overflow-x:auto;line-height:normal;font-family:Menlo,'DejaVu Sans Mono',consolas,'Courier New',monospace\"></pre>\n"
      ],
      "text/plain": []
     },
     "metadata": {},
     "output_type": "display_data"
    }
   ],
   "source": [
    "# p0\n",
    "prompt = prompts[0]\n",
    "\n",
    "with ll.render.token_view(prompt=prompt) as view:\n",
    "    for event in ll.chat.complete(session, messages=[{\"role\": \"user\", \"content\": prompt}], stream=True):\n",
    "        if event.delta:\n",
    "            view.add_token(event.delta)\n",
    "    \n",
    "    data[\"p0\"] = view.tps"
   ]
  },
  {
   "cell_type": "code",
   "execution_count": 11,
   "metadata": {},
   "outputs": [
    {
     "data": {
      "application/vnd.jupyter.widget-view+json": {
       "model_id": "97eefe8605cd41648d6a85895f9aeedf",
       "version_major": 2,
       "version_minor": 0
      },
      "text/plain": [
       "Output()"
      ]
     },
     "metadata": {},
     "output_type": "display_data"
    },
    {
     "data": {
      "text/html": [
       "<pre style=\"white-space:pre;overflow-x:auto;line-height:normal;font-family:Menlo,'DejaVu Sans Mono',consolas,'Courier New',monospace\"></pre>\n"
      ],
      "text/plain": []
     },
     "metadata": {},
     "output_type": "display_data"
    }
   ],
   "source": [
    "# p1\n",
    "prompt = prompts[1]\n",
    "\n",
    "with ll.render.token_view(prompt=prompt) as view:\n",
    "    for event in ll.chat.complete(session, messages=[{\"role\": \"user\", \"content\": prompt}], stream=True):\n",
    "        if event.delta:\n",
    "            view.add_token(event.delta)\n",
    "    \n",
    "    data[\"p1\"] = view.tps"
   ]
  },
  {
   "cell_type": "code",
   "execution_count": 12,
   "metadata": {},
   "outputs": [
    {
     "data": {
      "application/vnd.jupyter.widget-view+json": {
       "model_id": "b88ce466428a47b28f4aab449df6b2fb",
       "version_major": 2,
       "version_minor": 0
      },
      "text/plain": [
       "Output()"
      ]
     },
     "metadata": {},
     "output_type": "display_data"
    },
    {
     "data": {
      "text/html": [
       "<pre style=\"white-space:pre;overflow-x:auto;line-height:normal;font-family:Menlo,'DejaVu Sans Mono',consolas,'Courier New',monospace\"></pre>\n"
      ],
      "text/plain": []
     },
     "metadata": {},
     "output_type": "display_data"
    }
   ],
   "source": [
    "# p2\n",
    "prompt = prompts[2]\n",
    "\n",
    "with ll.render.token_view(prompt=prompt) as view:\n",
    "    for event in ll.chat.complete(session, messages=[{\"role\": \"user\", \"content\": prompt}], stream=True):\n",
    "        if event.delta:\n",
    "            view.add_token(event.delta)\n",
    "    \n",
    "    data[\"p2\"] = view.tps"
   ]
  },
  {
   "cell_type": "code",
   "execution_count": 13,
   "metadata": {},
   "outputs": [
    {
     "data": {
      "text/plain": [
       "[Text(0.5, 1.0, 'TPS')]"
      ]
     },
     "execution_count": 13,
     "metadata": {},
     "output_type": "execute_result"
    },
    {
     "data": {
      "image/png": "[encoded data removed]",
      "text/plain": [
       "<Figure size 640x480 with 1 Axes>"
      ]
     },
     "metadata": {},
     "output_type": "display_data"
    }
   ],
   "source": [
    "fig, ax = plt.subplots()\n",
    "ax.bar(data.keys(), data.values())\n",
    "ax.set(title=f\"TPS\")"
   ]
  },
  {
   "cell_type": "code",
   "execution_count": null,
   "metadata": {},
   "outputs": [],
   "source": []
  }
 ],
 "metadata": {
  "kernelspec": {
   "display_name": ".venv",
   "language": "python",
   "name": "python3"
  },
  "language_info": {
   "codemirror_mode": {
    "name": "ipython",
    "version": 3
   },
   "file_extension": ".py",
   "mimetype": "text/x-python",
   "name": "python",
   "nbconvert_exporter": "python",
   "pygments_lexer": "ipython3",
   "version": "3.12.8"
  }
 },
 "nbformat": 4,
 "nbformat_minor": 4
}
