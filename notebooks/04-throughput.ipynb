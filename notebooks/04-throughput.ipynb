{
 "cells": [
  {
   "cell_type": "markdown",
   "metadata": {},
   "source": [
    "# Throughput: Measuring Chat Completion Throughput w/ TPS"
   ]
  },
  {
   "cell_type": "markdown",
   "metadata": {},
   "source": [
    "# Setup"
   ]
  },
  {
   "cell_type": "code",
   "execution_count": 1,
   "metadata": {},
   "outputs": [
    {
     "name": "stderr",
     "output_type": "stream",
     "text": [
      "WARNING:2025-03-03 13:00:11,016:jax._src.xla_bridge:1000: Platform 'METAL' is experimental and not all JAX functionality may be correctly supported!\n"
     ]
    },
    {
     "name": "stdout",
     "output_type": "stream",
     "text": [
      "Metal device set to: Apple M1 Max\n",
      "\n",
      "systemMemory: 64.00 GB\n",
      "maxCacheSize: 24.00 GB\n",
      "\n"
     ]
    },
    {
     "name": "stderr",
     "output_type": "stream",
     "text": [
      "WARNING: All log messages before absl::InitializeLog() is called are written to STDERR\n",
      "W0000 00:00:1741024811.016571 11879713 mps_client.cc:510] WARNING: JAX Apple GPU support is experimental and not all JAX functionality is correctly supported!\n",
      "I0000 00:00:1741024811.033466 11879713 service.cc:145] XLA service 0x137b6a3a0 initialized for platform METAL (this does not guarantee that XLA will be used). Devices:\n",
      "I0000 00:00:1741024811.033477 11879713 service.cc:153]   StreamExecutor device (0): Metal, <undefined>\n",
      "I0000 00:00:1741024811.034969 11879713 mps_client.cc:406] Using Simple allocator.\n",
      "I0000 00:00:1741024811.034984 11879713 mps_client.cc:384] XLA backend will use up to 51539214336 bytes on device 0 for SimpleAllocator.\n"
     ]
    }
   ],
   "source": [
    "from random import sample\n",
    "from time import perf_counter_ns as seed\n",
    "\n",
    "from jax import random\n",
    "from matplotlib import pyplot as plt\n",
    "\n",
    "import llama_jax as ll\n",
    "from llama_jax.chat import Message"
   ]
  },
  {
   "cell_type": "code",
   "execution_count": 2,
   "metadata": {},
   "outputs": [],
   "source": [
    "key = random.key(seed())"
   ]
  },
  {
   "cell_type": "markdown",
   "metadata": {},
   "source": [
    "# Session"
   ]
  },
  {
   "cell_type": "code",
   "execution_count": 3,
   "metadata": {},
   "outputs": [],
   "source": [
    "system_prompt = ll.tools.prompt(\n",
    "    \"\"\"\n",
    "    You're answering a basic set of questions as part of an LLM test suite.\n",
    "\n",
    "    - All of your responses should be formatted as markdown.\n",
    "    - Answer in a single sentence whenever possible or not otherwise instructed.\n",
    "    - Don't ramble.\n",
    "    \"\"\"\n",
    ")"
   ]
  },
  {
   "cell_type": "code",
   "execution_count": 4,
   "metadata": {},
   "outputs": [
    {
     "data": {
      "application/vnd.jupyter.widget-view+json": {
       "model_id": "852a2adcbbe64f828284e8badbb7ce29",
       "version_major": 2,
       "version_minor": 0
      },
      "text/plain": [
       "Warmup (1/10):   0%|          | 0/20 [00:00<?, ?it/s]"
      ]
     },
     "metadata": {},
     "output_type": "display_data"
    },
    {
     "data": {
      "application/vnd.jupyter.widget-view+json": {
       "model_id": "5e1bb332607b4677a7c14442bee5864b",
       "version_major": 2,
       "version_minor": 0
      },
      "text/plain": [
       "Warmup (2/10):   0%|          | 0/20 [00:00<?, ?it/s]"
      ]
     },
     "metadata": {},
     "output_type": "display_data"
    },
    {
     "data": {
      "application/vnd.jupyter.widget-view+json": {
       "model_id": "c66500c02e1e43b7af9d4635fa737753",
       "version_major": 2,
       "version_minor": 0
      },
      "text/plain": [
       "Warmup (3/10):   0%|          | 0/20 [00:00<?, ?it/s]"
      ]
     },
     "metadata": {},
     "output_type": "display_data"
    },
    {
     "data": {
      "application/vnd.jupyter.widget-view+json": {
       "model_id": "8088bbe1ac7742e3bee79df6666cc3db",
       "version_major": 2,
       "version_minor": 0
      },
      "text/plain": [
       "Warmup (4/10):   0%|          | 0/20 [00:00<?, ?it/s]"
      ]
     },
     "metadata": {},
     "output_type": "display_data"
    },
    {
     "data": {
      "application/vnd.jupyter.widget-view+json": {
       "model_id": "8afb2fd929d942e9ac583d0a51582158",
       "version_major": 2,
       "version_minor": 0
      },
      "text/plain": [
       "Warmup (5/10):   0%|          | 0/20 [00:00<?, ?it/s]"
      ]
     },
     "metadata": {},
     "output_type": "display_data"
    },
    {
     "data": {
      "application/vnd.jupyter.widget-view+json": {
       "model_id": "694599c6923544be9d6790a2299ec8dd",
       "version_major": 2,
       "version_minor": 0
      },
      "text/plain": [
       "Warmup (6/10):   0%|          | 0/20 [00:00<?, ?it/s]"
      ]
     },
     "metadata": {},
     "output_type": "display_data"
    },
    {
     "data": {
      "application/vnd.jupyter.widget-view+json": {
       "model_id": "4f727828e96143b79124b816e666de2c",
       "version_major": 2,
       "version_minor": 0
      },
      "text/plain": [
       "Warmup (7/10):   0%|          | 0/20 [00:00<?, ?it/s]"
      ]
     },
     "metadata": {},
     "output_type": "display_data"
    },
    {
     "data": {
      "application/vnd.jupyter.widget-view+json": {
       "model_id": "c7633d92641f4458a6828ef6dca6363c",
       "version_major": 2,
       "version_minor": 0
      },
      "text/plain": [
       "Warmup (8/10):   0%|          | 0/20 [00:00<?, ?it/s]"
      ]
     },
     "metadata": {},
     "output_type": "display_data"
    },
    {
     "data": {
      "application/vnd.jupyter.widget-view+json": {
       "model_id": "612a202714d242f8b05513ad871998cb",
       "version_major": 2,
       "version_minor": 0
      },
      "text/plain": [
       "Warmup (9/10):   0%|          | 0/20 [00:00<?, ?it/s]"
      ]
     },
     "metadata": {},
     "output_type": "display_data"
    },
    {
     "data": {
      "application/vnd.jupyter.widget-view+json": {
       "model_id": "e36bdae85ecf474692258f951084ef8d",
       "version_major": 2,
       "version_minor": 0
      },
      "text/plain": [
       "Warmup (10/10):   0%|          | 0/20 [00:00<?, ?it/s]"
      ]
     },
     "metadata": {},
     "output_type": "display_data"
    }
   ],
   "source": [
    "session = ll.chat.session(system_prompt=system_prompt, warmup_tokens=20)"
   ]
  },
  {
   "cell_type": "markdown",
   "metadata": {},
   "source": [
    "# Prompts"
   ]
  },
  {
   "cell_type": "code",
   "execution_count": 5,
   "metadata": {},
   "outputs": [],
   "source": [
    "prompt_pool = (\n",
    "    \"Why sky is blue?\",\n",
    "    \"How stars are formed?\",\n",
    "    \"Can animals feel emotions?\",\n",
    "    \"What causes economic inflation?\",\n",
    "    \"How computers understand language?\",\n",
    "    \"Why people dream nightly?\",\n",
    "    \"Are aliens actually real?\",\n",
    "    \"What defines true intelligence?\",\n",
    "    \"How memory actually works?\",\n",
    "    \"Why seasons change yearly?\",\n",
    "    \"Can AI experience consciousness?\",\n",
    "    \"How vaccines protect health?\",\n",
    "    \"Why mountains form naturally?\",\n",
    "    \"What determines musical talent?\",\n",
    "    \"How species become extinct?\",\n",
    "    \"Why oceans appear blue?\",\n",
    "    \"What causes thunder sounds?\",\n",
    "    \"How languages naturally evolve?\",\n",
    "    \"Why humans need sleep?\",\n",
    "    \"What makes diamonds valuable?\"\n",
    ")"
   ]
  },
  {
   "cell_type": "code",
   "execution_count": 6,
   "metadata": {},
   "outputs": [],
   "source": [
    "# Verify all messages have same length\n",
    "values = []\n",
    "for content in prompt_pool:\n",
    "    prompt = ll.chat.render_prompt([Message(role=\"user\", content=content)])\n",
    "    token_ids, position_mask = session.tokenizer.encode(prompt)\n",
    "    values.append(token_ids.shape[-1])\n",
    "assert all(v == values[0] for v in values)"
   ]
  },
  {
   "cell_type": "markdown",
   "metadata": {},
   "source": [
    "# Basic Scenario"
   ]
  },
  {
   "cell_type": "code",
   "execution_count": 7,
   "metadata": {},
   "outputs": [
    {
     "data": {
      "text/plain": [
       "['Why people dream nightly?',\n",
       " 'Why mountains form naturally?',\n",
       " 'How languages naturally evolve?']"
      ]
     },
     "execution_count": 7,
     "metadata": {},
     "output_type": "execute_result"
    }
   ],
   "source": [
    "data = {}\n",
    "\n",
    "prompts = sample(prompt_pool, k=3)\n",
    "prompts"
   ]
  },
  {
   "cell_type": "code",
   "execution_count": 8,
   "metadata": {},
   "outputs": [
    {
     "data": {
      "application/vnd.jupyter.widget-view+json": {
       "model_id": "d2b2c21d9b634172b564c3f0e4b6bc8f",
       "version_major": 2,
       "version_minor": 0
      },
      "text/plain": [
       "Output()"
      ]
     },
     "metadata": {},
     "output_type": "display_data"
    },
    {
     "data": {
      "text/html": [
       "<pre style=\"white-space:pre;overflow-x:auto;line-height:normal;font-family:Menlo,'DejaVu Sans Mono',consolas,'Courier New',monospace\"></pre>\n"
      ],
      "text/plain": []
     },
     "metadata": {},
     "output_type": "display_data"
    }
   ],
   "source": [
    "# Cold\n",
    "prompt = prompts[0]\n",
    "\n",
    "key, subkey = random.split(key)\n",
    "with ll.render.token_view(session.config, prompt) as view:\n",
    "    for token in ll.chat.complete(session, content=prompt, key=subkey):\n",
    "        view.add_token(token)\n",
    "    \n",
    "    data[\"cold\"] = view.tps"
   ]
  },
  {
   "cell_type": "code",
   "execution_count": 9,
   "metadata": {},
   "outputs": [
    {
     "data": {
      "application/vnd.jupyter.widget-view+json": {
       "model_id": "d7c647cfce574bf88fc661507361ab4f",
       "version_major": 2,
       "version_minor": 0
      },
      "text/plain": [
       "Output()"
      ]
     },
     "metadata": {},
     "output_type": "display_data"
    },
    {
     "data": {
      "text/html": [
       "<pre style=\"white-space:pre;overflow-x:auto;line-height:normal;font-family:Menlo,'DejaVu Sans Mono',consolas,'Courier New',monospace\"></pre>\n"
      ],
      "text/plain": []
     },
     "metadata": {},
     "output_type": "display_data"
    }
   ],
   "source": [
    "# p0\n",
    "prompt = prompts[0]\n",
    "\n",
    "key, subkey = random.split(key)\n",
    "with ll.render.token_view(session.config, prompt) as view:\n",
    "    for token in ll.chat.complete(session, content=prompt, key=subkey):\n",
    "        view.add_token(token)\n",
    "    \n",
    "    data[\"p0\"] = view.tps"
   ]
  },
  {
   "cell_type": "code",
   "execution_count": 10,
   "metadata": {},
   "outputs": [
    {
     "data": {
      "application/vnd.jupyter.widget-view+json": {
       "model_id": "43ca4651ddeb4a8980143d64d3ec27c9",
       "version_major": 2,
       "version_minor": 0
      },
      "text/plain": [
       "Output()"
      ]
     },
     "metadata": {},
     "output_type": "display_data"
    },
    {
     "data": {
      "text/html": [
       "<pre style=\"white-space:pre;overflow-x:auto;line-height:normal;font-family:Menlo,'DejaVu Sans Mono',consolas,'Courier New',monospace\"></pre>\n"
      ],
      "text/plain": []
     },
     "metadata": {},
     "output_type": "display_data"
    }
   ],
   "source": [
    "# p1\n",
    "prompt = prompts[1]\n",
    "\n",
    "key, subkey = random.split(key)\n",
    "with ll.render.token_view(session.config, prompt) as view:\n",
    "    for token in ll.chat.complete(session, content=prompt, key=subkey):\n",
    "        view.add_token(token)\n",
    "    \n",
    "    data[\"p1\"] = view.tps"
   ]
  },
  {
   "cell_type": "code",
   "execution_count": 11,
   "metadata": {},
   "outputs": [
    {
     "data": {
      "application/vnd.jupyter.widget-view+json": {
       "model_id": "2c5de1b16f8a45a5894fb1a2c05d0fb6",
       "version_major": 2,
       "version_minor": 0
      },
      "text/plain": [
       "Output()"
      ]
     },
     "metadata": {},
     "output_type": "display_data"
    },
    {
     "data": {
      "text/html": [
       "<pre style=\"white-space:pre;overflow-x:auto;line-height:normal;font-family:Menlo,'DejaVu Sans Mono',consolas,'Courier New',monospace\"></pre>\n"
      ],
      "text/plain": []
     },
     "metadata": {},
     "output_type": "display_data"
    }
   ],
   "source": [
    "# p2\n",
    "prompt = prompts[2]\n",
    "\n",
    "key, subkey = random.split(key)\n",
    "with ll.render.token_view(session.config, prompt) as view:\n",
    "    for token in ll.chat.complete(session, content=prompt, key=subkey):\n",
    "        view.add_token(token)\n",
    "    \n",
    "    data[\"p2\"] = view.tps"
   ]
  },
  {
   "cell_type": "code",
   "execution_count": 12,
   "metadata": {},
   "outputs": [
    {
     "data": {
      "text/plain": [
       "[Text(0.5, 1.0, 'TPS')]"
      ]
     },
     "execution_count": 12,
     "metadata": {},
     "output_type": "execute_result"
    },
    {
     "data": {
      "image/png": "[encoded data removed]",
      "text/plain": [
       "<Figure size 640x480 with 1 Axes>"
      ]
     },
     "metadata": {},
     "output_type": "display_data"
    }
   ],
   "source": [
    "fig, ax = plt.subplots()\n",
    "ax.bar(data.keys(), data.values())\n",
    "ax.set(title=f\"TPS\")"
   ]
  },
  {
   "cell_type": "code",
   "execution_count": null,
   "metadata": {},
   "outputs": [],
   "source": []
  }
 ],
 "metadata": {
  "kernelspec": {
   "display_name": ".venv",
   "language": "python",
   "name": "python3"
  },
  "language_info": {
   "codemirror_mode": {
    "name": "ipython",
    "version": 3
   },
   "file_extension": ".py",
   "mimetype": "text/x-python",
   "name": "python",
   "nbconvert_exporter": "python",
   "pygments_lexer": "ipython3",
   "version": "3.12.8"
  }
 },
 "nbformat": 4,
 "nbformat_minor": 4
}
