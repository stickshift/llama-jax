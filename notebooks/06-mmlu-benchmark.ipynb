{
 "cells": [
  {
   "cell_type": "markdown",
   "id": "cfb350ef-d055-4961-82c4-bda4cee91875",
   "metadata": {},
   "source": [
    "# MMLU Benchmark"
   ]
  },
  {
   "cell_type": "markdown",
   "id": "1b2791cc-70b9-423c-b3b4-4aad5cc30f5b",
   "metadata": {},
   "source": [
    "[Massive Multitask Language Understanding (MMLU)](https://github.com/hendrycks/test) is a popular benchmark for evaluating language models' world knowledge and problem solving abilities. The MMLU dataset contains 14,042 multiple choice questions (MCQs) from 57 categories including mathematics, history, biology, and business. Each question has 4 options (A, B, C, D) and one correct answer. In addition, each category includes 5 example questions designed for few shot experiments. When MMLU was first published in 2020, only the largest GPT models could do better than random guessing. By 2024, multiple models from OpenAI, Anthropic, Meta, and Tencent have all published MMLU accuracies over 88%.\n",
    "\n",
    "Our goal is to approach Meta's published MMLU benchmark scores:\n",
    "\n",
    "* MMLU of Llama 3.2 3B of 58% ([MODEL CARD](https://github.com/meta-llama/llama-models/blob/main/models/llama3_2/MODEL_CARD.md))"
   ]
  },
  {
   "cell_type": "markdown",
   "id": "7449436a-8739-4db8-8075-b748a9503dd8",
   "metadata": {},
   "source": [
    "# Setup"
   ]
  },
  {
   "cell_type": "code",
   "execution_count": 1,
   "id": "a22db0fd-1533-4596-a128-569f145eb5f4",
   "metadata": {},
   "outputs": [],
   "source": [
    "import os\n",
    "from pathlib import Path\n",
    "from random import sample\n",
    "from time import perf_counter_ns as timer\n",
    "\n",
    "import jax\n",
    "import rich\n",
    "from rich.columns import Columns\n",
    "from matplotlib import pyplot as plt\n",
    "import numpy as np\n",
    "from tqdm.auto import trange, tqdm\n",
    "import seaborn as sns\n",
    "\n",
    "import llama_jax as ll\n",
    "from llama_jax.benchmarks.mmlu import (\n",
    "    display_questions,\n",
    "    download_dataset, \n",
    "    load_dataset,\n",
    "    evaluate_generator,\n",
    "    generate_prompt,\n",
    ")"
   ]
  },
  {
   "cell_type": "code",
   "execution_count": 2,
   "id": "2c82e314",
   "metadata": {},
   "outputs": [
    {
     "name": "stderr",
     "output_type": "stream",
     "text": [
      "WARNING:2025-02-23 16:59:48,195:jax._src.xla_bridge:1000: Platform 'METAL' is experimental and not all JAX functionality may be correctly supported!\n"
     ]
    },
    {
     "name": "stdout",
     "output_type": "stream",
     "text": [
      "Metal device set to: Apple M1 Max\n",
      "\n",
      "systemMemory: 64.00 GB\n",
      "maxCacheSize: 24.00 GB\n",
      "\n",
      "Available devices: [METAL(id=0)]\n"
     ]
    },
    {
     "name": "stderr",
     "output_type": "stream",
     "text": [
      "WARNING: All log messages before absl::InitializeLog() is called are written to STDERR\n",
      "W0000 00:00:1740347988.195523  193355 mps_client.cc:510] WARNING: JAX Apple GPU support is experimental and not all JAX functionality is correctly supported!\n",
      "I0000 00:00:1740347988.207480  193355 service.cc:145] XLA service 0x12daf37f0 initialized for platform METAL (this does not guarantee that XLA will be used). Devices:\n",
      "I0000 00:00:1740347988.207488  193355 service.cc:153]   StreamExecutor device (0): Metal, <undefined>\n",
      "I0000 00:00:1740347988.208811  193355 mps_client.cc:406] Using Simple allocator.\n",
      "I0000 00:00:1740347988.208824  193355 mps_client.cc:384] XLA backend will use up to 51539214336 bytes on device 0 for SimpleAllocator.\n"
     ]
    }
   ],
   "source": [
    "print(f\"Available devices: {jax.devices()}\")"
   ]
  },
  {
   "cell_type": "code",
   "execution_count": 3,
   "id": "8f86ceb5-e601-492c-ac53-1b0a0331d769",
   "metadata": {},
   "outputs": [],
   "source": [
    "# Configure\n",
    "datasets_path = Path(os.environ[\"PROJECT_ROOT\"]) / \"build\" / \"datasets\"\n",
    "mmlu_dataset_path = datasets_path / \"mmlu\""
   ]
  },
  {
   "cell_type": "markdown",
   "id": "9892a410-df36-4c3e-a9af-9360d3ec66bd",
   "metadata": {},
   "source": [
    "# Dataset"
   ]
  },
  {
   "cell_type": "code",
   "execution_count": 4,
   "id": "eae9f228-637e-44c0-832b-52c36952e2a9",
   "metadata": {},
   "outputs": [],
   "source": [
    "download_dataset(mmlu_dataset_path)"
   ]
  },
  {
   "cell_type": "code",
   "execution_count": 5,
   "id": "a0f4a43a-1caf-4ab8-b48e-de18d40c23cd",
   "metadata": {},
   "outputs": [
    {
     "name": "stdout",
     "output_type": "stream",
     "text": [
      "Loaded 14042 questions, 285 examples, 57 categories\n"
     ]
    }
   ],
   "source": [
    "dataset = load_dataset(mmlu_dataset_path)\n",
    "print(f\"Loaded {len(dataset.questions)} questions, {len(dataset.examples)} examples, {len(dataset.categories)} categories\")"
   ]
  },
  {
   "cell_type": "code",
   "execution_count": 6,
   "id": "e3475474-6d21-49ff-aef8-1561f6082841",
   "metadata": {},
   "outputs": [
    {
     "data": {
      "text/html": [
       "<div>\n",
       "<style scoped>\n",
       "    .dataframe tbody tr th:only-of-type {\n",
       "        vertical-align: middle;\n",
       "    }\n",
       "\n",
       "    .dataframe tbody tr th {\n",
       "        vertical-align: top;\n",
       "    }\n",
       "\n",
       "    .dataframe thead th {\n",
       "        text-align: right;\n",
       "    }\n",
       "</style>\n",
       "<table border=\"1\" class=\"dataframe\">\n",
       "  <thead>\n",
       "    <tr style=\"text-align: right;\">\n",
       "      <th></th>\n",
       "      <th>qid</th>\n",
       "      <th>category</th>\n",
       "      <th>question</th>\n",
       "      <th>A</th>\n",
       "      <th>B</th>\n",
       "      <th>C</th>\n",
       "      <th>D</th>\n",
       "      <th>answer</th>\n",
       "    </tr>\n",
       "  </thead>\n",
       "  <tbody>\n",
       "    <tr>\n",
       "      <th>0</th>\n",
       "      <td>13157</td>\n",
       "      <td>public relations</td>\n",
       "      <td>According to Esman (1972), which publics help ...</td>\n",
       "      <td>Enabling</td>\n",
       "      <td>Functional</td>\n",
       "      <td>Normative</td>\n",
       "      <td>Diffused</td>\n",
       "      <td>A</td>\n",
       "    </tr>\n",
       "    <tr>\n",
       "      <th>1</th>\n",
       "      <td>9615</td>\n",
       "      <td>nutrition</td>\n",
       "      <td>Water transport can occur from the lumen of th...</td>\n",
       "      <td>A \"flip-flop\" mechanism efficiently transports...</td>\n",
       "      <td>Water flows into the gut from the mucosa, duri...</td>\n",
       "      <td>Water is mostly absorbed by movement between t...</td>\n",
       "      <td>Dietary intake of water is always greater than...</td>\n",
       "      <td>B</td>\n",
       "    </tr>\n",
       "    <tr>\n",
       "      <th>2</th>\n",
       "      <td>962</td>\n",
       "      <td>college chemistry</td>\n",
       "      <td>The dissociation energy for a hydrogen-bromine...</td>\n",
       "      <td>2 HBr(g) → H2(g) + Br2(l)</td>\n",
       "      <td>HBr(g) → H+(g) + Br−(g)</td>\n",
       "      <td>H(g) + Br(g) → HBr(g)</td>\n",
       "      <td>HBr(g) → H(g) + Br(g)</td>\n",
       "      <td>D</td>\n",
       "    </tr>\n",
       "    <tr>\n",
       "      <th>3</th>\n",
       "      <td>5945</td>\n",
       "      <td>high school world history</td>\n",
       "      <td>This question refers to the following informat...</td>\n",
       "      <td>The discovery of certain goods that the Chines...</td>\n",
       "      <td>Enlightenment revolutions in Europe and the Am...</td>\n",
       "      <td>The Industrial Revolution</td>\n",
       "      <td>The colonization of Africa</td>\n",
       "      <td>A</td>\n",
       "    </tr>\n",
       "    <tr>\n",
       "      <th>4</th>\n",
       "      <td>11361</td>\n",
       "      <td>professional law</td>\n",
       "      <td>Farmer Fred was the owner of Grapeview Farm, t...</td>\n",
       "      <td>Insufficient, because it is too vague.</td>\n",
       "      <td>Sufficient, because it satisfies the title of ...</td>\n",
       "      <td>Sufficient, because the property can be identi...</td>\n",
       "      <td>Insufficient, because the gifts to the childre...</td>\n",
       "      <td>C</td>\n",
       "    </tr>\n",
       "  </tbody>\n",
       "</table>\n",
       "</div>"
      ],
      "text/plain": [
       "     qid                   category  \\\n",
       "0  13157           public relations   \n",
       "1   9615                  nutrition   \n",
       "2    962          college chemistry   \n",
       "3   5945  high school world history   \n",
       "4  11361           professional law   \n",
       "\n",
       "                                            question  \\\n",
       "0  According to Esman (1972), which publics help ...   \n",
       "1  Water transport can occur from the lumen of th...   \n",
       "2  The dissociation energy for a hydrogen-bromine...   \n",
       "3  This question refers to the following informat...   \n",
       "4  Farmer Fred was the owner of Grapeview Farm, t...   \n",
       "\n",
       "                                                   A  \\\n",
       "0                                           Enabling   \n",
       "1  A \"flip-flop\" mechanism efficiently transports...   \n",
       "2                          2 HBr(g) → H2(g) + Br2(l)   \n",
       "3  The discovery of certain goods that the Chines...   \n",
       "4             Insufficient, because it is too vague.   \n",
       "\n",
       "                                                   B  \\\n",
       "0                                         Functional   \n",
       "1  Water flows into the gut from the mucosa, duri...   \n",
       "2                            HBr(g) → H+(g) + Br−(g)   \n",
       "3  Enlightenment revolutions in Europe and the Am...   \n",
       "4  Sufficient, because it satisfies the title of ...   \n",
       "\n",
       "                                                   C  \\\n",
       "0                                          Normative   \n",
       "1  Water is mostly absorbed by movement between t...   \n",
       "2                              H(g) + Br(g) → HBr(g)   \n",
       "3                          The Industrial Revolution   \n",
       "4  Sufficient, because the property can be identi...   \n",
       "\n",
       "                                                   D answer  \n",
       "0                                           Diffused      A  \n",
       "1  Dietary intake of water is always greater than...      B  \n",
       "2                              HBr(g) → H(g) + Br(g)      D  \n",
       "3                         The colonization of Africa      A  \n",
       "4  Insufficient, because the gifts to the childre...      C  "
      ]
     },
     "metadata": {},
     "output_type": "display_data"
    }
   ],
   "source": [
    "# Display sample\n",
    "display_questions(dataset.questions)"
   ]
  },
  {
   "cell_type": "markdown",
   "id": "ed5a7e7f",
   "metadata": {},
   "source": [
    "# Model"
   ]
  },
  {
   "cell_type": "code",
   "execution_count": 7,
   "id": "f589abdf",
   "metadata": {},
   "outputs": [],
   "source": [
    "checkpoint = \"Llama3.2-3B-Instruct\"\n",
    "max_tokens = 4096"
   ]
  },
  {
   "cell_type": "code",
   "execution_count": 8,
   "id": "f98336b9",
   "metadata": {},
   "outputs": [],
   "source": [
    "config = ll.checkpoint.load_config(checkpoint, max_tokens=max_tokens)\n",
    "params = ll.checkpoint.load_parameters(config)\n",
    "model = ll.model.create(config, params)"
   ]
  },
  {
   "cell_type": "code",
   "execution_count": 9,
   "id": "fc5ccd06",
   "metadata": {},
   "outputs": [
    {
     "data": {
      "text/plain": [
       "(Answer(qid=10806, expected='D', actual='A', scores={'A': 0.62890625, 'B': 0.08544921875, 'C': 0.0517578125, 'D': 0.2314453125}, correct=False),)"
      ]
     },
     "execution_count": 9,
     "metadata": {},
     "output_type": "execute_result"
    }
   ],
   "source": [
    "sample_question = sample(dataset.questions, k=1)[0]\n",
    "\n",
    "# Pre-compile model\n",
    "generator = ll.benchmarks.mmlu.generator(config, model=model)\n",
    "next(generator([sample_question]))"
   ]
  },
  {
   "cell_type": "markdown",
   "id": "6f87b7d3",
   "metadata": {},
   "source": [
    "# Categories\n",
    "\n",
    "Llama's MMLU score is reported in terms of macro_avg/acc_char. This means they calculate score for each category separately and then average them together."
   ]
  },
  {
   "cell_type": "code",
   "execution_count": 10,
   "id": "9635e9b0",
   "metadata": {},
   "outputs": [
    {
     "data": {
      "text/html": [
       "<pre style=\"white-space:pre;overflow-x:auto;line-height:normal;font-family:Menlo,'DejaVu Sans Mono',consolas,'Courier New',monospace\">abstract algebra             anatomy                   astronomy                          \n",
       "business ethics              clinical knowledge        college biology                    \n",
       "college chemistry            college computer science  college mathematics                \n",
       "college medicine             college physics           computer security                  \n",
       "conceptual physics           econometrics              electrical engineering             \n",
       "elementary mathematics       formal logic              global facts                       \n",
       "high school biology          high school chemistry     high school computer science       \n",
       "high school european history high school geography     high school government and politics\n",
       "high school macroeconomics   high school mathematics   high school microeconomics         \n",
       "high school physics          high school psychology    high school statistics             \n",
       "high school us history       high school world history human aging                        \n",
       "human sexuality              international law         jurisprudence                      \n",
       "logical fallacies            machine learning          management                         \n",
       "marketing                    medical genetics          miscellaneous                      \n",
       "moral disputes               moral scenarios           nutrition                          \n",
       "philosophy                   prehistory                professional accounting            \n",
       "professional law             professional medicine     professional psychology            \n",
       "public relations             security studies          sociology                          \n",
       "us foreign policy            virology                  world religions                    \n",
       "</pre>\n"
      ],
      "text/plain": [
       "abstract algebra             anatomy                   astronomy                          \n",
       "business ethics              clinical knowledge        college biology                    \n",
       "college chemistry            college computer science  college mathematics                \n",
       "college medicine             college physics           computer security                  \n",
       "conceptual physics           econometrics              electrical engineering             \n",
       "elementary mathematics       formal logic              global facts                       \n",
       "high school biology          high school chemistry     high school computer science       \n",
       "high school european history high school geography     high school government and politics\n",
       "high school macroeconomics   high school mathematics   high school microeconomics         \n",
       "high school physics          high school psychology    high school statistics             \n",
       "high school us history       high school world history human aging                        \n",
       "human sexuality              international law         jurisprudence                      \n",
       "logical fallacies            machine learning          management                         \n",
       "marketing                    medical genetics          miscellaneous                      \n",
       "moral disputes               moral scenarios           nutrition                          \n",
       "philosophy                   prehistory                professional accounting            \n",
       "professional law             professional medicine     professional psychology            \n",
       "public relations             security studies          sociology                          \n",
       "us foreign policy            virology                  world religions                    \n"
      ]
     },
     "metadata": {},
     "output_type": "display_data"
    }
   ],
   "source": [
    "categories = sorted(list(dataset.categories))\n",
    "\n",
    "rich.print(Columns(categories))"
   ]
  },
  {
   "cell_type": "code",
   "execution_count": 11,
   "id": "bdd630df",
   "metadata": {},
   "outputs": [
    {
     "data": {
      "text/html": [
       "<pre style=\"white-space:pre;overflow-x:auto;line-height:normal;font-family:Menlo,'DejaVu Sans Mono',consolas,'Courier New',monospace\">college biology     college computer science college physics econometrics     high school microeconomics\n",
       "high school physics marketing                moral scenarios public relations us foreign policy         \n",
       "</pre>\n"
      ],
      "text/plain": [
       "college biology     college computer science college physics econometrics     high school microeconomics\n",
       "high school physics marketing                moral scenarios public relations us foreign policy         \n"
      ]
     },
     "metadata": {},
     "output_type": "display_data"
    }
   ],
   "source": [
    "n_categories = 10\n",
    "selected_categories = sorted(sample(categories, k=n_categories))\n",
    "rich.print(Columns(selected_categories))\n",
    "\n",
    "# selected_categories = categories[:n_categories]"
   ]
  },
  {
   "cell_type": "code",
   "execution_count": 12,
   "id": "b1f55b83",
   "metadata": {},
   "outputs": [],
   "source": [
    "scoreboard = {}"
   ]
  },
  {
   "cell_type": "markdown",
   "id": "42a75dbb",
   "metadata": {},
   "source": [
    "# Zero Shot"
   ]
  },
  {
   "cell_type": "code",
   "execution_count": 13,
   "id": "92f24f10",
   "metadata": {},
   "outputs": [],
   "source": [
    "# # Example of zero-shot prompt\n",
    "# messages = generate_prompt(sample_question, n_shots=0, examples=dataset.examples)\n",
    "# for m in messages:\n",
    "#     rich.print(f\"{m.role}\\n\\n{m.content}\")"
   ]
  },
  {
   "cell_type": "code",
   "execution_count": 14,
   "id": "bd1813d1",
   "metadata": {},
   "outputs": [],
   "source": [
    "# Zero shot generator\n",
    "generator = ll.benchmarks.mmlu.generator(config, model=model, n_shots=0)"
   ]
  },
  {
   "cell_type": "code",
   "execution_count": 15,
   "id": "da4cce72",
   "metadata": {},
   "outputs": [
    {
     "data": {
      "application/vnd.jupyter.widget-view+json": {
       "model_id": "96ed42bc45a243508026b7851a2eb38c",
       "version_major": 2,
       "version_minor": 0
      },
      "text/plain": [
       "Categories:   0%|          | 0/10 [00:00<?, ?it/s]"
      ]
     },
     "metadata": {},
     "output_type": "display_data"
    },
    {
     "data": {
      "application/vnd.jupyter.widget-view+json": {
       "model_id": "21bb5dd64671406b8b181ab41d079c26",
       "version_major": 2,
       "version_minor": 0
      },
      "text/plain": [
       "Questions:   0%|          | 0/144 [00:00<?, ?it/s]"
      ]
     },
     "metadata": {},
     "output_type": "display_data"
    },
    {
     "data": {
      "application/vnd.jupyter.widget-view+json": {
       "model_id": "6cda260bfc764e34859e189e490c42d6",
       "version_major": 2,
       "version_minor": 0
      },
      "text/plain": [
       "Questions:   0%|          | 0/100 [00:00<?, ?it/s]"
      ]
     },
     "metadata": {},
     "output_type": "display_data"
    },
    {
     "data": {
      "application/vnd.jupyter.widget-view+json": {
       "model_id": "3c187a46646442818594c07dbe839f96",
       "version_major": 2,
       "version_minor": 0
      },
      "text/plain": [
       "Questions:   0%|          | 0/102 [00:00<?, ?it/s]"
      ]
     },
     "metadata": {},
     "output_type": "display_data"
    },
    {
     "data": {
      "application/vnd.jupyter.widget-view+json": {
       "model_id": "49227a6b4405401886bfd4fe5c3b2919",
       "version_major": 2,
       "version_minor": 0
      },
      "text/plain": [
       "Questions:   0%|          | 0/114 [00:00<?, ?it/s]"
      ]
     },
     "metadata": {},
     "output_type": "display_data"
    },
    {
     "data": {
      "application/vnd.jupyter.widget-view+json": {
       "model_id": "f52679268fbc4be4b62416b01d52dd5a",
       "version_major": 2,
       "version_minor": 0
      },
      "text/plain": [
       "Questions:   0%|          | 0/238 [00:00<?, ?it/s]"
      ]
     },
     "metadata": {},
     "output_type": "display_data"
    },
    {
     "data": {
      "application/vnd.jupyter.widget-view+json": {
       "model_id": "d96c18008b6045bb80ba54855fe9f354",
       "version_major": 2,
       "version_minor": 0
      },
      "text/plain": [
       "Questions:   0%|          | 0/151 [00:00<?, ?it/s]"
      ]
     },
     "metadata": {},
     "output_type": "display_data"
    },
    {
     "data": {
      "application/vnd.jupyter.widget-view+json": {
       "model_id": "8c427fabbbb14cb4adc44b6833643273",
       "version_major": 2,
       "version_minor": 0
      },
      "text/plain": [
       "Questions:   0%|          | 0/234 [00:00<?, ?it/s]"
      ]
     },
     "metadata": {},
     "output_type": "display_data"
    },
    {
     "data": {
      "application/vnd.jupyter.widget-view+json": {
       "model_id": "888ad73184df43139d70dd73a37e5009",
       "version_major": 2,
       "version_minor": 0
      },
      "text/plain": [
       "Questions:   0%|          | 0/895 [00:00<?, ?it/s]"
      ]
     },
     "metadata": {},
     "output_type": "display_data"
    },
    {
     "data": {
      "application/vnd.jupyter.widget-view+json": {
       "model_id": "a370ff9538764b0fb015445b714a3a10",
       "version_major": 2,
       "version_minor": 0
      },
      "text/plain": [
       "Questions:   0%|          | 0/110 [00:00<?, ?it/s]"
      ]
     },
     "metadata": {},
     "output_type": "display_data"
    },
    {
     "data": {
      "application/vnd.jupyter.widget-view+json": {
       "model_id": "de15c42c4bf34242a6f05b73705ea899",
       "version_major": 2,
       "version_minor": 0
      },
      "text/plain": [
       "Questions:   0%|          | 0/100 [00:00<?, ?it/s]"
      ]
     },
     "metadata": {},
     "output_type": "display_data"
    }
   ],
   "source": [
    "scores = []\n",
    "for category in tqdm(selected_categories, desc=\"Categories\"):\n",
    "    \n",
    "    # Filter questions by category\n",
    "    questions = [q for q in dataset.questions if q.category == category]\n",
    "    progress = tqdm(total=len(questions), desc=\"Questions\", leave=False)\n",
    "\n",
    "    # Evaluate model\n",
    "    score = evaluate_generator(generator, questions=questions, progress=progress)\n",
    "\n",
    "    scores.append(score)"
   ]
  },
  {
   "cell_type": "code",
   "execution_count": 16,
   "id": "ccd4e1de",
   "metadata": {},
   "outputs": [
    {
     "data": {
      "text/plain": [
       "<BarContainer object of 10 artists>"
      ]
     },
     "execution_count": 16,
     "metadata": {},
     "output_type": "execute_result"
    },
    {
     "data": {
      "image/png": "[encoded data removed]",
      "text/plain": [
       "<Figure size 640x480 with 1 Axes>"
      ]
     },
     "metadata": {},
     "output_type": "display_data"
    }
   ],
   "source": [
    "plt.barh(selected_categories[::-1], scores[::-1])"
   ]
  },
  {
   "cell_type": "code",
   "execution_count": 17,
   "id": "2d249dda",
   "metadata": {},
   "outputs": [
    {
     "name": "stdout",
     "output_type": "stream",
     "text": [
      "Avg score = 30.1\n"
     ]
    }
   ],
   "source": [
    "print(f\"Avg score = {np.mean(scores):0.1f}\")"
   ]
  },
  {
   "cell_type": "code",
   "execution_count": 18,
   "id": "0172e3ad",
   "metadata": {},
   "outputs": [],
   "source": [
    "scoreboard[0] = scores"
   ]
  },
  {
   "cell_type": "markdown",
   "id": "115938f1",
   "metadata": {},
   "source": [
    "# 3-Shot"
   ]
  },
  {
   "cell_type": "code",
   "execution_count": 19,
   "id": "83d0208a",
   "metadata": {},
   "outputs": [],
   "source": [
    "# # Example of 3-shot prompt\n",
    "# messages = generate_prompt(sample_question, n_shots=3, examples=dataset.examples)\n",
    "# for m in messages:\n",
    "#     rich.print(f\"{m.role}\\n\\n{m.content}\")"
   ]
  },
  {
   "cell_type": "code",
   "execution_count": 20,
   "id": "45903d2e",
   "metadata": {},
   "outputs": [],
   "source": [
    "# 3-shot generator\n",
    "generator = ll.benchmarks.mmlu.generator(config, model=model, n_shots=3, examples=dataset.examples)"
   ]
  },
  {
   "cell_type": "code",
   "execution_count": 21,
   "id": "5a99cd38",
   "metadata": {},
   "outputs": [
    {
     "data": {
      "application/vnd.jupyter.widget-view+json": {
       "model_id": "d3d8220815964e7d994597c69981ca7d",
       "version_major": 2,
       "version_minor": 0
      },
      "text/plain": [
       "Categories:   0%|          | 0/10 [00:00<?, ?it/s]"
      ]
     },
     "metadata": {},
     "output_type": "display_data"
    },
    {
     "data": {
      "application/vnd.jupyter.widget-view+json": {
       "model_id": "09f13c6b21934990ab488b2de34e920a",
       "version_major": 2,
       "version_minor": 0
      },
      "text/plain": [
       "Questions:   0%|          | 0/144 [00:00<?, ?it/s]"
      ]
     },
     "metadata": {},
     "output_type": "display_data"
    },
    {
     "data": {
      "application/vnd.jupyter.widget-view+json": {
       "model_id": "c1b86cecca024deaa3fbc69ab5f5ccfd",
       "version_major": 2,
       "version_minor": 0
      },
      "text/plain": [
       "Questions:   0%|          | 0/100 [00:00<?, ?it/s]"
      ]
     },
     "metadata": {},
     "output_type": "display_data"
    },
    {
     "data": {
      "application/vnd.jupyter.widget-view+json": {
       "model_id": "8d2c91e008bd4f8f9787b186865c6894",
       "version_major": 2,
       "version_minor": 0
      },
      "text/plain": [
       "Questions:   0%|          | 0/102 [00:00<?, ?it/s]"
      ]
     },
     "metadata": {},
     "output_type": "display_data"
    },
    {
     "data": {
      "application/vnd.jupyter.widget-view+json": {
       "model_id": "5be61f93af4c4876ac26565df8a466fc",
       "version_major": 2,
       "version_minor": 0
      },
      "text/plain": [
       "Questions:   0%|          | 0/114 [00:00<?, ?it/s]"
      ]
     },
     "metadata": {},
     "output_type": "display_data"
    },
    {
     "data": {
      "application/vnd.jupyter.widget-view+json": {
       "model_id": "a5f9fc04a71b403e9e21825fb83c74ac",
       "version_major": 2,
       "version_minor": 0
      },
      "text/plain": [
       "Questions:   0%|          | 0/238 [00:00<?, ?it/s]"
      ]
     },
     "metadata": {},
     "output_type": "display_data"
    },
    {
     "data": {
      "application/vnd.jupyter.widget-view+json": {
       "model_id": "3ebd5d228a784eea8c4c19ab62fa76f2",
       "version_major": 2,
       "version_minor": 0
      },
      "text/plain": [
       "Questions:   0%|          | 0/151 [00:00<?, ?it/s]"
      ]
     },
     "metadata": {},
     "output_type": "display_data"
    },
    {
     "data": {
      "application/vnd.jupyter.widget-view+json": {
       "model_id": "3ab9a100593947c082a8e668ee6bfab3",
       "version_major": 2,
       "version_minor": 0
      },
      "text/plain": [
       "Questions:   0%|          | 0/234 [00:00<?, ?it/s]"
      ]
     },
     "metadata": {},
     "output_type": "display_data"
    },
    {
     "data": {
      "application/vnd.jupyter.widget-view+json": {
       "model_id": "6ba1492a9cd84f51a01cf9c630a49705",
       "version_major": 2,
       "version_minor": 0
      },
      "text/plain": [
       "Questions:   0%|          | 0/895 [00:00<?, ?it/s]"
      ]
     },
     "metadata": {},
     "output_type": "display_data"
    },
    {
     "data": {
      "application/vnd.jupyter.widget-view+json": {
       "model_id": "142e969236d44c34ab2e66eefa49da11",
       "version_major": 2,
       "version_minor": 0
      },
      "text/plain": [
       "Questions:   0%|          | 0/110 [00:00<?, ?it/s]"
      ]
     },
     "metadata": {},
     "output_type": "display_data"
    },
    {
     "data": {
      "application/vnd.jupyter.widget-view+json": {
       "model_id": "631e6fcd64a847579249e741bbe33b06",
       "version_major": 2,
       "version_minor": 0
      },
      "text/plain": [
       "Questions:   0%|          | 0/100 [00:00<?, ?it/s]"
      ]
     },
     "metadata": {},
     "output_type": "display_data"
    }
   ],
   "source": [
    "scores = []\n",
    "for category in tqdm(selected_categories, desc=\"Categories\"):\n",
    "    \n",
    "    # Filter questions by category\n",
    "    questions = [q for q in dataset.questions if q.category == category]\n",
    "    progress = tqdm(total=len(questions), desc=\"Questions\", leave=False)\n",
    "\n",
    "    # Evaluate model\n",
    "    score = evaluate_generator(generator, questions=questions, progress=progress)\n",
    "\n",
    "    scores.append(score)"
   ]
  },
  {
   "cell_type": "code",
   "execution_count": 22,
   "id": "7721a227",
   "metadata": {},
   "outputs": [
    {
     "data": {
      "text/plain": [
       "<BarContainer object of 10 artists>"
      ]
     },
     "execution_count": 22,
     "metadata": {},
     "output_type": "execute_result"
    },
    {
     "data": {
      "image/png": "[encoded data removed]",
      "text/plain": [
       "<Figure size 640x480 with 1 Axes>"
      ]
     },
     "metadata": {},
     "output_type": "display_data"
    }
   ],
   "source": [
    "plt.barh(selected_categories[::-1], scores[::-1])"
   ]
  },
  {
   "cell_type": "code",
   "execution_count": 23,
   "id": "44f3d346",
   "metadata": {},
   "outputs": [
    {
     "name": "stdout",
     "output_type": "stream",
     "text": [
      "Avg score = 31.9\n"
     ]
    }
   ],
   "source": [
    "print(f\"Avg score = {np.mean(scores):0.1f}\")"
   ]
  },
  {
   "cell_type": "code",
   "execution_count": 24,
   "id": "e4071b7e",
   "metadata": {},
   "outputs": [],
   "source": [
    "scoreboard[3] = scores"
   ]
  },
  {
   "cell_type": "markdown",
   "id": "687a6990",
   "metadata": {},
   "source": [
    "# 5-Shot"
   ]
  },
  {
   "cell_type": "code",
   "execution_count": 25,
   "id": "bdf2b4ef",
   "metadata": {},
   "outputs": [],
   "source": [
    "# # Example of 5-shot prompt\n",
    "# messages = generate_prompt(sample_question, n_shots=5, examples=dataset.examples)\n",
    "# for m in messages:\n",
    "#     rich.print(f\"{m.role}\\n\\n{m.content}\")"
   ]
  },
  {
   "cell_type": "code",
   "execution_count": 26,
   "id": "1369bbbf",
   "metadata": {},
   "outputs": [],
   "source": [
    "# 5-shot generator\n",
    "generator = ll.benchmarks.mmlu.generator(config, model=model, n_shots=5, examples=dataset.examples)"
   ]
  },
  {
   "cell_type": "code",
   "execution_count": 27,
   "id": "81cf8b84",
   "metadata": {},
   "outputs": [
    {
     "data": {
      "application/vnd.jupyter.widget-view+json": {
       "model_id": "82d5f58674864464a316d405adc07e15",
       "version_major": 2,
       "version_minor": 0
      },
      "text/plain": [
       "Categories:   0%|          | 0/10 [00:00<?, ?it/s]"
      ]
     },
     "metadata": {},
     "output_type": "display_data"
    },
    {
     "data": {
      "application/vnd.jupyter.widget-view+json": {
       "model_id": "5a617cd80f9e455d80e80441c4e21aa5",
       "version_major": 2,
       "version_minor": 0
      },
      "text/plain": [
       "Questions:   0%|          | 0/144 [00:00<?, ?it/s]"
      ]
     },
     "metadata": {},
     "output_type": "display_data"
    },
    {
     "data": {
      "application/vnd.jupyter.widget-view+json": {
       "model_id": "f0558cccaf8146ab97754ddd47d06548",
       "version_major": 2,
       "version_minor": 0
      },
      "text/plain": [
       "Questions:   0%|          | 0/100 [00:00<?, ?it/s]"
      ]
     },
     "metadata": {},
     "output_type": "display_data"
    },
    {
     "data": {
      "application/vnd.jupyter.widget-view+json": {
       "model_id": "80286bb280764b1b9a402fcab8033209",
       "version_major": 2,
       "version_minor": 0
      },
      "text/plain": [
       "Questions:   0%|          | 0/102 [00:00<?, ?it/s]"
      ]
     },
     "metadata": {},
     "output_type": "display_data"
    },
    {
     "data": {
      "application/vnd.jupyter.widget-view+json": {
       "model_id": "9cfc863e79664d47ba9ed558b2446ffa",
       "version_major": 2,
       "version_minor": 0
      },
      "text/plain": [
       "Questions:   0%|          | 0/114 [00:00<?, ?it/s]"
      ]
     },
     "metadata": {},
     "output_type": "display_data"
    },
    {
     "data": {
      "application/vnd.jupyter.widget-view+json": {
       "model_id": "4ce1d5f45bbc4d7ea096815b41f1462a",
       "version_major": 2,
       "version_minor": 0
      },
      "text/plain": [
       "Questions:   0%|          | 0/238 [00:00<?, ?it/s]"
      ]
     },
     "metadata": {},
     "output_type": "display_data"
    },
    {
     "data": {
      "application/vnd.jupyter.widget-view+json": {
       "model_id": "d78953658e3944819ca460a780d05893",
       "version_major": 2,
       "version_minor": 0
      },
      "text/plain": [
       "Questions:   0%|          | 0/151 [00:00<?, ?it/s]"
      ]
     },
     "metadata": {},
     "output_type": "display_data"
    },
    {
     "data": {
      "application/vnd.jupyter.widget-view+json": {
       "model_id": "004051c72b844b6c9ec27bbe8cf15fe3",
       "version_major": 2,
       "version_minor": 0
      },
      "text/plain": [
       "Questions:   0%|          | 0/234 [00:00<?, ?it/s]"
      ]
     },
     "metadata": {},
     "output_type": "display_data"
    },
    {
     "data": {
      "application/vnd.jupyter.widget-view+json": {
       "model_id": "a0741bd0b443478a869c28b238471bb4",
       "version_major": 2,
       "version_minor": 0
      },
      "text/plain": [
       "Questions:   0%|          | 0/895 [00:00<?, ?it/s]"
      ]
     },
     "metadata": {},
     "output_type": "display_data"
    },
    {
     "data": {
      "application/vnd.jupyter.widget-view+json": {
       "model_id": "45a870b8deda40e5abf10af338d8a6c8",
       "version_major": 2,
       "version_minor": 0
      },
      "text/plain": [
       "Questions:   0%|          | 0/110 [00:00<?, ?it/s]"
      ]
     },
     "metadata": {},
     "output_type": "display_data"
    },
    {
     "data": {
      "application/vnd.jupyter.widget-view+json": {
       "model_id": "d654291bab61489785c606124836692e",
       "version_major": 2,
       "version_minor": 0
      },
      "text/plain": [
       "Questions:   0%|          | 0/100 [00:00<?, ?it/s]"
      ]
     },
     "metadata": {},
     "output_type": "display_data"
    }
   ],
   "source": [
    "scores = []\n",
    "for category in tqdm(selected_categories, desc=\"Categories\"):\n",
    "    \n",
    "    # Filter questions by category\n",
    "    questions = [q for q in dataset.questions if q.category == category]\n",
    "    progress = tqdm(total=len(questions), desc=\"Questions\", leave=False)\n",
    "\n",
    "    # Evaluate model\n",
    "    score = evaluate_generator(generator, questions=questions, progress=progress)\n",
    "\n",
    "    scores.append(score)"
   ]
  },
  {
   "cell_type": "code",
   "execution_count": 28,
   "id": "56a140bd",
   "metadata": {},
   "outputs": [
    {
     "data": {
      "text/plain": [
       "<BarContainer object of 10 artists>"
      ]
     },
     "execution_count": 28,
     "metadata": {},
     "output_type": "execute_result"
    },
    {
     "data": {
      "image/png": "[encoded data removed]",
      "text/plain": [
       "<Figure size 640x480 with 1 Axes>"
      ]
     },
     "metadata": {},
     "output_type": "display_data"
    }
   ],
   "source": [
    "plt.barh(selected_categories[::-1], scores[::-1])"
   ]
  },
  {
   "cell_type": "code",
   "execution_count": 29,
   "id": "87a2c76a",
   "metadata": {},
   "outputs": [
    {
     "name": "stdout",
     "output_type": "stream",
     "text": [
      "Avg score = 31.7\n"
     ]
    }
   ],
   "source": [
    "print(f\"Avg score = {np.mean(scores):0.1f}\")"
   ]
  },
  {
   "cell_type": "code",
   "execution_count": 30,
   "id": "0b8f4a77",
   "metadata": {},
   "outputs": [],
   "source": [
    "scoreboard[5] = scores"
   ]
  },
  {
   "cell_type": "code",
   "execution_count": 32,
   "id": "eca663d7",
   "metadata": {},
   "outputs": [
    {
     "data": {
      "text/plain": [
       "{0: [30.555555555555557,\n",
       "  28.0,\n",
       "  22.54901960784314,\n",
       "  24.56140350877193,\n",
       "  27.73109243697479,\n",
       "  22.516556291390728,\n",
       "  41.02564102564103,\n",
       "  28.60335195530726,\n",
       "  30.90909090909091,\n",
       "  45.0],\n",
       " 3: [32.638888888888886,\n",
       "  31.0,\n",
       "  21.568627450980394,\n",
       "  24.56140350877193,\n",
       "  32.773109243697476,\n",
       "  23.178807947019866,\n",
       "  44.01709401709402,\n",
       "  31.620111731843576,\n",
       "  33.63636363636363,\n",
       "  44.0],\n",
       " 5: [31.944444444444443,\n",
       "  29.0,\n",
       "  22.54901960784314,\n",
       "  26.31578947368421,\n",
       "  30.252100840336134,\n",
       "  21.85430463576159,\n",
       "  45.72649572649573,\n",
       "  30.16759776536313,\n",
       "  33.63636363636363,\n",
       "  46.0]}"
      ]
     },
     "execution_count": 32,
     "metadata": {},
     "output_type": "execute_result"
    }
   ],
   "source": [
    "scoreboard"
   ]
  },
  {
   "cell_type": "markdown",
   "id": "5b4d241e",
   "metadata": {},
   "source": [
    "# Analysis"
   ]
  },
  {
   "cell_type": "code",
   "execution_count": 33,
   "id": "bed003b1",
   "metadata": {},
   "outputs": [
    {
     "data": {
      "text/plain": [
       "<matplotlib.legend.Legend at 0xd503f87a0>"
      ]
     },
     "execution_count": 33,
     "metadata": {},
     "output_type": "execute_result"
    },
    {
     "data": {
      "image/png": "[encoded data removed]",
      "text/plain": [
       "<Figure size 640x480 with 1 Axes>"
      ]
     },
     "metadata": {},
     "output_type": "display_data"
    }
   ],
   "source": [
    "fig, ax = plt.subplots()\n",
    "\n",
    "shots = [0, 3, 5]\n",
    "\n",
    "for i, category in enumerate(selected_categories):\n",
    "    scores = [scoreboard[s][i] for s in shots]\n",
    "    ax.plot(shots, scores, marker=\"o\", label=category)\n",
    "\n",
    "plt.legend(bbox_to_anchor=(1.01, 1), loc=\"upper left\")"
   ]
  },
  {
   "cell_type": "code",
   "execution_count": null,
   "id": "99249cdb",
   "metadata": {},
   "outputs": [],
   "source": []
  },
  {
   "cell_type": "code",
   "execution_count": null,
   "id": "37463be1",
   "metadata": {},
   "outputs": [],
   "source": []
  },
  {
   "cell_type": "code",
   "execution_count": null,
   "id": "91d3af38",
   "metadata": {},
   "outputs": [],
   "source": []
  }
 ],
 "metadata": {
  "kernelspec": {
   "display_name": ".venv",
   "language": "python",
   "name": "python3"
  },
  "language_info": {
   "codemirror_mode": {
    "name": "ipython",
    "version": 3
   },
   "file_extension": ".py",
   "mimetype": "text/x-python",
   "name": "python",
   "nbconvert_exporter": "python",
   "pygments_lexer": "ipython3",
   "version": "3.12.8"
  }
 },
 "nbformat": 4,
 "nbformat_minor": 5
}
