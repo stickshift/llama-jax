{
 "cells": [
  {
   "cell_type": "markdown",
   "id": "cfb350ef-d055-4961-82c4-bda4cee91875",
   "metadata": {},
   "source": [
    "# MMLU Benchmark"
   ]
  },
  {
   "cell_type": "markdown",
   "id": "1b2791cc-70b9-423c-b3b4-4aad5cc30f5b",
   "metadata": {},
   "source": [
    "[Massive Multitask Language Understanding (MMLU)](https://github.com/hendrycks/test) is a popular benchmark for evaluating language models' world knowledge and problem solving abilities. The MMLU dataset contains 14,042 multiple choice questions (MCQs) from 57 categories including mathematics, history, biology, and business. Each question has 4 options (A, B, C, D) and one correct answer. In addition, each category includes 5 example questions designed for few shot experiments. When MMLU was first published in 2020, only the largest GPT models could do better than random guessing. By 2024, multiple models from OpenAI, Anthropic, Meta, and Tencent have all published MMLU accuracies over 88%.\n",
    "\n",
    "Our goal is to approach Meta's published MMLU benchmark scores:\n",
    "\n",
    "* MMLU of Llama 3.2 3B of 58% ([MODEL CARD](https://github.com/meta-llama/llama-models/blob/main/models/llama3_2/MODEL_CARD.md))"
   ]
  },
  {
   "cell_type": "markdown",
   "id": "7449436a-8739-4db8-8075-b748a9503dd8",
   "metadata": {},
   "source": [
    "# Setup"
   ]
  },
  {
   "cell_type": "code",
   "execution_count": 16,
   "id": "a22db0fd-1533-4596-a128-569f145eb5f4",
   "metadata": {},
   "outputs": [],
   "source": [
    "import os\n",
    "from pathlib import Path\n",
    "from random import sample\n",
    "from time import perf_counter_ns as timer\n",
    "\n",
    "import jax\n",
    "import rich\n",
    "from rich.columns import Columns\n",
    "from matplotlib import pyplot as plt\n",
    "import numpy as np\n",
    "from tqdm.auto import trange, tqdm\n",
    "\n",
    "import llama_jax as ll\n",
    "from llama_jax.benchmarks.mmlu import (\n",
    "    display_questions,\n",
    "    download_dataset, \n",
    "    load_dataset,\n",
    "    evaluate_generator,\n",
    ")"
   ]
  },
  {
   "cell_type": "code",
   "execution_count": 2,
   "id": "2c82e314",
   "metadata": {},
   "outputs": [
    {
     "name": "stderr",
     "output_type": "stream",
     "text": [
      "WARNING:2025-02-23 15:05:05,960:jax._src.xla_bridge:1000: Platform 'METAL' is experimental and not all JAX functionality may be correctly supported!\n"
     ]
    },
    {
     "name": "stdout",
     "output_type": "stream",
     "text": [
      "Metal device set to: Apple M1 Max\n",
      "\n",
      "systemMemory: 64.00 GB\n",
      "maxCacheSize: 24.00 GB\n",
      "\n",
      "Available devices: [METAL(id=0)]\n"
     ]
    },
    {
     "name": "stderr",
     "output_type": "stream",
     "text": [
      "WARNING: All log messages before absl::InitializeLog() is called are written to STDERR\n",
      "W0000 00:00:1740341105.960470  111158 mps_client.cc:510] WARNING: JAX Apple GPU support is experimental and not all JAX functionality is correctly supported!\n",
      "I0000 00:00:1740341105.971056  111158 service.cc:145] XLA service 0x1192f4300 initialized for platform METAL (this does not guarantee that XLA will be used). Devices:\n",
      "I0000 00:00:1740341105.971067  111158 service.cc:153]   StreamExecutor device (0): Metal, <undefined>\n",
      "I0000 00:00:1740341105.972413  111158 mps_client.cc:406] Using Simple allocator.\n",
      "I0000 00:00:1740341105.972422  111158 mps_client.cc:384] XLA backend will use up to 51539214336 bytes on device 0 for SimpleAllocator.\n"
     ]
    }
   ],
   "source": [
    "print(f\"Available devices: {jax.devices()}\")"
   ]
  },
  {
   "cell_type": "code",
   "execution_count": 3,
   "id": "8f86ceb5-e601-492c-ac53-1b0a0331d769",
   "metadata": {},
   "outputs": [],
   "source": [
    "# Configure\n",
    "datasets_path = Path(os.environ[\"PROJECT_ROOT\"]) / \"build\" / \"datasets\"\n",
    "mmlu_dataset_path = datasets_path / \"mmlu\""
   ]
  },
  {
   "cell_type": "markdown",
   "id": "9892a410-df36-4c3e-a9af-9360d3ec66bd",
   "metadata": {},
   "source": [
    "# Dataset"
   ]
  },
  {
   "cell_type": "code",
   "execution_count": 4,
   "id": "eae9f228-637e-44c0-832b-52c36952e2a9",
   "metadata": {},
   "outputs": [],
   "source": [
    "download_dataset(mmlu_dataset_path)"
   ]
  },
  {
   "cell_type": "code",
   "execution_count": 5,
   "id": "a0f4a43a-1caf-4ab8-b48e-de18d40c23cd",
   "metadata": {},
   "outputs": [
    {
     "name": "stdout",
     "output_type": "stream",
     "text": [
      "Loaded 14042 questions, 285 examples, 57 categories\n"
     ]
    }
   ],
   "source": [
    "dataset = load_dataset(mmlu_dataset_path)\n",
    "print(f\"Loaded {len(dataset.questions)} questions, {len(dataset.examples)} examples, {len(dataset.categories)} categories\")"
   ]
  },
  {
   "cell_type": "code",
   "execution_count": 6,
   "id": "e3475474-6d21-49ff-aef8-1561f6082841",
   "metadata": {},
   "outputs": [
    {
     "data": {
      "text/html": [
       "<div>\n",
       "<style scoped>\n",
       "    .dataframe tbody tr th:only-of-type {\n",
       "        vertical-align: middle;\n",
       "    }\n",
       "\n",
       "    .dataframe tbody tr th {\n",
       "        vertical-align: top;\n",
       "    }\n",
       "\n",
       "    .dataframe thead th {\n",
       "        text-align: right;\n",
       "    }\n",
       "</style>\n",
       "<table border=\"1\" class=\"dataframe\">\n",
       "  <thead>\n",
       "    <tr style=\"text-align: right;\">\n",
       "      <th></th>\n",
       "      <th>qid</th>\n",
       "      <th>category</th>\n",
       "      <th>question</th>\n",
       "      <th>A</th>\n",
       "      <th>B</th>\n",
       "      <th>C</th>\n",
       "      <th>D</th>\n",
       "      <th>answer</th>\n",
       "    </tr>\n",
       "  </thead>\n",
       "  <tbody>\n",
       "    <tr>\n",
       "      <th>0</th>\n",
       "      <td>6747</td>\n",
       "      <td>logical fallacies</td>\n",
       "      <td>Arguing that an idea should be accepted or rej...</td>\n",
       "      <td>genetic fallacy</td>\n",
       "      <td>appeal to popularity</td>\n",
       "      <td>scare tactics</td>\n",
       "      <td>appeal to emotions</td>\n",
       "      <td>A</td>\n",
       "    </tr>\n",
       "    <tr>\n",
       "      <th>1</th>\n",
       "      <td>2605</td>\n",
       "      <td>global facts</td>\n",
       "      <td>Which of the following was responsible for the...</td>\n",
       "      <td>Earthquakes</td>\n",
       "      <td>Volcanic activity</td>\n",
       "      <td>Wildfires</td>\n",
       "      <td>Floods</td>\n",
       "      <td>D</td>\n",
       "    </tr>\n",
       "    <tr>\n",
       "      <th>2</th>\n",
       "      <td>6592</td>\n",
       "      <td>jurisprudence</td>\n",
       "      <td>Which statement best describes the nature and ...</td>\n",
       "      <td>The ultimate source of a legal system's morality.</td>\n",
       "      <td>The rule that distinguishes norms from habits ...</td>\n",
       "      <td>The constitution of a state.</td>\n",
       "      <td>A presupposition that facilitates our understa...</td>\n",
       "      <td>D</td>\n",
       "    </tr>\n",
       "    <tr>\n",
       "      <th>3</th>\n",
       "      <td>12533</td>\n",
       "      <td>professional psychology</td>\n",
       "      <td>Standardized tests or measures that compare an...</td>\n",
       "      <td>Criterion-referenced testing</td>\n",
       "      <td>Functional behavioral assessments</td>\n",
       "      <td>Intellectual assessments</td>\n",
       "      <td>Norm-referenced tests</td>\n",
       "      <td>D</td>\n",
       "    </tr>\n",
       "    <tr>\n",
       "      <th>4</th>\n",
       "      <td>8427</td>\n",
       "      <td>moral disputes</td>\n",
       "      <td>An unjust society, according to John Rawls, c...</td>\n",
       "      <td>some have more goods (e.g., happiness) than ot...</td>\n",
       "      <td>political power is mostly given to the wealthy...</td>\n",
       "      <td>there are inequalities that are not to the ben...</td>\n",
       "      <td>liberty is restricted to those who have not ea...</td>\n",
       "      <td>C</td>\n",
       "    </tr>\n",
       "  </tbody>\n",
       "</table>\n",
       "</div>"
      ],
      "text/plain": [
       "     qid                 category  \\\n",
       "0   6747        logical fallacies   \n",
       "1   2605             global facts   \n",
       "2   6592            jurisprudence   \n",
       "3  12533  professional psychology   \n",
       "4   8427           moral disputes   \n",
       "\n",
       "                                            question  \\\n",
       "0  Arguing that an idea should be accepted or rej...   \n",
       "1  Which of the following was responsible for the...   \n",
       "2  Which statement best describes the nature and ...   \n",
       "3  Standardized tests or measures that compare an...   \n",
       "4   An unjust society, according to John Rawls, c...   \n",
       "\n",
       "                                                   A  \\\n",
       "0                                    genetic fallacy   \n",
       "1                                        Earthquakes   \n",
       "2  The ultimate source of a legal system's morality.   \n",
       "3                       Criterion-referenced testing   \n",
       "4  some have more goods (e.g., happiness) than ot...   \n",
       "\n",
       "                                                   B  \\\n",
       "0                               appeal to popularity   \n",
       "1                                  Volcanic activity   \n",
       "2  The rule that distinguishes norms from habits ...   \n",
       "3                  Functional behavioral assessments   \n",
       "4  political power is mostly given to the wealthy...   \n",
       "\n",
       "                                                   C  \\\n",
       "0                                      scare tactics   \n",
       "1                                          Wildfires   \n",
       "2                       The constitution of a state.   \n",
       "3                           Intellectual assessments   \n",
       "4  there are inequalities that are not to the ben...   \n",
       "\n",
       "                                                   D answer  \n",
       "0                                 appeal to emotions      A  \n",
       "1                                             Floods      D  \n",
       "2  A presupposition that facilitates our understa...      D  \n",
       "3                              Norm-referenced tests      D  \n",
       "4  liberty is restricted to those who have not ea...      C  "
      ]
     },
     "metadata": {},
     "output_type": "display_data"
    }
   ],
   "source": [
    "# Display sample\n",
    "display_questions(dataset.questions)"
   ]
  },
  {
   "cell_type": "markdown",
   "id": "ed5a7e7f",
   "metadata": {},
   "source": [
    "# Model"
   ]
  },
  {
   "cell_type": "code",
   "execution_count": 7,
   "id": "f589abdf",
   "metadata": {},
   "outputs": [],
   "source": [
    "checkpoint = \"Llama3.2-3B-Instruct\"\n",
    "max_tokens = 2048"
   ]
  },
  {
   "cell_type": "code",
   "execution_count": 8,
   "id": "f98336b9",
   "metadata": {},
   "outputs": [],
   "source": [
    "config = ll.checkpoint.load_config(checkpoint, max_tokens=max_tokens)\n",
    "params = ll.checkpoint.load_parameters(config)\n",
    "model = ll.model.create(config, params)"
   ]
  },
  {
   "cell_type": "code",
   "execution_count": 9,
   "id": "fc5ccd06",
   "metadata": {},
   "outputs": [
    {
     "data": {
      "text/plain": [
       "(Answer(qid=10036, expected='B', actual='B', scores={'A': 0.3359375, 'B': 0.48828125, 'C': 0.06640625, 'D': 0.10888671875}, correct=True),)"
      ]
     },
     "execution_count": 9,
     "metadata": {},
     "output_type": "execute_result"
    }
   ],
   "source": [
    "# Pre-compile model\n",
    "generator = ll.benchmarks.mmlu.generator(config, model=model)\n",
    "next(generator(sample(dataset.questions, k=1)))"
   ]
  },
  {
   "cell_type": "markdown",
   "id": "6f87b7d3",
   "metadata": {},
   "source": [
    "# Categories\n",
    "\n",
    "Llama's MMLU score is reported in terms of macro_avg/acc_char. This means they calculate score for each category separately and then average them together."
   ]
  },
  {
   "cell_type": "code",
   "execution_count": 10,
   "id": "9635e9b0",
   "metadata": {},
   "outputs": [
    {
     "data": {
      "text/html": [
       "<pre style=\"white-space:pre;overflow-x:auto;line-height:normal;font-family:Menlo,'DejaVu Sans Mono',consolas,'Courier New',monospace\">abstract algebra             anatomy                   astronomy                          \n",
       "business ethics              clinical knowledge        college biology                    \n",
       "college chemistry            college computer science  college mathematics                \n",
       "college medicine             college physics           computer security                  \n",
       "conceptual physics           econometrics              electrical engineering             \n",
       "elementary mathematics       formal logic              global facts                       \n",
       "high school biology          high school chemistry     high school computer science       \n",
       "high school european history high school geography     high school government and politics\n",
       "high school macroeconomics   high school mathematics   high school microeconomics         \n",
       "high school physics          high school psychology    high school statistics             \n",
       "high school us history       high school world history human aging                        \n",
       "human sexuality              international law         jurisprudence                      \n",
       "logical fallacies            machine learning          management                         \n",
       "marketing                    medical genetics          miscellaneous                      \n",
       "moral disputes               moral scenarios           nutrition                          \n",
       "philosophy                   prehistory                professional accounting            \n",
       "professional law             professional medicine     professional psychology            \n",
       "public relations             security studies          sociology                          \n",
       "us foreign policy            virology                  world religions                    \n",
       "</pre>\n"
      ],
      "text/plain": [
       "abstract algebra             anatomy                   astronomy                          \n",
       "business ethics              clinical knowledge        college biology                    \n",
       "college chemistry            college computer science  college mathematics                \n",
       "college medicine             college physics           computer security                  \n",
       "conceptual physics           econometrics              electrical engineering             \n",
       "elementary mathematics       formal logic              global facts                       \n",
       "high school biology          high school chemistry     high school computer science       \n",
       "high school european history high school geography     high school government and politics\n",
       "high school macroeconomics   high school mathematics   high school microeconomics         \n",
       "high school physics          high school psychology    high school statistics             \n",
       "high school us history       high school world history human aging                        \n",
       "human sexuality              international law         jurisprudence                      \n",
       "logical fallacies            machine learning          management                         \n",
       "marketing                    medical genetics          miscellaneous                      \n",
       "moral disputes               moral scenarios           nutrition                          \n",
       "philosophy                   prehistory                professional accounting            \n",
       "professional law             professional medicine     professional psychology            \n",
       "public relations             security studies          sociology                          \n",
       "us foreign policy            virology                  world religions                    \n"
      ]
     },
     "metadata": {},
     "output_type": "display_data"
    }
   ],
   "source": [
    "categories = sorted(list(dataset.categories))\n",
    "\n",
    "rich.print(Columns(categories))"
   ]
  },
  {
   "cell_type": "code",
   "execution_count": 11,
   "id": "bdd630df",
   "metadata": {},
   "outputs": [],
   "source": [
    "n_categories = 5\n",
    "selected_categories = sorted(sample(categories, k=n_categories))"
   ]
  },
  {
   "cell_type": "markdown",
   "id": "42a75dbb",
   "metadata": {},
   "source": [
    "# Zero Shot"
   ]
  },
  {
   "cell_type": "code",
   "execution_count": 12,
   "id": "bd1813d1",
   "metadata": {},
   "outputs": [],
   "source": [
    "# Zero shot generator\n",
    "generator = ll.benchmarks.mmlu.generator(config, model=model, n_shots=0)"
   ]
  },
  {
   "cell_type": "code",
   "execution_count": 13,
   "id": "da4cce72",
   "metadata": {},
   "outputs": [
    {
     "data": {
      "application/vnd.jupyter.widget-view+json": {
       "model_id": "b7fd6437067345f6989afe83f73e7abd",
       "version_major": 2,
       "version_minor": 0
      },
      "text/plain": [
       "Categories:   0%|          | 0/5 [00:00<?, ?it/s]"
      ]
     },
     "metadata": {},
     "output_type": "display_data"
    },
    {
     "data": {
      "application/vnd.jupyter.widget-view+json": {
       "model_id": "d2fec32f2b094675b876231abb6d8f40",
       "version_major": 2,
       "version_minor": 0
      },
      "text/plain": [
       "Questions:   0%|          | 0/203 [00:00<?, ?it/s]"
      ]
     },
     "metadata": {},
     "output_type": "display_data"
    },
    {
     "data": {
      "application/vnd.jupyter.widget-view+json": {
       "model_id": "4da08be99051456fbc95583503d1ea0b",
       "version_major": 2,
       "version_minor": 0
      },
      "text/plain": [
       "Questions:   0%|          | 0/193 [00:00<?, ?it/s]"
      ]
     },
     "metadata": {},
     "output_type": "display_data"
    },
    {
     "data": {
      "application/vnd.jupyter.widget-view+json": {
       "model_id": "471a1b6239254d97a206bf4630f1c63a",
       "version_major": 2,
       "version_minor": 0
      },
      "text/plain": [
       "Questions:   0%|          | 0/311 [00:00<?, ?it/s]"
      ]
     },
     "metadata": {},
     "output_type": "display_data"
    },
    {
     "data": {
      "application/vnd.jupyter.widget-view+json": {
       "model_id": "710a2e0ad2384a4a8505f55534cc88dd",
       "version_major": 2,
       "version_minor": 0
      },
      "text/plain": [
       "Questions:   0%|          | 0/272 [00:00<?, ?it/s]"
      ]
     },
     "metadata": {},
     "output_type": "display_data"
    },
    {
     "data": {
      "application/vnd.jupyter.widget-view+json": {
       "model_id": "683c2262fa7f4eda9d1ed4d12e9a5490",
       "version_major": 2,
       "version_minor": 0
      },
      "text/plain": [
       "Questions:   0%|          | 0/612 [00:00<?, ?it/s]"
      ]
     },
     "metadata": {},
     "output_type": "display_data"
    }
   ],
   "source": [
    "scores = []\n",
    "for category in tqdm(selected_categories, desc=\"Categories\"):\n",
    "    \n",
    "    # Filter questions by category\n",
    "    questions = [q for q in dataset.questions if q.category == category]\n",
    "    progress = tqdm(total=len(questions), desc=\"Questions\", leave=False)\n",
    "\n",
    "    # Evaluate model\n",
    "    score = evaluate_generator(generator, questions=questions, progress=progress)\n",
    "\n",
    "    scores.append(score)"
   ]
  },
  {
   "cell_type": "code",
   "execution_count": 14,
   "id": "ccd4e1de",
   "metadata": {},
   "outputs": [
    {
     "data": {
      "text/plain": [
       "<BarContainer object of 5 artists>"
      ]
     },
     "execution_count": 14,
     "metadata": {},
     "output_type": "execute_result"
    },
    {
     "data": {
      "image/png": "[encoded data removed]",
      "text/plain": [
       "<Figure size 640x480 with 1 Axes>"
      ]
     },
     "metadata": {},
     "output_type": "display_data"
    }
   ],
   "source": [
    "plt.barh(selected_categories[::-1], scores[::-1])"
   ]
  },
  {
   "cell_type": "code",
   "execution_count": 18,
   "id": "2d249dda",
   "metadata": {},
   "outputs": [
    {
     "name": "stdout",
     "output_type": "stream",
     "text": [
      "Avg score = 27.6\n"
     ]
    }
   ],
   "source": [
    "print(f\"Avg score = {np.mean(scores):0.1f}\")"
   ]
  },
  {
   "cell_type": "code",
   "execution_count": null,
   "id": "115938f1",
   "metadata": {},
   "outputs": [],
   "source": []
  }
 ],
 "metadata": {
  "kernelspec": {
   "display_name": ".venv",
   "language": "python",
   "name": "python3"
  },
  "language_info": {
   "codemirror_mode": {
    "name": "ipython",
    "version": 3
   },
   "file_extension": ".py",
   "mimetype": "text/x-python",
   "name": "python",
   "nbconvert_exporter": "python",
   "pygments_lexer": "ipython3",
   "version": "3.12.8"
  }
 },
 "nbformat": 4,
 "nbformat_minor": 5
}
