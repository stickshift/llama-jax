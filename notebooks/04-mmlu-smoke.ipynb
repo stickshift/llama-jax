{
 "cells": [
  {
   "cell_type": "markdown",
   "id": "cfb350ef-d055-4961-82c4-bda4cee91875",
   "metadata": {},
   "source": [
    "# MMLU Benchmark Smoke Test\n",
    "\n",
    "Verifying `llama_jax.benchmarks.mmlu` behaves as expected."
   ]
  },
  {
   "cell_type": "markdown",
   "id": "ed68eba0",
   "metadata": {},
   "source": [
    "# Parameters"
   ]
  },
  {
   "cell_type": "code",
   "execution_count": 1,
   "id": "c7eba5c9",
   "metadata": {},
   "outputs": [],
   "source": [
    "checkpoint = \"Llama3.2-3B-Instruct\"\n",
    "n_shots = 0\n",
    "bs = 32"
   ]
  },
  {
   "cell_type": "markdown",
   "id": "7449436a-8739-4db8-8075-b748a9503dd8",
   "metadata": {},
   "source": [
    "# Setup"
   ]
  },
  {
   "cell_type": "code",
   "execution_count": 2,
   "id": "a22db0fd-1533-4596-a128-569f145eb5f4",
   "metadata": {},
   "outputs": [],
   "source": [
    "import os\n",
    "from pathlib import Path\n",
    "from random import sample\n",
    "import sys\n",
    "from time import perf_counter_ns as timer\n",
    "\n",
    "import jax\n",
    "from jax import numpy as jnp\n",
    "from jax.nn import softmax\n",
    "import rich\n",
    "from rich.columns import Columns\n",
    "from matplotlib import pyplot as plt\n",
    "from tqdm.auto import trange, tqdm\n",
    "\n",
    "import llama_jax as ll\n",
    "from llama_jax.benchmarks.mmlu import (\n",
    "    display_questions,\n",
    "    download_dataset, \n",
    "    load_dataset,\n",
    "    evaluate_generator,\n",
    ")"
   ]
  },
  {
   "cell_type": "code",
   "execution_count": 3,
   "id": "8f86ceb5-e601-492c-ac53-1b0a0331d769",
   "metadata": {},
   "outputs": [],
   "source": [
    "# Configure\n",
    "datasets_path = Path(os.environ[\"PROJECT_ROOT\"]) / \"build\" / \"datasets\"\n",
    "mmlu_dataset_path = datasets_path / \"mmlu\""
   ]
  },
  {
   "cell_type": "code",
   "execution_count": 4,
   "id": "3a80af51",
   "metadata": {},
   "outputs": [
    {
     "name": "stderr",
     "output_type": "stream",
     "text": [
      "WARNING:2025-02-23 12:26:27,326:jax._src.xla_bridge:1000: Platform 'METAL' is experimental and not all JAX functionality may be correctly supported!\n"
     ]
    },
    {
     "name": "stdout",
     "output_type": "stream",
     "text": [
      "Metal device set to: Apple M1 Max\n",
      "\n",
      "systemMemory: 64.00 GB\n",
      "maxCacheSize: 24.00 GB\n",
      "\n",
      "GPU Devices: 1\n"
     ]
    },
    {
     "name": "stderr",
     "output_type": "stream",
     "text": [
      "WARNING: All log messages before absl::InitializeLog() is called are written to STDERR\n",
      "W0000 00:00:1740331587.326810 77311374 mps_client.cc:510] WARNING: JAX Apple GPU support is experimental and not all JAX functionality is correctly supported!\n",
      "I0000 00:00:1740331587.338119 77311374 service.cc:145] XLA service 0x142b2c140 initialized for platform METAL (this does not guarantee that XLA will be used). Devices:\n",
      "I0000 00:00:1740331587.338131 77311374 service.cc:153]   StreamExecutor device (0): Metal, <undefined>\n",
      "I0000 00:00:1740331587.339653 77311374 mps_client.cc:406] Using Simple allocator.\n",
      "I0000 00:00:1740331587.339666 77311374 mps_client.cc:384] XLA backend will use up to 51539214336 bytes on device 0 for SimpleAllocator.\n"
     ]
    }
   ],
   "source": [
    "print(f\"GPU Devices: {jax.device_count()}\")"
   ]
  },
  {
   "cell_type": "markdown",
   "id": "9892a410-df36-4c3e-a9af-9360d3ec66bd",
   "metadata": {},
   "source": [
    "# Dataset"
   ]
  },
  {
   "cell_type": "code",
   "execution_count": 5,
   "id": "eae9f228-637e-44c0-832b-52c36952e2a9",
   "metadata": {},
   "outputs": [],
   "source": [
    "download_dataset(mmlu_dataset_path)"
   ]
  },
  {
   "cell_type": "code",
   "execution_count": 6,
   "id": "a0f4a43a-1caf-4ab8-b48e-de18d40c23cd",
   "metadata": {},
   "outputs": [
    {
     "name": "stdout",
     "output_type": "stream",
     "text": [
      "Loaded 14042 questions, 285 examples, 57 categories\n"
     ]
    }
   ],
   "source": [
    "dataset = load_dataset(mmlu_dataset_path)\n",
    "print(f\"Loaded {len(dataset.questions)} questions, {len(dataset.examples)} examples, {len(dataset.categories)} categories\")"
   ]
  },
  {
   "cell_type": "code",
   "execution_count": 7,
   "id": "e3475474-6d21-49ff-aef8-1561f6082841",
   "metadata": {},
   "outputs": [
    {
     "data": {
      "text/html": [
       "<div>\n",
       "<style scoped>\n",
       "    .dataframe tbody tr th:only-of-type {\n",
       "        vertical-align: middle;\n",
       "    }\n",
       "\n",
       "    .dataframe tbody tr th {\n",
       "        vertical-align: top;\n",
       "    }\n",
       "\n",
       "    .dataframe thead th {\n",
       "        text-align: right;\n",
       "    }\n",
       "</style>\n",
       "<table border=\"1\" class=\"dataframe\">\n",
       "  <thead>\n",
       "    <tr style=\"text-align: right;\">\n",
       "      <th></th>\n",
       "      <th>qid</th>\n",
       "      <th>category</th>\n",
       "      <th>question</th>\n",
       "      <th>A</th>\n",
       "      <th>B</th>\n",
       "      <th>C</th>\n",
       "      <th>D</th>\n",
       "      <th>answer</th>\n",
       "    </tr>\n",
       "  </thead>\n",
       "  <tbody>\n",
       "    <tr>\n",
       "      <th>0</th>\n",
       "      <td>9144</td>\n",
       "      <td>moral scenarios</td>\n",
       "      <td>For which of these two scenarios does the main...</td>\n",
       "      <td>Wrong, Wrong</td>\n",
       "      <td>Wrong, Not wrong</td>\n",
       "      <td>Not wrong, Wrong</td>\n",
       "      <td>Not wrong, Not wrong</td>\n",
       "      <td>C</td>\n",
       "    </tr>\n",
       "    <tr>\n",
       "      <th>1</th>\n",
       "      <td>9314</td>\n",
       "      <td>moral scenarios</td>\n",
       "      <td>For which of these two scenarios does the main...</td>\n",
       "      <td>Wrong, Wrong</td>\n",
       "      <td>Wrong, Not wrong</td>\n",
       "      <td>Not wrong, Wrong</td>\n",
       "      <td>Not wrong, Not wrong</td>\n",
       "      <td>C</td>\n",
       "    </tr>\n",
       "    <tr>\n",
       "      <th>2</th>\n",
       "      <td>10207</td>\n",
       "      <td>prehistory</td>\n",
       "      <td>The construction of large-scale features, such...</td>\n",
       "      <td>the practice of slavery.</td>\n",
       "      <td>social and political complexity.</td>\n",
       "      <td>a Mesolithic tradition.</td>\n",
       "      <td>the shift from Paleolithic to Neolithic.</td>\n",
       "      <td>B</td>\n",
       "    </tr>\n",
       "    <tr>\n",
       "      <th>3</th>\n",
       "      <td>10893</td>\n",
       "      <td>professional law</td>\n",
       "      <td>A husband was about to leave his home for work...</td>\n",
       "      <td>prevail, because the husband is strictly liabl...</td>\n",
       "      <td>prevail, because the statute was designed to p...</td>\n",
       "      <td>not prevail, because the driver had the last c...</td>\n",
       "      <td>not prevail, because the husband was acting re...</td>\n",
       "      <td>D</td>\n",
       "    </tr>\n",
       "    <tr>\n",
       "      <th>4</th>\n",
       "      <td>9835</td>\n",
       "      <td>philosophy</td>\n",
       "      <td>The control condition claims:</td>\n",
       "      <td>it is morally wrong to ever lose control of on...</td>\n",
       "      <td>it is morally wrong to try to control the live...</td>\n",
       "      <td>one cannot be morally assessed for what is due...</td>\n",
       "      <td>one cannot be morally blamed for taking contro...</td>\n",
       "      <td>C</td>\n",
       "    </tr>\n",
       "  </tbody>\n",
       "</table>\n",
       "</div>"
      ],
      "text/plain": [
       "     qid          category                                           question  \\\n",
       "0   9144   moral scenarios  For which of these two scenarios does the main...   \n",
       "1   9314   moral scenarios  For which of these two scenarios does the main...   \n",
       "2  10207        prehistory  The construction of large-scale features, such...   \n",
       "3  10893  professional law  A husband was about to leave his home for work...   \n",
       "4   9835        philosophy                      The control condition claims:   \n",
       "\n",
       "                                                   A  \\\n",
       "0                                       Wrong, Wrong   \n",
       "1                                       Wrong, Wrong   \n",
       "2                           the practice of slavery.   \n",
       "3  prevail, because the husband is strictly liabl...   \n",
       "4  it is morally wrong to ever lose control of on...   \n",
       "\n",
       "                                                   B  \\\n",
       "0                                   Wrong, Not wrong   \n",
       "1                                   Wrong, Not wrong   \n",
       "2                   social and political complexity.   \n",
       "3  prevail, because the statute was designed to p...   \n",
       "4  it is morally wrong to try to control the live...   \n",
       "\n",
       "                                                   C  \\\n",
       "0                                   Not wrong, Wrong   \n",
       "1                                   Not wrong, Wrong   \n",
       "2                            a Mesolithic tradition.   \n",
       "3  not prevail, because the driver had the last c...   \n",
       "4  one cannot be morally assessed for what is due...   \n",
       "\n",
       "                                                   D answer  \n",
       "0                               Not wrong, Not wrong      C  \n",
       "1                               Not wrong, Not wrong      C  \n",
       "2           the shift from Paleolithic to Neolithic.      B  \n",
       "3  not prevail, because the husband was acting re...      D  \n",
       "4  one cannot be morally blamed for taking contro...      C  "
      ]
     },
     "metadata": {},
     "output_type": "display_data"
    }
   ],
   "source": [
    "# Display sample\n",
    "display_questions(dataset.questions)"
   ]
  },
  {
   "cell_type": "markdown",
   "id": "a06665d1",
   "metadata": {},
   "source": [
    "# Categories"
   ]
  },
  {
   "cell_type": "code",
   "execution_count": 8,
   "id": "1618866e",
   "metadata": {},
   "outputs": [
    {
     "data": {
      "text/html": [
       "<pre style=\"white-space:pre;overflow-x:auto;line-height:normal;font-family:Menlo,'DejaVu Sans Mono',consolas,'Courier New',monospace\">abstract algebra             anatomy                   astronomy                          \n",
       "business ethics              clinical knowledge        college biology                    \n",
       "college chemistry            college computer science  college mathematics                \n",
       "college medicine             college physics           computer security                  \n",
       "conceptual physics           econometrics              electrical engineering             \n",
       "elementary mathematics       formal logic              global facts                       \n",
       "high school biology          high school chemistry     high school computer science       \n",
       "high school european history high school geography     high school government and politics\n",
       "high school macroeconomics   high school mathematics   high school microeconomics         \n",
       "high school physics          high school psychology    high school statistics             \n",
       "high school us history       high school world history human aging                        \n",
       "human sexuality              international law         jurisprudence                      \n",
       "logical fallacies            machine learning          management                         \n",
       "marketing                    medical genetics          miscellaneous                      \n",
       "moral disputes               moral scenarios           nutrition                          \n",
       "philosophy                   prehistory                professional accounting            \n",
       "professional law             professional medicine     professional psychology            \n",
       "public relations             security studies          sociology                          \n",
       "us foreign policy            virology                  world religions                    \n",
       "</pre>\n"
      ],
      "text/plain": [
       "abstract algebra             anatomy                   astronomy                          \n",
       "business ethics              clinical knowledge        college biology                    \n",
       "college chemistry            college computer science  college mathematics                \n",
       "college medicine             college physics           computer security                  \n",
       "conceptual physics           econometrics              electrical engineering             \n",
       "elementary mathematics       formal logic              global facts                       \n",
       "high school biology          high school chemistry     high school computer science       \n",
       "high school european history high school geography     high school government and politics\n",
       "high school macroeconomics   high school mathematics   high school microeconomics         \n",
       "high school physics          high school psychology    high school statistics             \n",
       "high school us history       high school world history human aging                        \n",
       "human sexuality              international law         jurisprudence                      \n",
       "logical fallacies            machine learning          management                         \n",
       "marketing                    medical genetics          miscellaneous                      \n",
       "moral disputes               moral scenarios           nutrition                          \n",
       "philosophy                   prehistory                professional accounting            \n",
       "professional law             professional medicine     professional psychology            \n",
       "public relations             security studies          sociology                          \n",
       "us foreign policy            virology                  world religions                    \n"
      ]
     },
     "metadata": {},
     "output_type": "display_data"
    }
   ],
   "source": [
    "rich.print(Columns(sorted(list(dataset.categories))))"
   ]
  },
  {
   "cell_type": "markdown",
   "id": "ac944435",
   "metadata": {},
   "source": [
    "# Model"
   ]
  },
  {
   "cell_type": "code",
   "execution_count": 9,
   "id": "bb8b6c9f",
   "metadata": {},
   "outputs": [],
   "source": [
    "config = ll.checkpoint.load_config(checkpoint, max_tokens=1024)\n",
    "tokenizer = ll.checkpoint.load_tokenizer(config)\n",
    "params = ll.checkpoint.load_parameters(config)\n",
    "model = ll.model.create(config, params)\n",
    "generator = ll.benchmarks.mmlu.generator(config, model=model, n_shots=n_shots, examples=dataset.examples, bs=bs)"
   ]
  },
  {
   "cell_type": "code",
   "execution_count": 10,
   "id": "1b077438",
   "metadata": {},
   "outputs": [
    {
     "data": {
      "text/plain": [
       "Array([32, 33, 34, 35], dtype=int32)"
      ]
     },
     "execution_count": 10,
     "metadata": {},
     "output_type": "execute_result"
    }
   ],
   "source": [
    "# Lookup token ids for MMLU options\n",
    "mmlu_token_ids = jnp.array([tokenizer.encode(option, bos=False).item() for option in ll.benchmarks.mmlu.OPTIONS])\n",
    "mmlu_token_ids"
   ]
  },
  {
   "cell_type": "markdown",
   "id": "3b0380c1",
   "metadata": {},
   "source": [
    "# US History"
   ]
  },
  {
   "cell_type": "code",
   "execution_count": 11,
   "id": "7ddf82e9",
   "metadata": {},
   "outputs": [
    {
     "data": {
      "text/html": [
       "<div>\n",
       "<style scoped>\n",
       "    .dataframe tbody tr th:only-of-type {\n",
       "        vertical-align: middle;\n",
       "    }\n",
       "\n",
       "    .dataframe tbody tr th {\n",
       "        vertical-align: top;\n",
       "    }\n",
       "\n",
       "    .dataframe thead th {\n",
       "        text-align: right;\n",
       "    }\n",
       "</style>\n",
       "<table border=\"1\" class=\"dataframe\">\n",
       "  <thead>\n",
       "    <tr style=\"text-align: right;\">\n",
       "      <th></th>\n",
       "      <th>qid</th>\n",
       "      <th>category</th>\n",
       "      <th>question</th>\n",
       "      <th>A</th>\n",
       "      <th>B</th>\n",
       "      <th>C</th>\n",
       "      <th>D</th>\n",
       "      <th>answer</th>\n",
       "    </tr>\n",
       "  </thead>\n",
       "  <tbody>\n",
       "    <tr>\n",
       "      <th>0</th>\n",
       "      <td>5804</td>\n",
       "      <td>high school us history</td>\n",
       "      <td>This question refers to the following informat...</td>\n",
       "      <td>Dred Scott v. Sanford (1857)</td>\n",
       "      <td>Ex parte Milligan (1866)</td>\n",
       "      <td>Plessy v. Ferguson (1896)</td>\n",
       "      <td>Brown v. Board of Education of Topeka (1954)</td>\n",
       "      <td>A</td>\n",
       "    </tr>\n",
       "    <tr>\n",
       "      <th>1</th>\n",
       "      <td>5694</td>\n",
       "      <td>high school us history</td>\n",
       "      <td>This question refers to the following informat...</td>\n",
       "      <td>the policy of containment.</td>\n",
       "      <td>the principle of \"massive retaliation.\"</td>\n",
       "      <td>participation in the Atlantic Charter.</td>\n",
       "      <td>embarking on a \"roll-back\" of communism.</td>\n",
       "      <td>A</td>\n",
       "    </tr>\n",
       "    <tr>\n",
       "      <th>2</th>\n",
       "      <td>5770</td>\n",
       "      <td>high school us history</td>\n",
       "      <td>This question refers to the following informat...</td>\n",
       "      <td>many Vietnamese viewed the United States as a ...</td>\n",
       "      <td>most Vietnamese were opposed to Communism</td>\n",
       "      <td>most Vietnamese favored Communism</td>\n",
       "      <td>some Viet Cong fought alongside American troop...</td>\n",
       "      <td>A</td>\n",
       "    </tr>\n",
       "    <tr>\n",
       "      <th>3</th>\n",
       "      <td>5676</td>\n",
       "      <td>high school us history</td>\n",
       "      <td>This question refers to the following informat...</td>\n",
       "      <td>Debates about access to voting rights.</td>\n",
       "      <td>Debates about the role of federal government i...</td>\n",
       "      <td>Debates about discrimination in employment.</td>\n",
       "      <td>Debates about the legal status of women.</td>\n",
       "      <td>D</td>\n",
       "    </tr>\n",
       "    <tr>\n",
       "      <th>4</th>\n",
       "      <td>5763</td>\n",
       "      <td>high school us history</td>\n",
       "      <td>This question refers to the following informat...</td>\n",
       "      <td>In the 1990s, anti-government sentiment, in re...</td>\n",
       "      <td>In 1993 Attorney General Janet Reno launched a...</td>\n",
       "      <td>Fearing a rise in anti-government sentiment af...</td>\n",
       "      <td>Attorney General Janet Reno resigned from offi...</td>\n",
       "      <td>A</td>\n",
       "    </tr>\n",
       "  </tbody>\n",
       "</table>\n",
       "</div>"
      ],
      "text/plain": [
       "    qid                category  \\\n",
       "0  5804  high school us history   \n",
       "1  5694  high school us history   \n",
       "2  5770  high school us history   \n",
       "3  5676  high school us history   \n",
       "4  5763  high school us history   \n",
       "\n",
       "                                            question  \\\n",
       "0  This question refers to the following informat...   \n",
       "1  This question refers to the following informat...   \n",
       "2  This question refers to the following informat...   \n",
       "3  This question refers to the following informat...   \n",
       "4  This question refers to the following informat...   \n",
       "\n",
       "                                                   A  \\\n",
       "0                       Dred Scott v. Sanford (1857)   \n",
       "1                         the policy of containment.   \n",
       "2  many Vietnamese viewed the United States as a ...   \n",
       "3             Debates about access to voting rights.   \n",
       "4  In the 1990s, anti-government sentiment, in re...   \n",
       "\n",
       "                                                   B  \\\n",
       "0                           Ex parte Milligan (1866)   \n",
       "1            the principle of \"massive retaliation.\"   \n",
       "2          most Vietnamese were opposed to Communism   \n",
       "3  Debates about the role of federal government i...   \n",
       "4  In 1993 Attorney General Janet Reno launched a...   \n",
       "\n",
       "                                                   C  \\\n",
       "0                          Plessy v. Ferguson (1896)   \n",
       "1             participation in the Atlantic Charter.   \n",
       "2                  most Vietnamese favored Communism   \n",
       "3        Debates about discrimination in employment.   \n",
       "4  Fearing a rise in anti-government sentiment af...   \n",
       "\n",
       "                                                   D answer  \n",
       "0       Brown v. Board of Education of Topeka (1954)      A  \n",
       "1           embarking on a \"roll-back\" of communism.      A  \n",
       "2  some Viet Cong fought alongside American troop...      A  \n",
       "3           Debates about the legal status of women.      D  \n",
       "4  Attorney General Janet Reno resigned from offi...      A  "
      ]
     },
     "metadata": {},
     "output_type": "display_data"
    }
   ],
   "source": [
    "questions = tuple(q for q in dataset.questions if q.category == \"high school us history\")\n",
    "display_questions(questions)"
   ]
  },
  {
   "cell_type": "code",
   "execution_count": 12,
   "id": "abca5dc6",
   "metadata": {},
   "outputs": [],
   "source": [
    "# 5719\n",
    "question = next(q for q in questions if q.qid == 5719)"
   ]
  },
  {
   "cell_type": "code",
   "execution_count": 13,
   "id": "f681def4",
   "metadata": {},
   "outputs": [
    {
     "data": {
      "text/html": [
       "<div>\n",
       "<style scoped>\n",
       "    .dataframe tbody tr th:only-of-type {\n",
       "        vertical-align: middle;\n",
       "    }\n",
       "\n",
       "    .dataframe tbody tr th {\n",
       "        vertical-align: top;\n",
       "    }\n",
       "\n",
       "    .dataframe thead th {\n",
       "        text-align: right;\n",
       "    }\n",
       "</style>\n",
       "<table border=\"1\" class=\"dataframe\">\n",
       "  <thead>\n",
       "    <tr style=\"text-align: right;\">\n",
       "      <th></th>\n",
       "      <th>qid</th>\n",
       "      <th>category</th>\n",
       "      <th>question</th>\n",
       "      <th>A</th>\n",
       "      <th>B</th>\n",
       "      <th>C</th>\n",
       "      <th>D</th>\n",
       "      <th>answer</th>\n",
       "    </tr>\n",
       "  </thead>\n",
       "  <tbody>\n",
       "    <tr>\n",
       "      <th>0</th>\n",
       "      <td>5719</td>\n",
       "      <td>high school us history</td>\n",
       "      <td>This question refers to the following informat...</td>\n",
       "      <td>The Declaration of Independence</td>\n",
       "      <td>The Albany Plan</td>\n",
       "      <td>The Boston Tea Party</td>\n",
       "      <td>The Constitution of the United States</td>\n",
       "      <td>A</td>\n",
       "    </tr>\n",
       "  </tbody>\n",
       "</table>\n",
       "</div>"
      ],
      "text/plain": [
       "    qid                category  \\\n",
       "0  5719  high school us history   \n",
       "\n",
       "                                            question  \\\n",
       "0  This question refers to the following informat...   \n",
       "\n",
       "                                 A                B                     C  \\\n",
       "0  The Declaration of Independence  The Albany Plan  The Boston Tea Party   \n",
       "\n",
       "                                       D answer  \n",
       "0  The Constitution of the United States      A  "
      ]
     },
     "metadata": {},
     "output_type": "display_data"
    },
    {
     "name": "stdout",
     "output_type": "stream",
     "text": [
      "<|start_header_id|>system<|end_header_id|>\n",
      "\n",
      "You are a student answering multiple choice questions on an exam. Each question has 4 options: A, B, C, D. There will be 0 example questions followed by a test question. Your job is to answer the test question. Your answer MUST be one of {A, B, C, D}.<|eot_id|>\n",
      "<|start_header_id|>user<|end_header_id|>\n",
      "\n",
      "# Instructions\n",
      "\n",
      "The following are multiple choice questions (with answers) about high school us history.\n",
      "\n",
      "# Question\n",
      "\n",
      "This question refers to the following information.\n",
      "Let us not, I beseech you sir, deceive ourselves. Sir, we have done everything that could be done, to avert the storm which is now coming on. We have petitioned; we have remonstrated; we have supplicated; we have prostrated ourselves before the throne, and have implored its interposition to arrest the tyrannical hands of the ministry and Parliament. Our petitions have been slighted; our remonstrances have produced additional violence and insult; our supplications have been disregarded; and we have been spurned, with contempt, from the foot of the throne. In vain, after these things, may we indulge the fond hope of peace and reconciliation. There is no longer any room for hope.… It is in vain, sir, to extenuate the matter. Gentlemen may cry, Peace, Peace, but there is no peace. The war is actually begun! The next gale that sweeps from the north will bring to our ears the clash of resounding arms! Our brethren are already in the field! Why stand we here idle? What is it that gentlemen wish? What would they have? Is life so dear, or peace so sweet, as to be purchased at the price of chains and slavery? Forbid it, Almighty God! I know not what course others may take; but as for me, give me liberty or give me death!\n",
      "—Patrick Henry, March 23, 1775\n",
      "The sentiments expressed by Patrick Henry led most directly to which of the following?\n",
      "\n",
      "A) The Declaration of Independence\n",
      "B) The Albany Plan\n",
      "C) The Boston Tea Party\n",
      "D) The Constitution of the United States\n",
      "\n",
      "Answer: <|eot_id|>\n",
      "<|start_header_id|>assistant<|end_header_id|>\n",
      "\n",
      "\n",
      "Split prompt into 459 tokens\n",
      "Scores: [[0.707031 0.229492 0.0129395 0.0510254]]\n"
     ]
    }
   ],
   "source": [
    "display_questions([question])\n",
    "\n",
    "# Prompt\n",
    "messages = ll.benchmarks.mmlu.generate_prompt(question, n_shots=n_shots, examples=dataset.examples)\n",
    "prompt = ll.chat.render_prompt(messages)\n",
    "print(prompt)\n",
    "\n",
    "# Split prompt into tokens\n",
    "token_ids = tokenizer.encode(prompt)\n",
    "print(f\"Split prompt into {len(token_ids[0])} tokens\")\n",
    "\n",
    "# Transform token ids into next token logits\n",
    "logits = ll.model.forward(config, model, token_ids)\n",
    "\n",
    "# Map logits to option scores\n",
    "mmlu_logits = logits.take(mmlu_token_ids, axis=-1)\n",
    "scores = softmax(mmlu_logits, axis=-1)\n",
    "print(f\"Scores: {scores}\")"
   ]
  },
  {
   "cell_type": "code",
   "execution_count": 14,
   "id": "0a0a1a46",
   "metadata": {},
   "outputs": [
    {
     "data": {
      "text/plain": [
       "Answer(qid=5719, expected='A', actual='A', scores={'A': 0.70703125, 'B': 0.2294921875, 'C': 0.012939453125, 'D': 0.051025390625}, correct=True)"
      ]
     },
     "execution_count": 14,
     "metadata": {},
     "output_type": "execute_result"
    }
   ],
   "source": [
    "answer = next(generator([question]))[0]\n",
    "answer"
   ]
  },
  {
   "cell_type": "code",
   "execution_count": 15,
   "id": "986e3a4a",
   "metadata": {},
   "outputs": [],
   "source": [
    "# 5770\n",
    "question = next(q for q in questions if q.qid == 5770)"
   ]
  },
  {
   "cell_type": "code",
   "execution_count": 16,
   "id": "f7acb603",
   "metadata": {},
   "outputs": [
    {
     "data": {
      "text/html": [
       "<div>\n",
       "<style scoped>\n",
       "    .dataframe tbody tr th:only-of-type {\n",
       "        vertical-align: middle;\n",
       "    }\n",
       "\n",
       "    .dataframe tbody tr th {\n",
       "        vertical-align: top;\n",
       "    }\n",
       "\n",
       "    .dataframe thead th {\n",
       "        text-align: right;\n",
       "    }\n",
       "</style>\n",
       "<table border=\"1\" class=\"dataframe\">\n",
       "  <thead>\n",
       "    <tr style=\"text-align: right;\">\n",
       "      <th></th>\n",
       "      <th>qid</th>\n",
       "      <th>category</th>\n",
       "      <th>question</th>\n",
       "      <th>A</th>\n",
       "      <th>B</th>\n",
       "      <th>C</th>\n",
       "      <th>D</th>\n",
       "      <th>answer</th>\n",
       "    </tr>\n",
       "  </thead>\n",
       "  <tbody>\n",
       "    <tr>\n",
       "      <th>0</th>\n",
       "      <td>5770</td>\n",
       "      <td>high school us history</td>\n",
       "      <td>This question refers to the following informat...</td>\n",
       "      <td>many Vietnamese viewed the United States as a ...</td>\n",
       "      <td>most Vietnamese were opposed to Communism</td>\n",
       "      <td>most Vietnamese favored Communism</td>\n",
       "      <td>some Viet Cong fought alongside American troop...</td>\n",
       "      <td>A</td>\n",
       "    </tr>\n",
       "  </tbody>\n",
       "</table>\n",
       "</div>"
      ],
      "text/plain": [
       "    qid                category  \\\n",
       "0  5770  high school us history   \n",
       "\n",
       "                                            question  \\\n",
       "0  This question refers to the following informat...   \n",
       "\n",
       "                                                   A  \\\n",
       "0  many Vietnamese viewed the United States as a ...   \n",
       "\n",
       "                                           B  \\\n",
       "0  most Vietnamese were opposed to Communism   \n",
       "\n",
       "                                   C  \\\n",
       "0  most Vietnamese favored Communism   \n",
       "\n",
       "                                                   D answer  \n",
       "0  some Viet Cong fought alongside American troop...      A  "
      ]
     },
     "metadata": {},
     "output_type": "display_data"
    },
    {
     "name": "stdout",
     "output_type": "stream",
     "text": [
      "<|start_header_id|>system<|end_header_id|>\n",
      "\n",
      "You are a student answering multiple choice questions on an exam. Each question has 4 options: A, B, C, D. There will be 0 example questions followed by a test question. Your job is to answer the test question. Your answer MUST be one of {A, B, C, D}.<|eot_id|>\n",
      "<|start_header_id|>user<|end_header_id|>\n",
      "\n",
      "# Instructions\n",
      "\n",
      "The following are multiple choice questions (with answers) about high school us history.\n",
      "\n",
      "# Question\n",
      "\n",
      "This question refers to the following information.\n",
      "\"We found that not only was it a civil war, an effort by a people who had for years been seeking their liberation from any colonial influence whatsoever, but also we found that the Vietnamese whom we had enthusiastically molded after our own image were hard put to take up the fight against the threat we were supposedly saving them from.\n",
      "\"We found most people didn't even know the difference between communism and democracy. They only wanted to work in rice paddies without helicopters strafing them and bombs with napalm burning their villages and tearing their country apart. They wanted everything to do with the war, particularly with this foreign presence of the United States of America, to leave them alone in peace, and they practiced the art of survival by siding with whichever military force was present at a particular time, be it Viet Cong, North Vietnamese or American.\"\n",
      "John Kerry, 1971\n",
      "From the quote above, it is reasonable to infer that\n",
      "\n",
      "A) many Vietnamese viewed the United States as a colonial influence\n",
      "B) most Vietnamese were opposed to Communism\n",
      "C) most Vietnamese favored Communism\n",
      "D) some Viet Cong fought alongside American troops in opposition to North Vietnam\n",
      "\n",
      "Answer: <|eot_id|>\n",
      "<|start_header_id|>assistant<|end_header_id|>\n",
      "\n",
      "\n",
      "Split prompt into 345 tokens\n",
      "Scores: [[0.19043 0.314453 0.216797 0.279297]]\n"
     ]
    }
   ],
   "source": [
    "display_questions([question])\n",
    "\n",
    "# Prompt\n",
    "messages = ll.benchmarks.mmlu.generate_prompt(question, n_shots=n_shots, examples=dataset.examples)\n",
    "prompt = ll.chat.render_prompt(messages)\n",
    "print(prompt)\n",
    "\n",
    "# Split prompt into tokens\n",
    "token_ids = tokenizer.encode(prompt)\n",
    "print(f\"Split prompt into {len(token_ids[0])} tokens\")\n",
    "\n",
    "# Transform token ids into next token logits\n",
    "logits = ll.model.forward(config, model, token_ids)\n",
    "\n",
    "# Map logits to option scores\n",
    "mmlu_logits = logits.take(mmlu_token_ids, axis=-1)\n",
    "scores = softmax(mmlu_logits, axis=-1)\n",
    "print(f\"Scores: {scores}\")"
   ]
  },
  {
   "cell_type": "code",
   "execution_count": 17,
   "id": "f9d0ffa4",
   "metadata": {},
   "outputs": [
    {
     "data": {
      "text/plain": [
       "Answer(qid=5770, expected='A', actual='B', scores={'A': 0.1904296875, 'B': 0.314453125, 'C': 0.216796875, 'D': 0.279296875}, correct=False)"
      ]
     },
     "execution_count": 17,
     "metadata": {},
     "output_type": "execute_result"
    }
   ],
   "source": [
    "answer = next(generator([question]))[0]\n",
    "answer"
   ]
  },
  {
   "cell_type": "markdown",
   "id": "061f2fdf",
   "metadata": {},
   "source": [
    "# Microeconomics"
   ]
  },
  {
   "cell_type": "code",
   "execution_count": 18,
   "id": "a608c5d4",
   "metadata": {},
   "outputs": [
    {
     "data": {
      "text/html": [
       "<div>\n",
       "<style scoped>\n",
       "    .dataframe tbody tr th:only-of-type {\n",
       "        vertical-align: middle;\n",
       "    }\n",
       "\n",
       "    .dataframe tbody tr th {\n",
       "        vertical-align: top;\n",
       "    }\n",
       "\n",
       "    .dataframe thead th {\n",
       "        text-align: right;\n",
       "    }\n",
       "</style>\n",
       "<table border=\"1\" class=\"dataframe\">\n",
       "  <thead>\n",
       "    <tr style=\"text-align: right;\">\n",
       "      <th></th>\n",
       "      <th>qid</th>\n",
       "      <th>category</th>\n",
       "      <th>question</th>\n",
       "      <th>A</th>\n",
       "      <th>B</th>\n",
       "      <th>C</th>\n",
       "      <th>D</th>\n",
       "      <th>answer</th>\n",
       "    </tr>\n",
       "  </thead>\n",
       "  <tbody>\n",
       "    <tr>\n",
       "      <th>0</th>\n",
       "      <td>4628</td>\n",
       "      <td>high school microeconomics</td>\n",
       "      <td>Education makes Chris a better worker, voter, ...</td>\n",
       "      <td>increasing marginal utility and should be subs...</td>\n",
       "      <td>externalities and should be taxed</td>\n",
       "      <td>decreasing marginal utility and should be taxed</td>\n",
       "      <td>externalities and should be subsidized</td>\n",
       "      <td>D</td>\n",
       "    </tr>\n",
       "    <tr>\n",
       "      <th>1</th>\n",
       "      <td>4549</td>\n",
       "      <td>high school microeconomics</td>\n",
       "      <td>If the demand for grapes increases simultaneou...</td>\n",
       "      <td>equilibrium quantity rises, but the price chan...</td>\n",
       "      <td>equilibrium quantity falls, but the price chan...</td>\n",
       "      <td>equilibrium quantity rises, and the price rises.</td>\n",
       "      <td>equilibrium quantity falls, and the price falls.</td>\n",
       "      <td>A</td>\n",
       "    </tr>\n",
       "    <tr>\n",
       "      <th>2</th>\n",
       "      <td>4610</td>\n",
       "      <td>high school microeconomics</td>\n",
       "      <td>Relatively free or easy entry (low or nonexist...</td>\n",
       "      <td>More consumer choices, greater price elasticit...</td>\n",
       "      <td>More consumer choices, lower price elasticity ...</td>\n",
       "      <td>More consumer choices, greater price elasticit...</td>\n",
       "      <td>Fewer consumer choices, lower price elasticity...</td>\n",
       "      <td>A</td>\n",
       "    </tr>\n",
       "    <tr>\n",
       "      <th>3</th>\n",
       "      <td>4594</td>\n",
       "      <td>high school microeconomics</td>\n",
       "      <td>Suppose the market for roses is currently in e...</td>\n",
       "      <td>Price and quantity both rise.</td>\n",
       "      <td>Price rises, but the change in quantity is amb...</td>\n",
       "      <td>Price and quantity both fall.</td>\n",
       "      <td>Quantity rises, but the change in price is amb...</td>\n",
       "      <td>B</td>\n",
       "    </tr>\n",
       "    <tr>\n",
       "      <th>4</th>\n",
       "      <td>4669</td>\n",
       "      <td>high school microeconomics</td>\n",
       "      <td>If the market price is above the perfectly com...</td>\n",
       "      <td>the industry contracts as firms exit the market.</td>\n",
       "      <td>the industry expands as firms exit the market.</td>\n",
       "      <td>the industry contracts as firms enter the market.</td>\n",
       "      <td>the industry expands as firms enter the market.</td>\n",
       "      <td>D</td>\n",
       "    </tr>\n",
       "  </tbody>\n",
       "</table>\n",
       "</div>"
      ],
      "text/plain": [
       "    qid                    category  \\\n",
       "0  4628  high school microeconomics   \n",
       "1  4549  high school microeconomics   \n",
       "2  4610  high school microeconomics   \n",
       "3  4594  high school microeconomics   \n",
       "4  4669  high school microeconomics   \n",
       "\n",
       "                                            question  \\\n",
       "0  Education makes Chris a better worker, voter, ...   \n",
       "1  If the demand for grapes increases simultaneou...   \n",
       "2  Relatively free or easy entry (low or nonexist...   \n",
       "3  Suppose the market for roses is currently in e...   \n",
       "4  If the market price is above the perfectly com...   \n",
       "\n",
       "                                                   A  \\\n",
       "0  increasing marginal utility and should be subs...   \n",
       "1  equilibrium quantity rises, but the price chan...   \n",
       "2  More consumer choices, greater price elasticit...   \n",
       "3                      Price and quantity both rise.   \n",
       "4   the industry contracts as firms exit the market.   \n",
       "\n",
       "                                                   B  \\\n",
       "0                  externalities and should be taxed   \n",
       "1  equilibrium quantity falls, but the price chan...   \n",
       "2  More consumer choices, lower price elasticity ...   \n",
       "3  Price rises, but the change in quantity is amb...   \n",
       "4     the industry expands as firms exit the market.   \n",
       "\n",
       "                                                   C  \\\n",
       "0    decreasing marginal utility and should be taxed   \n",
       "1   equilibrium quantity rises, and the price rises.   \n",
       "2  More consumer choices, greater price elasticit...   \n",
       "3                      Price and quantity both fall.   \n",
       "4  the industry contracts as firms enter the market.   \n",
       "\n",
       "                                                   D answer  \n",
       "0             externalities and should be subsidized      D  \n",
       "1   equilibrium quantity falls, and the price falls.      A  \n",
       "2  Fewer consumer choices, lower price elasticity...      A  \n",
       "3  Quantity rises, but the change in price is amb...      B  \n",
       "4    the industry expands as firms enter the market.      D  "
      ]
     },
     "metadata": {},
     "output_type": "display_data"
    }
   ],
   "source": [
    "questions = tuple(q for q in dataset.questions if q.category == \"high school microeconomics\")\n",
    "display_questions(questions)"
   ]
  },
  {
   "cell_type": "code",
   "execution_count": 19,
   "id": "36739d7f",
   "metadata": {},
   "outputs": [],
   "source": [
    "# 4594\n",
    "question = next(q for q in questions if q.qid == 4594)"
   ]
  },
  {
   "cell_type": "code",
   "execution_count": 20,
   "id": "5af2293e",
   "metadata": {},
   "outputs": [
    {
     "data": {
      "text/html": [
       "<div>\n",
       "<style scoped>\n",
       "    .dataframe tbody tr th:only-of-type {\n",
       "        vertical-align: middle;\n",
       "    }\n",
       "\n",
       "    .dataframe tbody tr th {\n",
       "        vertical-align: top;\n",
       "    }\n",
       "\n",
       "    .dataframe thead th {\n",
       "        text-align: right;\n",
       "    }\n",
       "</style>\n",
       "<table border=\"1\" class=\"dataframe\">\n",
       "  <thead>\n",
       "    <tr style=\"text-align: right;\">\n",
       "      <th></th>\n",
       "      <th>qid</th>\n",
       "      <th>category</th>\n",
       "      <th>question</th>\n",
       "      <th>A</th>\n",
       "      <th>B</th>\n",
       "      <th>C</th>\n",
       "      <th>D</th>\n",
       "      <th>answer</th>\n",
       "    </tr>\n",
       "  </thead>\n",
       "  <tbody>\n",
       "    <tr>\n",
       "      <th>0</th>\n",
       "      <td>4594</td>\n",
       "      <td>high school microeconomics</td>\n",
       "      <td>Suppose the market for roses is currently in e...</td>\n",
       "      <td>Price and quantity both rise.</td>\n",
       "      <td>Price rises, but the change in quantity is amb...</td>\n",
       "      <td>Price and quantity both fall.</td>\n",
       "      <td>Quantity rises, but the change in price is amb...</td>\n",
       "      <td>B</td>\n",
       "    </tr>\n",
       "  </tbody>\n",
       "</table>\n",
       "</div>"
      ],
      "text/plain": [
       "    qid                    category  \\\n",
       "0  4594  high school microeconomics   \n",
       "\n",
       "                                            question  \\\n",
       "0  Suppose the market for roses is currently in e...   \n",
       "\n",
       "                               A  \\\n",
       "0  Price and quantity both rise.   \n",
       "\n",
       "                                                   B  \\\n",
       "0  Price rises, but the change in quantity is amb...   \n",
       "\n",
       "                               C  \\\n",
       "0  Price and quantity both fall.   \n",
       "\n",
       "                                                   D answer  \n",
       "0  Quantity rises, but the change in price is amb...      B  "
      ]
     },
     "metadata": {},
     "output_type": "display_data"
    },
    {
     "name": "stdout",
     "output_type": "stream",
     "text": [
      "<|start_header_id|>system<|end_header_id|>\n",
      "\n",
      "You are a student answering multiple choice questions on an exam. Each question has 4 options: A, B, C, D. There will be 0 example questions followed by a test question. Your job is to answer the test question. Your answer MUST be one of {A, B, C, D}.<|eot_id|>\n",
      "<|start_header_id|>user<|end_header_id|>\n",
      "\n",
      "# Instructions\n",
      "\n",
      "The following are multiple choice questions (with answers) about high school microeconomics.\n",
      "\n",
      "# Question\n",
      "\n",
      "Suppose the market for roses is currently in equilibrium. If the supply of roses falls, while at the same time the demand for roses rises, what can you say about the price and quantity of roses in the market?\n",
      "\n",
      "A) Price and quantity both rise.\n",
      "B) Price rises, but the change in quantity is ambiguous.\n",
      "C) Price and quantity both fall.\n",
      "D) Quantity rises, but the change in price is ambiguous.\n",
      "\n",
      "Answer: <|eot_id|>\n",
      "<|start_header_id|>assistant<|end_header_id|>\n",
      "\n",
      "\n",
      "Split prompt into 193 tokens\n",
      "Scores: [[0.00212097 0.96875 0.00509644 0.0257568]]\n"
     ]
    }
   ],
   "source": [
    "display_questions([question])\n",
    "\n",
    "# Prompt\n",
    "messages = ll.benchmarks.mmlu.generate_prompt(question, n_shots=n_shots, examples=dataset.examples)\n",
    "prompt = ll.chat.render_prompt(messages)\n",
    "print(prompt)\n",
    "\n",
    "# Split prompt into tokens\n",
    "token_ids = tokenizer.encode(prompt)\n",
    "print(f\"Split prompt into {len(token_ids[0])} tokens\")\n",
    "\n",
    "# Transform token ids into next token logits\n",
    "logits = ll.model.forward(config, model, token_ids)\n",
    "\n",
    "# Map logits to option scores\n",
    "mmlu_logits = logits.take(mmlu_token_ids, axis=-1)\n",
    "scores = softmax(mmlu_logits, axis=-1)\n",
    "print(f\"Scores: {scores}\")"
   ]
  },
  {
   "cell_type": "code",
   "execution_count": 21,
   "id": "f388ad1c-ab5d-4657-9e81-689332d35fd3",
   "metadata": {},
   "outputs": [
    {
     "data": {
      "text/plain": [
       "Answer(qid=4594, expected='B', actual='B', scores={'A': 0.0021209716796875, 'B': 0.96875, 'C': 0.005096435546875, 'D': 0.0257568359375}, correct=True)"
      ]
     },
     "execution_count": 21,
     "metadata": {},
     "output_type": "execute_result"
    }
   ],
   "source": [
    "answer = next(generator([question]))[0]\n",
    "answer"
   ]
  },
  {
   "cell_type": "code",
   "execution_count": null,
   "id": "c716297b",
   "metadata": {},
   "outputs": [],
   "source": []
  },
  {
   "cell_type": "code",
   "execution_count": null,
   "id": "ee4ebcd2",
   "metadata": {},
   "outputs": [],
   "source": []
  },
  {
   "cell_type": "code",
   "execution_count": null,
   "id": "bfca8dcd",
   "metadata": {},
   "outputs": [],
   "source": []
  }
 ],
 "metadata": {
  "kernelspec": {
   "display_name": ".venv",
   "language": "python",
   "name": "python3"
  },
  "language_info": {
   "codemirror_mode": {
    "name": "ipython",
    "version": 3
   },
   "file_extension": ".py",
   "mimetype": "text/x-python",
   "name": "python",
   "nbconvert_exporter": "python",
   "pygments_lexer": "ipython3",
   "version": "3.12.8"
  }
 },
 "nbformat": 4,
 "nbformat_minor": 5
}
