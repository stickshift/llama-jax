{
 "cells": [
  {
   "cell_type": "markdown",
   "id": "748db826-cb5f-43f8-9282-e1fd31b0a4dd",
   "metadata": {},
   "source": [
    "# Text Generation"
   ]
  },
  {
   "cell_type": "markdown",
   "id": "fb259b01-2122-415a-9fb6-c6da9b7c274e",
   "metadata": {},
   "source": [
    "Exploring raw text generation using llama-jax with and without KV caching."
   ]
  },
  {
   "cell_type": "markdown",
   "id": "f5f400fb-da00-428b-84e7-860e2d27ecde",
   "metadata": {
    "jp-MarkdownHeadingCollapsed": true
   },
   "source": [
    "# Setup"
   ]
  },
  {
   "cell_type": "code",
   "execution_count": 11,
   "id": "bb5244ca-c3a8-4d07-893c-df0aa14799b7",
   "metadata": {},
   "outputs": [],
   "source": [
    "from contextlib import contextmanager\n",
    "from sys import stdout\n",
    "from time import time_ns, perf_counter_ns as timer\n",
    "\n",
    "import jax\n",
    "from jax import Array\n",
    "from jax import numpy as jnp\n",
    "from jax import random\n",
    "\n",
    "import llama_jax as ll"
   ]
  },
  {
   "cell_type": "code",
   "execution_count": 2,
   "id": "ec4ab47d-3d54-4355-9ce8-1add44bbb1f8",
   "metadata": {},
   "outputs": [
    {
     "name": "stderr",
     "output_type": "stream",
     "text": [
      "WARNING:2025-02-28 14:37:42,328:jax._src.xla_bridge:1000: Platform 'METAL' is experimental and not all JAX functionality may be correctly supported!\n"
     ]
    },
    {
     "name": "stdout",
     "output_type": "stream",
     "text": [
      "Metal device set to: Apple M1 Max\n",
      "\n",
      "systemMemory: 64.00 GB\n",
      "maxCacheSize: 24.00 GB\n",
      "\n",
      "Available devices: [METAL(id=0)]\n"
     ]
    },
    {
     "name": "stderr",
     "output_type": "stream",
     "text": [
      "WARNING: All log messages before absl::InitializeLog() is called are written to STDERR\n",
      "W0000 00:00:1740771462.328766 7635710 mps_client.cc:510] WARNING: JAX Apple GPU support is experimental and not all JAX functionality is correctly supported!\n",
      "I0000 00:00:1740771462.344881 7635710 service.cc:145] XLA service 0x1179bb7a0 initialized for platform METAL (this does not guarantee that XLA will be used). Devices:\n",
      "I0000 00:00:1740771462.344891 7635710 service.cc:153]   StreamExecutor device (0): Metal, <undefined>\n",
      "I0000 00:00:1740771462.346100 7635710 mps_client.cc:406] Using Simple allocator.\n",
      "I0000 00:00:1740771462.346108 7635710 mps_client.cc:384] XLA backend will use up to 51539214336 bytes on device 0 for SimpleAllocator.\n"
     ]
    }
   ],
   "source": [
    "print(f\"Available devices: {jax.devices()}\")"
   ]
  },
  {
   "cell_type": "code",
   "execution_count": 3,
   "id": "3671e148-7caf-424d-97a6-78c7fa2387b3",
   "metadata": {},
   "outputs": [],
   "source": [
    "@contextmanager\n",
    "def tps_report(n_tokens: int):\n",
    "    start_time = timer()\n",
    "\n",
    "    yield\n",
    "    \n",
    "    stdout.write(\"\\n\\n\")\n",
    "    \n",
    "    duration = (timer() - start_time) / 1000000000\n",
    "    tps = n_tokens / duration\n",
    "    \n",
    "    print(f\"Generated {n_tokens} tokens in {duration:0.1f} s ({tps:0.1f} tps)\")"
   ]
  },
  {
   "cell_type": "markdown",
   "id": "8337a93e-d0ed-43ef-a434-06c86bc6977f",
   "metadata": {},
   "source": [
    "# Configure"
   ]
  },
  {
   "cell_type": "code",
   "execution_count": 4,
   "id": "ee8788e4-04d2-4ee0-99c4-323598bcea82",
   "metadata": {},
   "outputs": [],
   "source": [
    "# Parameters\n",
    "max_tokens = 20\n",
    "seed = time_ns()"
   ]
  },
  {
   "cell_type": "code",
   "execution_count": 5,
   "id": "f5ae982f-d15e-4526-98e9-aec414886954",
   "metadata": {},
   "outputs": [],
   "source": [
    "# Configure model\n",
    "key = random.key(seed)\n",
    "config = ll.checkpoint.load_config(\"Llama3.2-3B\")\n",
    "params = ll.checkpoint.load_parameters(config)\n",
    "tokenizer = ll.checkpoint.load_tokenizer(config)\n",
    "model = ll.model.create(config, params)"
   ]
  },
  {
   "cell_type": "markdown",
   "id": "305e18ca-8fe8-4547-80d2-6f24a7a3dacb",
   "metadata": {},
   "source": [
    "# Prompt"
   ]
  },
  {
   "cell_type": "code",
   "execution_count": 6,
   "id": "ce7d5987-e79d-42aa-ad63-7a311727b4a4",
   "metadata": {},
   "outputs": [],
   "source": [
    "prompt = \"I like traveling by train because\""
   ]
  },
  {
   "cell_type": "markdown",
   "id": "246018a9-cc80-4a99-bd71-5907a13c9cbe",
   "metadata": {},
   "source": [
    "# Without KV Cache"
   ]
  },
  {
   "cell_type": "code",
   "execution_count": 9,
   "id": "890c3a2e-0b1c-4c82-8d6e-d62db72b6217",
   "metadata": {},
   "outputs": [
    {
     "data": {
      "text/plain": [
       "Array([[128000,     40,   1093,  21646,    555,   5542,   1606]], dtype=int32)"
      ]
     },
     "execution_count": 9,
     "metadata": {},
     "output_type": "execute_result"
    }
   ],
   "source": [
    "token_ids, position_mask = tokenizer.encode(prompt)\n",
    "token_ids"
   ]
  },
  {
   "cell_type": "code",
   "execution_count": null,
   "id": "72dcb91c",
   "metadata": {},
   "outputs": [],
   "source": [
    "def transform(config, model, x, position_mask):\n"
   ]
  },
  {
   "cell_type": "code",
   "execution_count": 10,
   "id": "50b36f73-f3f6-45a8-b84f-fec212a7e1df",
   "metadata": {},
   "outputs": [
    {
     "name": "stdout",
     "output_type": "stream",
     "text": [
      "I like traveling by train because it’s the most convenient way to get around. I don’t have to worry about driving or parking\n",
      "\n",
      "Generated 20 tokens in 28.4 s (0.7 tps)\n"
     ]
    }
   ],
   "source": [
    "with tps_report(max_tokens):    \n",
    "    \n",
    "    # Print input tokens\n",
    "    stdout.write(prompt)\n",
    "    \n",
    "    # Process all tokens on first pass\n",
    "    x = token_ids\n",
    "    \n",
    "    for _ in range(max_tokens):\n",
    "        # Transform tokens into logits\n",
    "        logits = ll.model.forward(config, model, x, position_mask)\n",
    "        \n",
    "        # Sample next token\n",
    "        key, subkey = random.split(key)\n",
    "        next_token_id = ll.model.next_token(logits, key=subkey)\n",
    "        \n",
    "        # Print next token\n",
    "        stdout.write(tokenizer.decode(next_token_id)[0])\n",
    "    \n",
    "        # Process all tokens on next pass\n",
    "        x = jnp.concat([x, next_token_id], axis=-1)"
   ]
  },
  {
   "cell_type": "code",
   "execution_count": null,
   "id": "7f4ef372",
   "metadata": {},
   "outputs": [],
   "source": []
  },
  {
   "cell_type": "markdown",
   "id": "8bada1bb-8a0c-4686-9b4b-bca23ce69d43",
   "metadata": {},
   "source": [
    "# With KV Cache"
   ]
  },
  {
   "cell_type": "code",
   "execution_count": null,
   "id": "e9b258ac",
   "metadata": {},
   "outputs": [],
   "source": [
    "token_ids, position_mask = tokenizer.encode(prompt)\n",
    "token_ids, position_mask"
   ]
  },
  {
   "cell_type": "code",
   "execution_count": null,
   "id": "6a682be2-83a8-424f-8c18-a4900e08df7e",
   "metadata": {},
   "outputs": [],
   "source": [
    "with tps_report(max_tokens):    \n",
    "    \n",
    "    # Print input tokens\n",
    "    stdout.write(prompt)\n",
    "    \n",
    "    # Initialize cache\n",
    "    kv_cache = ll.kv_cache.create(config)\n",
    "    \n",
    "    # Process all tokens on first pass\n",
    "    x = token_ids\n",
    "    \n",
    "    for _ in range(max_tokens):\n",
    "        # Transform tokens into logits\n",
    "        logits, kv_cache = ll.model.forward(config, model, x, position_mask, kv_cache=kv_cache)\n",
    "        \n",
    "        # Sample next token\n",
    "        key, subkey = random.split(key)\n",
    "        next_token_id = ll.model.next_token(logits, key=subkey)\n",
    "        \n",
    "        # Print next token\n",
    "        stdout.write(tokenizer.decode(next_token_id)[0])\n",
    "    \n",
    "        # Process generated token on next pass\n",
    "        x = next_token_id\n",
    "        position_mask = ll.model.increment_position_mask(position_mask)        "
   ]
  },
  {
   "cell_type": "code",
   "execution_count": null,
   "id": "b5033c2a-3d9a-4b4e-abca-0ad5b7bd8f60",
   "metadata": {},
   "outputs": [],
   "source": []
  }
 ],
 "metadata": {
  "kernelspec": {
   "display_name": ".venv",
   "language": "python",
   "name": "python3"
  },
  "language_info": {
   "codemirror_mode": {
    "name": "ipython",
    "version": 3
   },
   "file_extension": ".py",
   "mimetype": "text/x-python",
   "name": "python",
   "nbconvert_exporter": "python",
   "pygments_lexer": "ipython3",
   "version": "3.12.8"
  }
 },
 "nbformat": 4,
 "nbformat_minor": 5
}
