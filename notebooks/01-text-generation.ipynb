{
 "cells": [
  {
   "cell_type": "markdown",
   "id": "748db826-cb5f-43f8-9282-e1fd31b0a4dd",
   "metadata": {},
   "source": [
    "# Text Generation"
   ]
  },
  {
   "cell_type": "markdown",
   "id": "fb259b01-2122-415a-9fb6-c6da9b7c274e",
   "metadata": {},
   "source": [
    "Exploring raw text generation using llama-jax with and without KV caching."
   ]
  },
  {
   "cell_type": "markdown",
   "id": "f5f400fb-da00-428b-84e7-860e2d27ecde",
   "metadata": {
    "jp-MarkdownHeadingCollapsed": true
   },
   "source": [
    "# Setup"
   ]
  },
  {
   "cell_type": "code",
   "execution_count": 1,
   "id": "bb5244ca-c3a8-4d07-893c-df0aa14799b7",
   "metadata": {},
   "outputs": [
    {
     "name": "stderr",
     "output_type": "stream",
     "text": [
      "WARNING:2025-03-03 12:15:52,157:jax._src.xla_bridge:1000: Platform 'METAL' is experimental and not all JAX functionality may be correctly supported!\n"
     ]
    },
    {
     "name": "stdout",
     "output_type": "stream",
     "text": [
      "Metal device set to: Apple M1 Max\n",
      "\n",
      "systemMemory: 64.00 GB\n",
      "maxCacheSize: 24.00 GB\n",
      "\n"
     ]
    },
    {
     "name": "stderr",
     "output_type": "stream",
     "text": [
      "WARNING: All log messages before absl::InitializeLog() is called are written to STDERR\n",
      "W0000 00:00:1741022152.158310 11834044 mps_client.cc:510] WARNING: JAX Apple GPU support is experimental and not all JAX functionality is correctly supported!\n",
      "I0000 00:00:1741022152.168361 11834044 service.cc:145] XLA service 0x11baf3f00 initialized for platform METAL (this does not guarantee that XLA will be used). Devices:\n",
      "I0000 00:00:1741022152.168371 11834044 service.cc:153]   StreamExecutor device (0): Metal, <undefined>\n",
      "I0000 00:00:1741022152.169794 11834044 mps_client.cc:406] Using Simple allocator.\n",
      "I0000 00:00:1741022152.169807 11834044 mps_client.cc:384] XLA backend will use up to 51539214336 bytes on device 0 for SimpleAllocator.\n"
     ]
    }
   ],
   "source": [
    "from time import time_ns as seed\n",
    "\n",
    "from jax import numpy as jnp\n",
    "from jax import random\n",
    "\n",
    "import llama_jax as ll"
   ]
  },
  {
   "cell_type": "markdown",
   "id": "8337a93e-d0ed-43ef-a434-06c86bc6977f",
   "metadata": {},
   "source": [
    "# Configure"
   ]
  },
  {
   "cell_type": "code",
   "execution_count": 2,
   "id": "ee8788e4-04d2-4ee0-99c4-323598bcea82",
   "metadata": {},
   "outputs": [],
   "source": [
    "# Parameters\n",
    "max_tokens = 20"
   ]
  },
  {
   "cell_type": "code",
   "execution_count": 3,
   "id": "f5ae982f-d15e-4526-98e9-aec414886954",
   "metadata": {},
   "outputs": [],
   "source": [
    "key = random.key(seed())\n",
    "\n",
    "# Configure model\n",
    "config = ll.checkpoint.load_config(\"Llama3.2-3B\")\n",
    "tokenizer = ll.checkpoint.load_tokenizer(config)\n",
    "model = ll.model.create(config)"
   ]
  },
  {
   "cell_type": "markdown",
   "id": "305e18ca-8fe8-4547-80d2-6f24a7a3dacb",
   "metadata": {},
   "source": [
    "# Prompt"
   ]
  },
  {
   "cell_type": "code",
   "execution_count": 4,
   "id": "ce7d5987-e79d-42aa-ad63-7a311727b4a4",
   "metadata": {},
   "outputs": [],
   "source": [
    "prompt = \"I like traveling by train because\""
   ]
  },
  {
   "cell_type": "code",
   "execution_count": 5,
   "id": "890c3a2e-0b1c-4c82-8d6e-d62db72b6217",
   "metadata": {},
   "outputs": [
    {
     "data": {
      "text/plain": [
       "Array([[128000,     40,   1093,  21646,    555,   5542,   1606]], dtype=int32)"
      ]
     },
     "execution_count": 5,
     "metadata": {},
     "output_type": "execute_result"
    }
   ],
   "source": [
    "token_ids, position_mask = tokenizer.encode(prompt)\n",
    "token_ids"
   ]
  },
  {
   "cell_type": "markdown",
   "id": "246018a9-cc80-4a99-bd71-5907a13c9cbe",
   "metadata": {},
   "source": [
    "# Without KV Cache"
   ]
  },
  {
   "cell_type": "code",
   "execution_count": 6,
   "id": "50b36f73-f3f6-45a8-b84f-fec212a7e1df",
   "metadata": {},
   "outputs": [
    {
     "data": {
      "application/vnd.jupyter.widget-view+json": {
       "model_id": "49ce6aef032d475ca1b02abfc0c3997a",
       "version_major": 2,
       "version_minor": 0
      },
      "text/plain": [
       "Output()"
      ]
     },
     "metadata": {},
     "output_type": "display_data"
    },
    {
     "data": {
      "text/html": [
       "<pre style=\"white-space:pre;overflow-x:auto;line-height:normal;font-family:Menlo,'DejaVu Sans Mono',consolas,'Courier New',monospace\"></pre>\n"
      ],
      "text/plain": []
     },
     "metadata": {},
     "output_type": "display_data"
    }
   ],
   "source": [
    "with ll.render.token_view(config, prompt=prompt) as tv:\n",
    "    \n",
    "    key, *token_keys = random.split(key, max_tokens+1)\n",
    "\n",
    "    # Process entire sequence on first pass\n",
    "    x = token_ids\n",
    "    \n",
    "    # Generate max_tokens\n",
    "    for i in range(max_tokens):\n",
    "        \n",
    "        # Transform token ids into logits\n",
    "        logits = ll.model.forward(config, model, x, position_mask)\n",
    "        \n",
    "        # Sample next token\n",
    "        next_token_id = ll.model.next_token(logits, key=token_keys[i])\n",
    "        \n",
    "        # Decode and collect\n",
    "        tv.add_token(tokenizer.decode(next_token_id)[0])\n",
    "\n",
    "        # Process all tokens on next pass (no kvc)\n",
    "        x = jnp.concat([x, next_token_id], axis=-1)"
   ]
  },
  {
   "cell_type": "markdown",
   "id": "8bada1bb-8a0c-4686-9b4b-bca23ce69d43",
   "metadata": {},
   "source": [
    "# With KV Cache"
   ]
  },
  {
   "cell_type": "code",
   "execution_count": 7,
   "id": "6a682be2-83a8-424f-8c18-a4900e08df7e",
   "metadata": {},
   "outputs": [
    {
     "data": {
      "application/vnd.jupyter.widget-view+json": {
       "model_id": "687cfbe9e5e849b094ba30a53b58c27e",
       "version_major": 2,
       "version_minor": 0
      },
      "text/plain": [
       "Output()"
      ]
     },
     "metadata": {},
     "output_type": "display_data"
    },
    {
     "data": {
      "text/html": [
       "<pre style=\"white-space:pre;overflow-x:auto;line-height:normal;font-family:Menlo,'DejaVu Sans Mono',consolas,'Courier New',monospace\"></pre>\n"
      ],
      "text/plain": []
     },
     "metadata": {},
     "output_type": "display_data"
    }
   ],
   "source": [
    "with ll.render.token_view(config, prompt=prompt) as tv:\n",
    "\n",
    "    key, *token_keys = random.split(key, max_tokens+1)\n",
    "\n",
    "    # Initialize kvc\n",
    "    kvc = ll.kvc.create(config)\n",
    "    \n",
    "    # Process entire sequence on first pass\n",
    "    x = token_ids\n",
    "    \n",
    "    # Generate max_tokens\n",
    "    for i in range(max_tokens):\n",
    "\n",
    "        # Transform token ids into logits\n",
    "        logits, kvc = ll.model.forward(config, model, x, position_mask, kvc=kvc)\n",
    "        \n",
    "        # Sample next token\n",
    "        next_token_id = ll.model.next_token(logits, key=token_keys[i])\n",
    "                \n",
    "        # Decode and collect\n",
    "        tv.add_token(tokenizer.decode(next_token_id)[0])\n",
    "    \n",
    "        # Process generated token on next pass\n",
    "        x = next_token_id"
   ]
  },
  {
   "cell_type": "code",
   "execution_count": null,
   "id": "b5033c2a-3d9a-4b4e-abca-0ad5b7bd8f60",
   "metadata": {},
   "outputs": [],
   "source": []
  }
 ],
 "metadata": {
  "kernelspec": {
   "display_name": ".venv",
   "language": "python",
   "name": "python3"
  },
  "language_info": {
   "codemirror_mode": {
    "name": "ipython",
    "version": 3
   },
   "file_extension": ".py",
   "mimetype": "text/x-python",
   "name": "python",
   "nbconvert_exporter": "python",
   "pygments_lexer": "ipython3",
   "version": "3.12.8"
  }
 },
 "nbformat": 4,
 "nbformat_minor": 5
}
