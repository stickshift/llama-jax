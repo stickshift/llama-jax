{
 "cells": [
  {
   "cell_type": "markdown",
   "id": "748db826-cb5f-43f8-9282-e1fd31b0a4dd",
   "metadata": {},
   "source": [
    "# Text Completions"
   ]
  },
  {
   "cell_type": "markdown",
   "id": "fb259b01-2122-415a-9fb6-c6da9b7c274e",
   "metadata": {},
   "source": [
    "Exploring text completions using llama-jax."
   ]
  },
  {
   "cell_type": "markdown",
   "id": "f5f400fb-da00-428b-84e7-860e2d27ecde",
   "metadata": {},
   "source": [
    "# Setup"
   ]
  },
  {
   "cell_type": "code",
   "execution_count": 1,
   "id": "bb5244ca-c3a8-4d07-893c-df0aa14799b7",
   "metadata": {},
   "outputs": [
    {
     "name": "stderr",
     "output_type": "stream",
     "text": [
      "WARNING:2025-03-03 12:21:57,066:jax._src.xla_bridge:1000: Platform 'METAL' is experimental and not all JAX functionality may be correctly supported!\n"
     ]
    },
    {
     "name": "stdout",
     "output_type": "stream",
     "text": [
      "Metal device set to: Apple M1 Max\n",
      "\n",
      "systemMemory: 64.00 GB\n",
      "maxCacheSize: 24.00 GB\n",
      "\n"
     ]
    },
    {
     "name": "stderr",
     "output_type": "stream",
     "text": [
      "WARNING: All log messages before absl::InitializeLog() is called are written to STDERR\n",
      "W0000 00:00:1741022517.067212 11838555 mps_client.cc:510] WARNING: JAX Apple GPU support is experimental and not all JAX functionality is correctly supported!\n",
      "I0000 00:00:1741022517.078522 11838555 service.cc:145] XLA service 0x121c59c80 initialized for platform METAL (this does not guarantee that XLA will be used). Devices:\n",
      "I0000 00:00:1741022517.078539 11838555 service.cc:153]   StreamExecutor device (0): Metal, <undefined>\n",
      "I0000 00:00:1741022517.079948 11838555 mps_client.cc:406] Using Simple allocator.\n",
      "I0000 00:00:1741022517.079961 11838555 mps_client.cc:384] XLA backend will use up to 51539214336 bytes on device 0 for SimpleAllocator.\n"
     ]
    }
   ],
   "source": [
    "from collections.abc import Sequence\n",
    "from contextlib import contextmanager\n",
    "from sys import stdout\n",
    "from time import time_ns as seed, perf_counter_ns as timer\n",
    "\n",
    "import jax\n",
    "from jax import random\n",
    "from rich.live import Live\n",
    "from rich.table import Table\n",
    "\n",
    "import llama_jax as ll"
   ]
  },
  {
   "cell_type": "code",
   "execution_count": 2,
   "id": "4c996aee-8718-48db-be55-157d2cf3ebb1",
   "metadata": {},
   "outputs": [],
   "source": [
    "@contextmanager\n",
    "def tps_report(n_tokens: int):\n",
    "    start_time = timer()\n",
    "\n",
    "    yield\n",
    "        \n",
    "    duration = (timer() - start_time) / 1000000000\n",
    "    tps = n_tokens / duration\n",
    "    \n",
    "    print(f\"\\nGenerated {n_tokens} tokens in {duration:0.1f} s ({tps:0.1f} tps)\")\n",
    "\n",
    "\n",
    "def render(content: str | Sequence[str], token: int | None = None):\n",
    "    if isinstance(content, str):\n",
    "        content = [content]\n",
    "\n",
    "    n = len(content)\n",
    "\n",
    "    title = f\"Tokens {token+1}\" if token is not None else None\n",
    "\n",
    "    table = Table(\n",
    "        show_header=True, \n",
    "        show_edge=False, \n",
    "        expand=True,\n",
    "    )\n",
    "    \n",
    "    for i in range(n):\n",
    "        table.add_column(header=(title if i == 0 else \"\"), ratio=1/n)\n",
    "\n",
    "    table.add_row(*content)\n",
    "    \n",
    "    return table    "
   ]
  },
  {
   "cell_type": "code",
   "execution_count": 3,
   "id": "ee8788e4-04d2-4ee0-99c4-323598bcea82",
   "metadata": {},
   "outputs": [],
   "source": [
    "# Parameters\n",
    "max_tokens = 30"
   ]
  },
  {
   "cell_type": "code",
   "execution_count": 4,
   "id": "f5ae982f-d15e-4526-98e9-aec414886954",
   "metadata": {},
   "outputs": [],
   "source": [
    "# Configure generator\n",
    "config = ll.checkpoint.load_config(\"Llama3.2-3B\")\n",
    "generator = ll.text.generator(config, key=random.key(seed()), max_tokens=max_tokens)"
   ]
  },
  {
   "cell_type": "markdown",
   "id": "bf0076e5-474c-42d0-96aa-0b3b9d09958f",
   "metadata": {},
   "source": [
    "# Warmup"
   ]
  },
  {
   "cell_type": "code",
   "execution_count": 5,
   "id": "605989f7-71f7-4419-be6a-6458d082a691",
   "metadata": {},
   "outputs": [],
   "source": [
    "prompt = \"My name is Julien and I like to\""
   ]
  },
  {
   "cell_type": "code",
   "execution_count": 6,
   "id": "26156151-ac76-4370-a76d-1e377aa93153",
   "metadata": {},
   "outputs": [
    {
     "name": "stdout",
     "output_type": "stream",
     "text": [
      "..............................\n",
      "Generated 30 tokens in 25.1 s (1.2 tps)\n"
     ]
    }
   ],
   "source": [
    "with tps_report(max_tokens):\n",
    "    for token in generator(prompt):\n",
    "        stdout.write(\".\")"
   ]
  },
  {
   "cell_type": "markdown",
   "id": "305e18ca-8fe8-4547-80d2-6f24a7a3dacb",
   "metadata": {},
   "source": [
    "# Prompt 0: Trains"
   ]
  },
  {
   "cell_type": "code",
   "execution_count": 7,
   "id": "ce7d5987-e79d-42aa-ad63-7a311727b4a4",
   "metadata": {},
   "outputs": [],
   "source": [
    "prompt = \"I like traveling by train because\""
   ]
  },
  {
   "cell_type": "code",
   "execution_count": 8,
   "id": "23ce7892-5c16-4088-a43e-25a5ddb81dd2",
   "metadata": {},
   "outputs": [
    {
     "data": {
      "application/vnd.jupyter.widget-view+json": {
       "model_id": "ee84e1cd84cb4543a468d52a40ccccdf",
       "version_major": 2,
       "version_minor": 0
      },
      "text/plain": [
       "Output()"
      ]
     },
     "metadata": {},
     "output_type": "display_data"
    },
    {
     "data": {
      "text/html": [
       "<pre style=\"white-space:pre;overflow-x:auto;line-height:normal;font-family:Menlo,'DejaVu Sans Mono',consolas,'Courier New',monospace\"></pre>\n"
      ],
      "text/plain": []
     },
     "metadata": {},
     "output_type": "display_data"
    },
    {
     "name": "stdout",
     "output_type": "stream",
     "text": [
      "\n",
      "Generated 30 tokens in 8.1 s (3.7 tps)\n"
     ]
    }
   ],
   "source": [
    "content = prompt\n",
    "\n",
    "with tps_report(max_tokens), Live(render(content)) as live:    \n",
    "    for i, token in enumerate(generator(prompt)):\n",
    "        content += token\n",
    "        live.update(render(content, token=i))"
   ]
  },
  {
   "cell_type": "markdown",
   "id": "0a0f1eeb-8417-4979-924a-de7c30d4886e",
   "metadata": {},
   "source": [
    "# Prompt 1: Paris"
   ]
  },
  {
   "cell_type": "code",
   "execution_count": 9,
   "id": "eb78b2f6-8b17-4d05-8abd-09623f6f9979",
   "metadata": {},
   "outputs": [],
   "source": [
    "prompt = \"Paris is an amazing place to visit,\""
   ]
  },
  {
   "cell_type": "code",
   "execution_count": 10,
   "id": "784ffa59-1ed6-461e-8061-773285b32a83",
   "metadata": {},
   "outputs": [
    {
     "data": {
      "application/vnd.jupyter.widget-view+json": {
       "model_id": "0aabe37e38794102a3a29ca3f61f5933",
       "version_major": 2,
       "version_minor": 0
      },
      "text/plain": [
       "Output()"
      ]
     },
     "metadata": {},
     "output_type": "display_data"
    },
    {
     "data": {
      "text/html": [
       "<pre style=\"white-space:pre;overflow-x:auto;line-height:normal;font-family:Menlo,'DejaVu Sans Mono',consolas,'Courier New',monospace\"></pre>\n"
      ],
      "text/plain": []
     },
     "metadata": {},
     "output_type": "display_data"
    },
    {
     "name": "stdout",
     "output_type": "stream",
     "text": [
      "\n",
      "Generated 30 tokens in 5.9 s (5.1 tps)\n"
     ]
    }
   ],
   "source": [
    "content = prompt\n",
    "\n",
    "with tps_report(max_tokens), Live(render(content)) as live:    \n",
    "    for i, token in enumerate(generator(prompt)):\n",
    "        content += token\n",
    "        live.update(render(content, token=i))"
   ]
  },
  {
   "cell_type": "markdown",
   "id": "dbe2feef-09ed-43ca-b0fa-af06747857ad",
   "metadata": {},
   "source": [
    "# Prompt 2: Once Upon a Time"
   ]
  },
  {
   "cell_type": "code",
   "execution_count": 11,
   "id": "94059aab-e08d-4992-aab5-6542e26cbb48",
   "metadata": {},
   "outputs": [],
   "source": [
    "prompt = \"Once upon a time\""
   ]
  },
  {
   "cell_type": "code",
   "execution_count": 12,
   "id": "49b6331c-8ee7-43bc-9cac-eee6634cb1ce",
   "metadata": {},
   "outputs": [
    {
     "data": {
      "application/vnd.jupyter.widget-view+json": {
       "model_id": "2020ed1875eb47b4852d5ae1f4dea9d6",
       "version_major": 2,
       "version_minor": 0
      },
      "text/plain": [
       "Output()"
      ]
     },
     "metadata": {},
     "output_type": "display_data"
    },
    {
     "data": {
      "text/html": [
       "<pre style=\"white-space:pre;overflow-x:auto;line-height:normal;font-family:Menlo,'DejaVu Sans Mono',consolas,'Courier New',monospace\"></pre>\n"
      ],
      "text/plain": []
     },
     "metadata": {},
     "output_type": "display_data"
    },
    {
     "name": "stdout",
     "output_type": "stream",
     "text": [
      "\n",
      "Generated 30 tokens in 8.0 s (3.8 tps)\n"
     ]
    }
   ],
   "source": [
    "content = prompt\n",
    "\n",
    "with tps_report(max_tokens), Live(render(content)) as live:    \n",
    "    for i, token in enumerate(generator(prompt)):\n",
    "        content += token\n",
    "        live.update(render(content, token=i))"
   ]
  },
  {
   "cell_type": "markdown",
   "id": "1a8f890c-2bf2-46ac-b2a1-be30b985e9f8",
   "metadata": {},
   "source": [
    "# Batched"
   ]
  },
  {
   "cell_type": "code",
   "execution_count": 13,
   "id": "07d942b2",
   "metadata": {},
   "outputs": [],
   "source": [
    "prompts = (\n",
    "    \"I like traveling by train because\",\n",
    "    \"Paris is an amazing place to visit,\",\n",
    "    \"Once upon a time\",\n",
    ")"
   ]
  },
  {
   "cell_type": "code",
   "execution_count": 15,
   "id": "f0aeba35",
   "metadata": {},
   "outputs": [
    {
     "data": {
      "application/vnd.jupyter.widget-view+json": {
       "model_id": "5968e5f5ab1a4aa986cfd7eb16104526",
       "version_major": 2,
       "version_minor": 0
      },
      "text/plain": [
       "Output()"
      ]
     },
     "metadata": {},
     "output_type": "display_data"
    },
    {
     "data": {
      "text/html": [
       "<pre style=\"white-space:pre;overflow-x:auto;line-height:normal;font-family:Menlo,'DejaVu Sans Mono',consolas,'Courier New',monospace\"></pre>\n"
      ],
      "text/plain": []
     },
     "metadata": {},
     "output_type": "display_data"
    }
   ],
   "source": [
    "content = prompts\n",
    "\n",
    "with Live(render(content)) as live:    \n",
    "    for i, tokens in enumerate(generator(prompts, max_tokens=50)):\n",
    "        content = [content[i] + token for i, token in enumerate(tokens)]\n",
    "        live.update(render(content, token=i))"
   ]
  },
  {
   "cell_type": "code",
   "execution_count": null,
   "id": "9cdcd1ce",
   "metadata": {},
   "outputs": [],
   "source": []
  }
 ],
 "metadata": {
  "kernelspec": {
   "display_name": ".venv",
   "language": "python",
   "name": "python3"
  },
  "language_info": {
   "codemirror_mode": {
    "name": "ipython",
    "version": 3
   },
   "file_extension": ".py",
   "mimetype": "text/x-python",
   "name": "python",
   "nbconvert_exporter": "python",
   "pygments_lexer": "ipython3",
   "version": "3.12.8"
  }
 },
 "nbformat": 4,
 "nbformat_minor": 5
}
