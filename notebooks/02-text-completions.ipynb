{
 "cells": [
  {
   "cell_type": "markdown",
   "id": "748db826-cb5f-43f8-9282-e1fd31b0a4dd",
   "metadata": {},
   "source": [
    "# Text Completions"
   ]
  },
  {
   "cell_type": "markdown",
   "id": "fb259b01-2122-415a-9fb6-c6da9b7c274e",
   "metadata": {},
   "source": [
    "Exploring text completions using llama-jax."
   ]
  },
  {
   "cell_type": "markdown",
   "id": "f5f400fb-da00-428b-84e7-860e2d27ecde",
   "metadata": {},
   "source": [
    "# Setup"
   ]
  },
  {
   "cell_type": "code",
   "execution_count": 1,
   "id": "bb5244ca-c3a8-4d07-893c-df0aa14799b7",
   "metadata": {},
   "outputs": [],
   "source": [
    "from collections.abc import Sequence\n",
    "from contextlib import contextmanager\n",
    "from sys import stdout\n",
    "from time import time_ns, perf_counter_ns as timer\n",
    "\n",
    "import jax\n",
    "from jax import numpy as jnp\n",
    "from jax import random\n",
    "from rich.live import Live\n",
    "from rich.table import Table, Column\n",
    "\n",
    "import llama_jax as ll"
   ]
  },
  {
   "cell_type": "code",
   "execution_count": 2,
   "id": "ec4ab47d-3d54-4355-9ce8-1add44bbb1f8",
   "metadata": {},
   "outputs": [
    {
     "name": "stderr",
     "output_type": "stream",
     "text": [
      "WARNING:2025-02-25 14:50:59,956:jax._src.xla_bridge:1000: Platform 'METAL' is experimental and not all JAX functionality may be correctly supported!\n"
     ]
    },
    {
     "name": "stdout",
     "output_type": "stream",
     "text": [
      "Metal device set to: Apple M1 Max\n",
      "\n",
      "systemMemory: 64.00 GB\n",
      "maxCacheSize: 24.00 GB\n",
      "\n",
      "Available devices: [METAL(id=0)]\n"
     ]
    },
    {
     "name": "stderr",
     "output_type": "stream",
     "text": [
      "WARNING: All log messages before absl::InitializeLog() is called are written to STDERR\n",
      "W0000 00:00:1740513059.956446 4297108 mps_client.cc:510] WARNING: JAX Apple GPU support is experimental and not all JAX functionality is correctly supported!\n",
      "I0000 00:00:1740513059.967111 4297108 service.cc:145] XLA service 0x126546370 initialized for platform METAL (this does not guarantee that XLA will be used). Devices:\n",
      "I0000 00:00:1740513059.967118 4297108 service.cc:153]   StreamExecutor device (0): Metal, <undefined>\n",
      "I0000 00:00:1740513059.968517 4297108 mps_client.cc:406] Using Simple allocator.\n",
      "I0000 00:00:1740513059.968532 4297108 mps_client.cc:384] XLA backend will use up to 51539214336 bytes on device 0 for SimpleAllocator.\n"
     ]
    }
   ],
   "source": [
    "print(f\"Available devices: {jax.devices()}\")"
   ]
  },
  {
   "cell_type": "code",
   "execution_count": 3,
   "id": "4c996aee-8718-48db-be55-157d2cf3ebb1",
   "metadata": {},
   "outputs": [],
   "source": [
    "@contextmanager\n",
    "def tps_report(n_tokens: int):\n",
    "    start_time = timer()\n",
    "\n",
    "    yield\n",
    "    \n",
    "    stdout.write(\"\\n\\n\")\n",
    "    \n",
    "    duration = (timer() - start_time) / 1000000000\n",
    "    tps = n_tokens / duration\n",
    "    \n",
    "    print(f\"Generated {n_tokens} tokens in {duration:0.1f} s ({tps:0.1f} tps)\")\n",
    "\n",
    "\n",
    "def render(content: str | Sequence[str]):\n",
    "    if isinstance(content, str):\n",
    "        content = [content]\n",
    "\n",
    "    n = len(content)\n",
    "\n",
    "    table = Table(show_header=False, expand=True)\n",
    "    \n",
    "    for _ in range(n):\n",
    "        table.add_column(Column(), ratio=1/n)\n",
    "\n",
    "    table.add_row(*content)\n",
    "    \n",
    "    return table    "
   ]
  },
  {
   "cell_type": "markdown",
   "id": "8337a93e-d0ed-43ef-a434-06c86bc6977f",
   "metadata": {},
   "source": [
    "# Configure"
   ]
  },
  {
   "cell_type": "code",
   "execution_count": 4,
   "id": "ee8788e4-04d2-4ee0-99c4-323598bcea82",
   "metadata": {},
   "outputs": [],
   "source": [
    "# Parameters\n",
    "max_tokens = 30\n",
    "seed = time_ns()"
   ]
  },
  {
   "cell_type": "code",
   "execution_count": 5,
   "id": "f5ae982f-d15e-4526-98e9-aec414886954",
   "metadata": {},
   "outputs": [],
   "source": [
    "# Configure generator\n",
    "key = random.key(seed)\n",
    "config = ll.checkpoint.load_config(\"Llama3.2-3B\")\n",
    "key, subkey = random.split(key)\n",
    "generator = ll.text.generator(config, key=subkey, max_tokens=max_tokens)"
   ]
  },
  {
   "cell_type": "markdown",
   "id": "bf0076e5-474c-42d0-96aa-0b3b9d09958f",
   "metadata": {},
   "source": [
    "# Warmup"
   ]
  },
  {
   "cell_type": "code",
   "execution_count": 6,
   "id": "605989f7-71f7-4419-be6a-6458d082a691",
   "metadata": {},
   "outputs": [],
   "source": [
    "prompt = \"My name is Julien and I like to\""
   ]
  },
  {
   "cell_type": "code",
   "execution_count": 7,
   "id": "26156151-ac76-4370-a76d-1e377aa93153",
   "metadata": {},
   "outputs": [
    {
     "name": "stdout",
     "output_type": "stream",
     "text": [
      "My name is Julien and I like to play with light. I am a photographer based in Paris, France. I work as a professional photographer and I also do some commercial work for different brands\n",
      "\n",
      "Generated 30 tokens in 26.6 s (1.1 tps)\n"
     ]
    }
   ],
   "source": [
    "with tps_report(max_tokens):\n",
    "    # Print input tokens\n",
    "    stdout.write(prompt)\n",
    "    \n",
    "    # Generate tokens\n",
    "    for token in generator(prompt):\n",
    "        # Print next token\n",
    "        stdout.write(token)"
   ]
  },
  {
   "cell_type": "markdown",
   "id": "305e18ca-8fe8-4547-80d2-6f24a7a3dacb",
   "metadata": {},
   "source": [
    "# Prompt 0: Trains"
   ]
  },
  {
   "cell_type": "code",
   "execution_count": 8,
   "id": "ce7d5987-e79d-42aa-ad63-7a311727b4a4",
   "metadata": {},
   "outputs": [],
   "source": [
    "prompt = \"I like traveling by train because\"\n",
    "content = prompt"
   ]
  },
  {
   "cell_type": "code",
   "execution_count": null,
   "id": "23ce7892-5c16-4088-a43e-25a5ddb81dd2",
   "metadata": {},
   "outputs": [],
   "source": [
    "with tps_report(max_tokens):\n",
    "    with Live(render(content)) as live:    \n",
    "        \n",
    "        # Generate tokens\n",
    "        for token in generator(prompt):\n",
    "            content += token\n",
    "            live.update(render(content))"
   ]
  },
  {
   "cell_type": "markdown",
   "id": "0a0f1eeb-8417-4979-924a-de7c30d4886e",
   "metadata": {},
   "source": [
    "# Prompt 1: Paris"
   ]
  },
  {
   "cell_type": "code",
   "execution_count": 10,
   "id": "eb78b2f6-8b17-4d05-8abd-09623f6f9979",
   "metadata": {},
   "outputs": [],
   "source": [
    "prompt = \"Paris is an amazing place to visit,\"\n",
    "content = prompt"
   ]
  },
  {
   "cell_type": "code",
   "execution_count": null,
   "id": "784ffa59-1ed6-461e-8061-773285b32a83",
   "metadata": {},
   "outputs": [],
   "source": [
    "with tps_report(max_tokens):\n",
    "    with Live(render(content)) as live:    \n",
    "        \n",
    "        # Generate tokens\n",
    "        for token in generator(prompt):\n",
    "            content += token\n",
    "            live.update(render(content))"
   ]
  },
  {
   "cell_type": "markdown",
   "id": "dbe2feef-09ed-43ca-b0fa-af06747857ad",
   "metadata": {},
   "source": [
    "# Prompt 2: Once Upon a Time"
   ]
  },
  {
   "cell_type": "code",
   "execution_count": 12,
   "id": "94059aab-e08d-4992-aab5-6542e26cbb48",
   "metadata": {},
   "outputs": [],
   "source": [
    "prompt = \"Once upon a time\"\n",
    "content = prompt"
   ]
  },
  {
   "cell_type": "code",
   "execution_count": null,
   "id": "49b6331c-8ee7-43bc-9cac-eee6634cb1ce",
   "metadata": {},
   "outputs": [],
   "source": [
    "with tps_report(max_tokens):\n",
    "    with Live(render(content)) as live:    \n",
    "        \n",
    "        # Generate tokens\n",
    "        for token in generator(prompt):\n",
    "            content += token\n",
    "            live.update(render(content))"
   ]
  },
  {
   "cell_type": "markdown",
   "id": "7ee4fcc3-70bb-480c-b97a-e2aa5137fe30",
   "metadata": {},
   "source": [
    "# Prompt 3: Once Upon a Time Extended"
   ]
  },
  {
   "cell_type": "code",
   "execution_count": 14,
   "id": "1010331b-8304-4897-9d2f-4cbb5ce358d5",
   "metadata": {},
   "outputs": [],
   "source": [
    "prompt = \"Once upon a time\"\n",
    "content = prompt\n",
    "n_tokens = 120"
   ]
  },
  {
   "cell_type": "code",
   "execution_count": null,
   "id": "5ccddea0-3cea-47cd-a4ab-7ee8c814eba0",
   "metadata": {},
   "outputs": [],
   "source": [
    "with tps_report(n_tokens):\n",
    "    with Live(render(content)) as live:    \n",
    "        \n",
    "        # Generate tokens\n",
    "        for token in generator(prompt, max_tokens=n_tokens):\n",
    "            content += token\n",
    "            live.update(render(content))"
   ]
  },
  {
   "cell_type": "markdown",
   "id": "1a8f890c-2bf2-46ac-b2a1-be30b985e9f8",
   "metadata": {},
   "source": [
    "# Batched"
   ]
  },
  {
   "cell_type": "code",
   "execution_count": 14,
   "id": "07d942b2",
   "metadata": {},
   "outputs": [],
   "source": [
    "prompts = (\n",
    "    \"I like traveling by train because\",\n",
    "    \"Paris is an amazing place to visit,\",\n",
    "    \"Once upon a time\",\n",
    ")"
   ]
  },
  {
   "cell_type": "code",
   "execution_count": 16,
   "id": "f0aeba35",
   "metadata": {},
   "outputs": [
    {
     "data": {
      "application/vnd.jupyter.widget-view+json": {
       "model_id": "04b613df9981405897bec6b36579a4ff",
       "version_major": 2,
       "version_minor": 0
      },
      "text/plain": [
       "Output()"
      ]
     },
     "metadata": {},
     "output_type": "display_data"
    },
    {
     "data": {
      "text/html": [
       "<pre style=\"white-space:pre;overflow-x:auto;line-height:normal;font-family:Menlo,'DejaVu Sans Mono',consolas,'Courier New',monospace\"></pre>\n"
      ],
      "text/plain": []
     },
     "metadata": {},
     "output_type": "display_data"
    }
   ],
   "source": [
    "content = prompts\n",
    "n_tokens = 120\n",
    "temperature = 0.6\n",
    "\n",
    "with Live(render(content)) as live:            \n",
    "    for tokens in generator(prompts, max_tokens=n_tokens, temperature=temperature):\n",
    "        content = [content[i] + token for i, token in enumerate(tokens)]\n",
    "        live.update(render(content))"
   ]
  },
  {
   "cell_type": "code",
   "execution_count": 17,
   "id": "18d88e11",
   "metadata": {},
   "outputs": [
    {
     "data": {
      "application/vnd.jupyter.widget-view+json": {
       "model_id": "190a982cbec7485b9b49ee7caffe945b",
       "version_major": 2,
       "version_minor": 0
      },
      "text/plain": [
       "Output()"
      ]
     },
     "metadata": {},
     "output_type": "display_data"
    },
    {
     "data": {
      "text/html": [
       "<pre style=\"white-space:pre;overflow-x:auto;line-height:normal;font-family:Menlo,'DejaVu Sans Mono',consolas,'Courier New',monospace\"></pre>\n"
      ],
      "text/plain": []
     },
     "metadata": {},
     "output_type": "display_data"
    }
   ],
   "source": [
    "content = prompts\n",
    "n_tokens = 100\n",
    "temperature = 1.2\n",
    "\n",
    "with Live(render(content)) as live:            \n",
    "    for tokens in generator(prompts, max_tokens=n_tokens, temperature=temperature):\n",
    "        content = [content[i] + token for i, token in enumerate(tokens)]\n",
    "        live.update(render(content))"
   ]
  },
  {
   "cell_type": "code",
   "execution_count": null,
   "id": "bd7d5062",
   "metadata": {},
   "outputs": [],
   "source": []
  },
  {
   "cell_type": "code",
   "execution_count": null,
   "id": "b83cd0a0",
   "metadata": {},
   "outputs": [],
   "source": []
  }
 ],
 "metadata": {
  "kernelspec": {
   "display_name": ".venv",
   "language": "python",
   "name": "python3"
  },
  "language_info": {
   "codemirror_mode": {
    "name": "ipython",
    "version": 3
   },
   "file_extension": ".py",
   "mimetype": "text/x-python",
   "name": "python",
   "nbconvert_exporter": "python",
   "pygments_lexer": "ipython3",
   "version": "3.12.8"
  }
 },
 "nbformat": 4,
 "nbformat_minor": 5
}
