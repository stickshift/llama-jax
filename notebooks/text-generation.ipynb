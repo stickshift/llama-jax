{
 "cells": [
  {
   "cell_type": "markdown",
   "id": "748db826-cb5f-43f8-9282-e1fd31b0a4dd",
   "metadata": {},
   "source": [
    "# Text Generation"
   ]
  },
  {
   "cell_type": "markdown",
   "id": "fb259b01-2122-415a-9fb6-c6da9b7c274e",
   "metadata": {},
   "source": [
    "Exploring raw text generation using llama-jax with and without KV caching."
   ]
  },
  {
   "cell_type": "markdown",
   "id": "f5f400fb-da00-428b-84e7-860e2d27ecde",
   "metadata": {},
   "source": [
    "# Setup"
   ]
  },
  {
   "cell_type": "code",
   "execution_count": 1,
   "id": "bb5244ca-c3a8-4d07-893c-df0aa14799b7",
   "metadata": {},
   "outputs": [],
   "source": [
    "from sys import stdout\n",
    "from time import time_ns, perf_counter_ns as timer\n",
    "\n",
    "import jax\n",
    "from jax import numpy as jnp\n",
    "from jax import random\n",
    "\n",
    "import llama_jax as ll"
   ]
  },
  {
   "cell_type": "code",
   "execution_count": 2,
   "id": "ec4ab47d-3d54-4355-9ce8-1add44bbb1f8",
   "metadata": {},
   "outputs": [
    {
     "name": "stderr",
     "output_type": "stream",
     "text": [
      "WARNING:2025-01-05 19:39:14,547:jax._src.xla_bridge:1000: Platform 'METAL' is experimental and not all JAX functionality may be correctly supported!\n"
     ]
    },
    {
     "name": "stdout",
     "output_type": "stream",
     "text": [
      "Metal device set to: Apple M1 Max\n",
      "Available devices: [METAL(id=0)]\n"
     ]
    },
    {
     "name": "stderr",
     "output_type": "stream",
     "text": [
      "WARNING: All log messages before absl::InitializeLog() is called are written to STDERR\n",
      "W0000 00:00:1736123954.547473 17206389 mps_client.cc:510] WARNING: JAX Apple GPU support is experimental and not all JAX functionality is correctly supported!\n",
      "I0000 00:00:1736123954.557401 17206389 service.cc:145] XLA service 0x6000012e2600 initialized for platform METAL (this does not guarantee that XLA will be used). Devices:\n",
      "I0000 00:00:1736123954.557413 17206389 service.cc:153]   StreamExecutor device (0): Metal, <undefined>\n",
      "I0000 00:00:1736123954.558573 17206389 mps_client.cc:406] Using Simple allocator.\n",
      "I0000 00:00:1736123954.558584 17206389 mps_client.cc:384] XLA backend will use up to 51539214336 bytes on device 0 for SimpleAllocator.\n"
     ]
    }
   ],
   "source": [
    "print(f\"Available devices: {jax.devices()}\")"
   ]
  },
  {
   "cell_type": "markdown",
   "id": "8337a93e-d0ed-43ef-a434-06c86bc6977f",
   "metadata": {},
   "source": [
    "# Configure"
   ]
  },
  {
   "cell_type": "code",
   "execution_count": 3,
   "id": "ee8788e4-04d2-4ee0-99c4-323598bcea82",
   "metadata": {},
   "outputs": [],
   "source": [
    "# Parameters\n",
    "max_tokens = 20\n",
    "seed = time_ns()"
   ]
  },
  {
   "cell_type": "code",
   "execution_count": 4,
   "id": "278e6336-fa86-48ca-8478-882e7cedad24",
   "metadata": {},
   "outputs": [],
   "source": [
    "def print_tps():\n",
    "    duration = (timer() - start_time) / 1000000000\n",
    "    tps = max_tokens / duration\n",
    "    print(f\"Generated {max_tokens} tokens in {duration:0.1f} s ({tps:0.1f} tps)\")    "
   ]
  },
  {
   "cell_type": "code",
   "execution_count": 5,
   "id": "f5ae982f-d15e-4526-98e9-aec414886954",
   "metadata": {},
   "outputs": [],
   "source": [
    "# Configure model\n",
    "key = random.key(seed)\n",
    "config = ll.checkpoint.load_config(\"Llama3.2-3B\")\n",
    "params = ll.checkpoint.load_parameters(config)\n",
    "tokenizer = ll.checkpoint.load_tokenizer(config)\n",
    "model = ll.model.create(config, params)"
   ]
  },
  {
   "cell_type": "markdown",
   "id": "305e18ca-8fe8-4547-80d2-6f24a7a3dacb",
   "metadata": {},
   "source": [
    "# Prompt"
   ]
  },
  {
   "cell_type": "code",
   "execution_count": 6,
   "id": "ce7d5987-e79d-42aa-ad63-7a311727b4a4",
   "metadata": {},
   "outputs": [],
   "source": [
    "prompt = \"I like traveling by train because\""
   ]
  },
  {
   "cell_type": "markdown",
   "id": "bbb199f6-c36b-4a92-ae8d-d93e572e344e",
   "metadata": {},
   "source": [
    "# Generator"
   ]
  },
  {
   "cell_type": "markdown",
   "id": "8377c03b-3b99-4f9b-8a47-3c341ec7dcb1",
   "metadata": {},
   "source": [
    "First, let's use the complete text generator pipeline."
   ]
  },
  {
   "cell_type": "code",
   "execution_count": 7,
   "id": "093cc745-e330-4242-af71-f43d6a0b988d",
   "metadata": {},
   "outputs": [],
   "source": [
    "key, subkey = random.split(key)\n",
    "generator = ll.text.generator(config, model=model, key=subkey, max_tokens=max_tokens)"
   ]
  },
  {
   "cell_type": "code",
   "execution_count": 8,
   "id": "23ce7892-5c16-4088-a43e-25a5ddb81dd2",
   "metadata": {},
   "outputs": [
    {
     "name": "stdout",
     "output_type": "stream",
     "text": [
      "I like traveling by train because I can take my time and enjoy the view. I also like traveling by train because it’s more\n",
      "\n",
      "Generated 20 tokens in 13.6 s (1.5 tps)\n"
     ]
    }
   ],
   "source": [
    "start_time = timer()\n",
    "\n",
    "# Print input tokens\n",
    "stdout.write(prompt)\n",
    "\n",
    "# Generate tokens\n",
    "for token in generator(prompt):\n",
    "    # Print next token\n",
    "    stdout.write(token)\n",
    "    \n",
    "_ = stdout.write(\"\\n\\n\")\n",
    "\n",
    "print_tps()"
   ]
  },
  {
   "cell_type": "markdown",
   "id": "37a27321-9af3-4060-b1d5-2642b9e53b67",
   "metadata": {},
   "source": [
    "# Tokenize"
   ]
  },
  {
   "cell_type": "code",
   "execution_count": 9,
   "id": "890c3a2e-0b1c-4c82-8d6e-d62db72b6217",
   "metadata": {},
   "outputs": [
    {
     "data": {
      "text/plain": [
       "Array([[128000,     40,   1093,  21646,    555,   5542,   1606]], dtype=int32)"
      ]
     },
     "execution_count": 9,
     "metadata": {},
     "output_type": "execute_result"
    }
   ],
   "source": [
    "token_ids = tokenizer.encode(prompt)\n",
    "token_ids"
   ]
  },
  {
   "cell_type": "markdown",
   "id": "246018a9-cc80-4a99-bd71-5907a13c9cbe",
   "metadata": {},
   "source": [
    "# Without KV Cache"
   ]
  },
  {
   "cell_type": "code",
   "execution_count": 10,
   "id": "50b36f73-f3f6-45a8-b84f-fec212a7e1df",
   "metadata": {},
   "outputs": [
    {
     "name": "stdout",
     "output_type": "stream",
     "text": [
      "I like traveling by train because I have the chance to sit back and relax and read a book. The train is a good place\n",
      "\n",
      "Generated 20 tokens in 14.0 s (1.4 tps)\n"
     ]
    }
   ],
   "source": [
    "start_time = timer()\n",
    "\n",
    "# Print input tokens\n",
    "stdout.write(prompt)\n",
    "\n",
    "# Process all tokens on first pass\n",
    "x = token_ids\n",
    "\n",
    "for _ in range(max_tokens):\n",
    "    # Transform tokens into logits\n",
    "    logits = ll.model.forward(config, model, x)\n",
    "    \n",
    "    # Sample next token\n",
    "    next_token_id, key = ll.model.next_token(logits, key)\n",
    "    \n",
    "    # Print next token\n",
    "    stdout.write(tokenizer.decode(next_token_id)[0])\n",
    "\n",
    "    # Process all tokens on next pass\n",
    "    x = jnp.concat([x, next_token_id], axis=-1)\n",
    "    \n",
    "_ = stdout.write(\"\\n\\n\")\n",
    "\n",
    "print_tps()"
   ]
  },
  {
   "cell_type": "markdown",
   "id": "8bada1bb-8a0c-4686-9b4b-bca23ce69d43",
   "metadata": {},
   "source": [
    "# With KV Cache"
   ]
  },
  {
   "cell_type": "code",
   "execution_count": 11,
   "id": "6a682be2-83a8-424f-8c18-a4900e08df7e",
   "metadata": {},
   "outputs": [
    {
     "name": "stdout",
     "output_type": "stream",
     "text": [
      "I like traveling by train because it gives me the opportunity to see the country and learn about the culture. I also like the fact\n",
      "\n",
      "Generated 20 tokens in 2.1 s (9.7 tps)\n"
     ]
    }
   ],
   "source": [
    "start_time = timer()\n",
    "\n",
    "# Print input tokens\n",
    "stdout.write(prompt)\n",
    "\n",
    "# Initialize cache\n",
    "kv_cache = ll.kv_cache.create(config)\n",
    "\n",
    "# Process all tokens on first pass\n",
    "x = token_ids\n",
    "\n",
    "for _ in range(max_tokens):\n",
    "    # Transform tokens into logits\n",
    "    logits, kv_cache = ll.model.forward(config, model, x, kv_cache=kv_cache)\n",
    "    \n",
    "    # Sample next token\n",
    "    next_token_id, key = ll.model.next_token(logits, key)\n",
    "    \n",
    "    # Print next token\n",
    "    stdout.write(tokenizer.decode(next_token_id)[0])\n",
    "\n",
    "    # Process generated token on next pass\n",
    "    x = next_token_id\n",
    "\n",
    "_ = stdout.write(\"\\n\\n\")\n",
    "\n",
    "print_tps()"
   ]
  },
  {
   "cell_type": "code",
   "execution_count": null,
   "id": "b5033c2a-3d9a-4b4e-abca-0ad5b7bd8f60",
   "metadata": {},
   "outputs": [],
   "source": []
  }
 ],
 "metadata": {
  "kernelspec": {
   "display_name": "Python 3 (ipykernel)",
   "language": "python",
   "name": "python3"
  },
  "language_info": {
   "codemirror_mode": {
    "name": "ipython",
    "version": 3
   },
   "file_extension": ".py",
   "mimetype": "text/x-python",
   "name": "python",
   "nbconvert_exporter": "python",
   "pygments_lexer": "ipython3",
   "version": "3.12.6"
  }
 },
 "nbformat": 4,
 "nbformat_minor": 5
}
