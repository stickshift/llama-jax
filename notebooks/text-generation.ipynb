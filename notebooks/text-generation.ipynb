{
 "cells": [
  {
   "cell_type": "markdown",
   "id": "748db826-cb5f-43f8-9282-e1fd31b0a4dd",
   "metadata": {},
   "source": [
    "# Text Generation"
   ]
  },
  {
   "cell_type": "markdown",
   "id": "fb259b01-2122-415a-9fb6-c6da9b7c274e",
   "metadata": {},
   "source": [
    "Exploring raw text generation using llama-jax with and without KV caching."
   ]
  },
  {
   "cell_type": "markdown",
   "id": "f5f400fb-da00-428b-84e7-860e2d27ecde",
   "metadata": {
    "jp-MarkdownHeadingCollapsed": true
   },
   "source": [
    "# Setup"
   ]
  },
  {
   "cell_type": "code",
   "execution_count": 1,
   "id": "bb5244ca-c3a8-4d07-893c-df0aa14799b7",
   "metadata": {},
   "outputs": [],
   "source": [
    "from sys import stdout\n",
    "from time import time_ns\n",
    "\n",
    "import jax\n",
    "from jax import random\n",
    "\n",
    "import llama_jax as ll"
   ]
  },
  {
   "cell_type": "code",
   "execution_count": 2,
   "id": "ec4ab47d-3d54-4355-9ce8-1add44bbb1f8",
   "metadata": {},
   "outputs": [
    {
     "name": "stderr",
     "output_type": "stream",
     "text": [
      "WARNING:2025-01-04 16:59:40,551:jax._src.xla_bridge:1000: Platform 'METAL' is experimental and not all JAX functionality may be correctly supported!\n"
     ]
    },
    {
     "name": "stdout",
     "output_type": "stream",
     "text": [
      "Metal device set to: Apple M1 Max\n",
      "Available devices: [METAL(id=0)]\n"
     ]
    },
    {
     "name": "stderr",
     "output_type": "stream",
     "text": [
      "WARNING: All log messages before absl::InitializeLog() is called are written to STDERR\n",
      "W0000 00:00:1736027980.551736 16189038 mps_client.cc:510] WARNING: JAX Apple GPU support is experimental and not all JAX functionality is correctly supported!\n",
      "I0000 00:00:1736027980.560877 16189038 service.cc:145] XLA service 0x600000a50000 initialized for platform METAL (this does not guarantee that XLA will be used). Devices:\n",
      "I0000 00:00:1736027980.560886 16189038 service.cc:153]   StreamExecutor device (0): Metal, <undefined>\n",
      "I0000 00:00:1736027980.562339 16189038 mps_client.cc:406] Using Simple allocator.\n",
      "I0000 00:00:1736027980.562348 16189038 mps_client.cc:384] XLA backend will use up to 51539214336 bytes on device 0 for SimpleAllocator.\n"
     ]
    }
   ],
   "source": [
    "print(f\"Available devices: {jax.devices()}\")"
   ]
  },
  {
   "cell_type": "markdown",
   "id": "8337a93e-d0ed-43ef-a434-06c86bc6977f",
   "metadata": {},
   "source": [
    "# Configure"
   ]
  },
  {
   "cell_type": "code",
   "execution_count": 3,
   "id": "ee8788e4-04d2-4ee0-99c4-323598bcea82",
   "metadata": {},
   "outputs": [],
   "source": [
    "# Parameters\n",
    "max_tokens = 20\n",
    "seed = time_ns()"
   ]
  },
  {
   "cell_type": "code",
   "execution_count": 4,
   "id": "f5ae982f-d15e-4526-98e9-aec414886954",
   "metadata": {},
   "outputs": [],
   "source": [
    "# Configure model\n",
    "key = random.key(seed)\n",
    "config = ll.checkpoint.load_config(\"Llama3.2-3B\")\n",
    "params = ll.checkpoint.load_parameters(config)\n",
    "tokenizer = ll.checkpoint.load_tokenizer(config)\n",
    "model = ll.model.create(config, params)"
   ]
  },
  {
   "cell_type": "markdown",
   "id": "83f53e24-b689-46fc-913a-e229a4f53407",
   "metadata": {},
   "source": [
    "# Prompt 0"
   ]
  },
  {
   "cell_type": "code",
   "execution_count": 5,
   "id": "890c3a2e-0b1c-4c82-8d6e-d62db72b6217",
   "metadata": {},
   "outputs": [],
   "source": [
    "prompt = \"I like traveling by train because\""
   ]
  },
  {
   "cell_type": "markdown",
   "id": "37a27321-9af3-4060-b1d5-2642b9e53b67",
   "metadata": {},
   "source": [
    "## Tokenize"
   ]
  },
  {
   "cell_type": "code",
   "execution_count": 6,
   "id": "1425f590-65b6-442c-8611-708feb1d9126",
   "metadata": {},
   "outputs": [
    {
     "data": {
      "text/plain": [
       "Array([[128000,     40,   1093,  21646,    555,   5542,   1606]], dtype=int32)"
      ]
     },
     "execution_count": 6,
     "metadata": {},
     "output_type": "execute_result"
    }
   ],
   "source": [
    "tokens = tokenizer.encode(prompt)\n",
    "tokens"
   ]
  },
  {
   "cell_type": "markdown",
   "id": "246018a9-cc80-4a99-bd71-5907a13c9cbe",
   "metadata": {},
   "source": [
    "## Without KV Cache"
   ]
  },
  {
   "cell_type": "code",
   "execution_count": 9,
   "id": "50b36f73-f3f6-45a8-b84f-fec212a7e1df",
   "metadata": {},
   "outputs": [
    {
     "name": "stdout",
     "output_type": "stream",
     "text": [
      "I like traveling by train because it is so relaxing and there is plenty of time to do things like read or just look out the\n"
     ]
    }
   ],
   "source": [
    "# Print input tokens\n",
    "stdout.write(prompt)\n",
    "\n",
    "# Process all tokens on first pass\n",
    "x = tokens\n",
    "\n",
    "for _ in range(max_tokens):\n",
    "    # Transform tokens into logits\n",
    "    logits = ll.model.forward(config, model, x)\n",
    "    \n",
    "    # Sample next token\n",
    "    next_token, key = ll.model.sample_tokens(logits, key)\n",
    "    \n",
    "    # Print next token\n",
    "    stdout.write(tokenizer.decode(next_token)[0])\n",
    "\n",
    "    # Process all tokens on next pass\n",
    "    x = jnp.concat([x, next_token], axis=-1)\n",
    "\n",
    "_ = stdout.write(\"\\n\")"
   ]
  },
  {
   "cell_type": "markdown",
   "id": "8bada1bb-8a0c-4686-9b4b-bca23ce69d43",
   "metadata": {},
   "source": [
    "## With KV Cache"
   ]
  },
  {
   "cell_type": "code",
   "execution_count": 10,
   "id": "6a682be2-83a8-424f-8c18-a4900e08df7e",
   "metadata": {},
   "outputs": [
    {
     "name": "stdout",
     "output_type": "stream",
     "text": [
      "I like traveling by train because it’s more relaxing than flying. I can read and enjoy the scenery. There is also a lot\n"
     ]
    }
   ],
   "source": [
    "# Print input tokens\n",
    "stdout.write(prompt)\n",
    "\n",
    "# Initialize cache\n",
    "kv_cache = ll.kv_cache.create(config)\n",
    "\n",
    "# Process all tokens on first pass\n",
    "x = tokens\n",
    "\n",
    "for _ in range(max_tokens):\n",
    "    # Transform tokens into logits\n",
    "    logits, kv_cache = ll.model.forward(config, model, x, kv_cache=kv_cache)\n",
    "    \n",
    "    # Sample next token\n",
    "    next_token, key = ll.model.sample_tokens(logits, key)\n",
    "    \n",
    "    # Print next token\n",
    "    stdout.write(tokenizer.decode(next_token)[0])\n",
    "\n",
    "    # Process generated token on next pass\n",
    "    x = next_token\n",
    "\n",
    "_ = stdout.write(\"\\n\")"
   ]
  },
  {
   "cell_type": "code",
   "execution_count": null,
   "id": "b5033c2a-3d9a-4b4e-abca-0ad5b7bd8f60",
   "metadata": {},
   "outputs": [],
   "source": []
  },
  {
   "cell_type": "code",
   "execution_count": null,
   "id": "5ba374c6-5ae1-46aa-a71f-3de47849ed3e",
   "metadata": {},
   "outputs": [],
   "source": []
  },
  {
   "cell_type": "code",
   "execution_count": null,
   "id": "b3efb1c7-4339-428d-8c41-e21985ceedac",
   "metadata": {},
   "outputs": [],
   "source": []
  }
 ],
 "metadata": {
  "kernelspec": {
   "display_name": "Python 3 (ipykernel)",
   "language": "python",
   "name": "python3"
  },
  "language_info": {
   "codemirror_mode": {
    "name": "ipython",
    "version": 3
   },
   "file_extension": ".py",
   "mimetype": "text/x-python",
   "name": "python",
   "nbconvert_exporter": "python",
   "pygments_lexer": "ipython3",
   "version": "3.12.6"
  }
 },
 "nbformat": 4,
 "nbformat_minor": 5
}
