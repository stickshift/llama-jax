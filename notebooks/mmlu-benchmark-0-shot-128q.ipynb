{
 "cells": [
  {
   "cell_type": "markdown",
   "id": "cfb350ef-d055-4961-82c4-bda4cee91875",
   "metadata": {},
   "source": [
    "# MMLU Benchmark"
   ]
  },
  {
   "cell_type": "markdown",
   "id": "1b2791cc-70b9-423c-b3b4-4aad5cc30f5b",
   "metadata": {},
   "source": [
    "[Massive Multitask Language Understanding (MMLU)](https://github.com/hendrycks/test) is a popular benchmark for evaluating language models' world knowledge and problem solving abilities. The MMLU dataset contains 14,042 multiple choice questions (MCQs) from 57 categories including mathematics, history, biology, and business. Each question has 4 options (A, B, C, D) and one correct answer. In addition, each category includes 5 example questions designed for few shot experiments. When MMLU was first published in 2020, only the largest GPT models could do better than random guessing. By 2024, multiple models from OpenAI, Anthropic, Meta, and Tencent have all published MMLU accuracies over 88%."
   ]
  },
  {
   "cell_type": "markdown",
   "id": "53768f81-1f87-456c-848e-f4d7db5be8a0",
   "metadata": {},
   "source": [
    "# Zero-Shot, Sampled\n",
    "\n",
    "In this experiment, we'll measure Llama performance against MMLU ourselves. To keep runtime to a reasonable level, we'll randomly select subsets of MMLU questions."
   ]
  },
  {
   "cell_type": "markdown",
   "id": "1446b8de-a5de-46f1-a5a5-310af9c1f753",
   "metadata": {},
   "source": [
    "# Parameters"
   ]
  },
  {
   "cell_type": "code",
   "execution_count": 1,
   "id": "6c4940c1-fa7b-4b91-a3ef-4b8fc8ccd006",
   "metadata": {},
   "outputs": [],
   "source": [
    "n_iterations = 3\n",
    "n_questions = 128\n",
    "checkpoint = \"Llama3.2-3B-Instruct\""
   ]
  },
  {
   "cell_type": "markdown",
   "id": "7449436a-8739-4db8-8075-b748a9503dd8",
   "metadata": {},
   "source": [
    "# Setup"
   ]
  },
  {
   "cell_type": "code",
   "execution_count": 2,
   "id": "a22db0fd-1533-4596-a128-569f145eb5f4",
   "metadata": {},
   "outputs": [],
   "source": [
    "import os\n",
    "from pathlib import Path\n",
    "from random import sample\n",
    "from time import perf_counter_ns as timer\n",
    "\n",
    "from matplotlib import pyplot as plt\n",
    "from tqdm.auto import trange, tqdm\n",
    "\n",
    "import llama_jax as ll\n",
    "from llama_jax.benchmarks.mmlu import (\n",
    "    display_questions,\n",
    "    download_dataset, \n",
    "    load_dataset,\n",
    "    evaluate_generator,\n",
    ")"
   ]
  },
  {
   "cell_type": "code",
   "execution_count": 3,
   "id": "8f86ceb5-e601-492c-ac53-1b0a0331d769",
   "metadata": {},
   "outputs": [],
   "source": [
    "# Configure\n",
    "datasets_path = Path(os.environ[\"PROJECT_ROOT\"]) / \".build\" / \"datasets\"\n",
    "mmlu_dataset_path = datasets_path / \"mmlu\""
   ]
  },
  {
   "cell_type": "markdown",
   "id": "9892a410-df36-4c3e-a9af-9360d3ec66bd",
   "metadata": {},
   "source": [
    "# Load Dataset"
   ]
  },
  {
   "cell_type": "code",
   "execution_count": 4,
   "id": "eae9f228-637e-44c0-832b-52c36952e2a9",
   "metadata": {},
   "outputs": [],
   "source": [
    "download_dataset(mmlu_dataset_path)"
   ]
  },
  {
   "cell_type": "code",
   "execution_count": 5,
   "id": "a0f4a43a-1caf-4ab8-b48e-de18d40c23cd",
   "metadata": {},
   "outputs": [
    {
     "name": "stdout",
     "output_type": "stream",
     "text": [
      "Loaded 14042 questions, 285 examples, 57 categories\n"
     ]
    }
   ],
   "source": [
    "dataset = load_dataset(mmlu_dataset_path)\n",
    "print(f\"Loaded {len(dataset.questions)} questions, {len(dataset.examples)} examples, {len(dataset.categories)} categories\")"
   ]
  },
  {
   "cell_type": "code",
   "execution_count": 6,
   "id": "e3475474-6d21-49ff-aef8-1561f6082841",
   "metadata": {},
   "outputs": [
    {
     "data": {
      "text/html": [
       "<div>\n",
       "<style scoped>\n",
       "    .dataframe tbody tr th:only-of-type {\n",
       "        vertical-align: middle;\n",
       "    }\n",
       "\n",
       "    .dataframe tbody tr th {\n",
       "        vertical-align: top;\n",
       "    }\n",
       "\n",
       "    .dataframe thead th {\n",
       "        text-align: right;\n",
       "    }\n",
       "</style>\n",
       "<table border=\"1\" class=\"dataframe\">\n",
       "  <thead>\n",
       "    <tr style=\"text-align: right;\">\n",
       "      <th></th>\n",
       "      <th>qid</th>\n",
       "      <th>category</th>\n",
       "      <th>question</th>\n",
       "      <th>A</th>\n",
       "      <th>B</th>\n",
       "      <th>C</th>\n",
       "      <th>D</th>\n",
       "      <th>answer</th>\n",
       "    </tr>\n",
       "  </thead>\n",
       "  <tbody>\n",
       "    <tr>\n",
       "      <th>0</th>\n",
       "      <td>11134</td>\n",
       "      <td>professional law</td>\n",
       "      <td>A city sent a certified notice by U.S. mail to...</td>\n",
       "      <td>No, because the sending of certified notice to...</td>\n",
       "      <td>No, because the owner knew that he wasn't payi...</td>\n",
       "      <td>Yes, because in most circumstances an \"unclaim...</td>\n",
       "      <td>No, because the city had a right to expect tha...</td>\n",
       "      <td>C</td>\n",
       "    </tr>\n",
       "    <tr>\n",
       "      <th>1</th>\n",
       "      <td>5289</td>\n",
       "      <td>high school psychology</td>\n",
       "      <td>The part of the neuron that directs synthesis ...</td>\n",
       "      <td>cell body</td>\n",
       "      <td>dendrite</td>\n",
       "      <td>axon</td>\n",
       "      <td>axon terminal</td>\n",
       "      <td>A</td>\n",
       "    </tr>\n",
       "    <tr>\n",
       "      <th>2</th>\n",
       "      <td>7474</td>\n",
       "      <td>miscellaneous</td>\n",
       "      <td>Which of the following best describes an effec...</td>\n",
       "      <td>Increased varieties of each crop planted</td>\n",
       "      <td>Increased use of fertilizers</td>\n",
       "      <td>Decreased use of mechanization</td>\n",
       "      <td>Decreased use of pesticides</td>\n",
       "      <td>B</td>\n",
       "    </tr>\n",
       "    <tr>\n",
       "      <th>3</th>\n",
       "      <td>3338</td>\n",
       "      <td>high school european history</td>\n",
       "      <td>This question refers to the following informat...</td>\n",
       "      <td>the French Republic</td>\n",
       "      <td>the Committee of Public Safety</td>\n",
       "      <td>war against the Coalition</td>\n",
       "      <td>mass conscription</td>\n",
       "      <td>D</td>\n",
       "    </tr>\n",
       "    <tr>\n",
       "      <th>4</th>\n",
       "      <td>385</td>\n",
       "      <td>astronomy</td>\n",
       "      <td>The lunar maria are:</td>\n",
       "      <td>ancient heavily cratered highlands</td>\n",
       "      <td>dark lavas inside volcanic calderas</td>\n",
       "      <td>dark lavas filling older impact basins</td>\n",
       "      <td>the bright regions on the Moon</td>\n",
       "      <td>C</td>\n",
       "    </tr>\n",
       "  </tbody>\n",
       "</table>\n",
       "</div>"
      ],
      "text/plain": [
       "     qid                      category  \\\n",
       "0  11134              professional law   \n",
       "1   5289        high school psychology   \n",
       "2   7474                 miscellaneous   \n",
       "3   3338  high school european history   \n",
       "4    385                     astronomy   \n",
       "\n",
       "                                            question  \\\n",
       "0  A city sent a certified notice by U.S. mail to...   \n",
       "1  The part of the neuron that directs synthesis ...   \n",
       "2  Which of the following best describes an effec...   \n",
       "3  This question refers to the following informat...   \n",
       "4                               The lunar maria are:   \n",
       "\n",
       "                                                   A  \\\n",
       "0  No, because the sending of certified notice to...   \n",
       "1                                          cell body   \n",
       "2           Increased varieties of each crop planted   \n",
       "3                                the French Republic   \n",
       "4                 ancient heavily cratered highlands   \n",
       "\n",
       "                                                   B  \\\n",
       "0  No, because the owner knew that he wasn't payi...   \n",
       "1                                           dendrite   \n",
       "2                       Increased use of fertilizers   \n",
       "3                     the Committee of Public Safety   \n",
       "4                dark lavas inside volcanic calderas   \n",
       "\n",
       "                                                   C  \\\n",
       "0  Yes, because in most circumstances an \"unclaim...   \n",
       "1                                               axon   \n",
       "2                     Decreased use of mechanization   \n",
       "3                          war against the Coalition   \n",
       "4             dark lavas filling older impact basins   \n",
       "\n",
       "                                                   D answer  \n",
       "0  No, because the city had a right to expect tha...      C  \n",
       "1                                      axon terminal      A  \n",
       "2                        Decreased use of pesticides      B  \n",
       "3                                  mass conscription      D  \n",
       "4                     the bright regions on the Moon      C  "
      ]
     },
     "metadata": {},
     "output_type": "display_data"
    }
   ],
   "source": [
    "# Display sample\n",
    "display_questions(dataset.questions)"
   ]
  },
  {
   "cell_type": "markdown",
   "id": "79c975e7-45fd-44ad-98e5-13ff156d48a4",
   "metadata": {},
   "source": [
    "# Model"
   ]
  },
  {
   "cell_type": "code",
   "execution_count": 7,
   "id": "704eaf89-660e-4565-a731-037bd1ecec31",
   "metadata": {},
   "outputs": [
    {
     "name": "stderr",
     "output_type": "stream",
     "text": [
      "WARNING:2024-12-20 15:41:16,676:jax._src.xla_bridge:1000: Platform 'METAL' is experimental and not all JAX functionality may be correctly supported!\n"
     ]
    },
    {
     "name": "stdout",
     "output_type": "stream",
     "text": [
      "Metal device set to: Apple M1 Max\n"
     ]
    },
    {
     "name": "stderr",
     "output_type": "stream",
     "text": [
      "WARNING: All log messages before absl::InitializeLog() is called are written to STDERR\n",
      "W0000 00:00:1734727276.677168 11189711 mps_client.cc:510] WARNING: JAX Apple GPU support is experimental and not all JAX functionality is correctly supported!\n",
      "I0000 00:00:1734727276.685752 11189711 service.cc:145] XLA service 0x6000011f0b00 initialized for platform METAL (this does not guarantee that XLA will be used). Devices:\n",
      "I0000 00:00:1734727276.685761 11189711 service.cc:153]   StreamExecutor device (0): Metal, <undefined>\n",
      "I0000 00:00:1734727276.686920 11189711 mps_client.cc:406] Using Simple allocator.\n",
      "I0000 00:00:1734727276.686930 11189711 mps_client.cc:384] XLA backend will use up to 51539214336 bytes on device 0 for SimpleAllocator.\n"
     ]
    }
   ],
   "source": [
    "# Initialize mmlu generator from checkpoint\n",
    "config = ll.checkpoint.load_config(checkpoint)\n",
    "generator = ll.benchmarks.mmlu.generator(config)"
   ]
  },
  {
   "cell_type": "code",
   "execution_count": 8,
   "id": "092278e2-1ff7-45a3-8bf9-63ee2f794167",
   "metadata": {},
   "outputs": [
    {
     "data": {
      "text/plain": [
       "Answer(qid=426, expected='B', actual='B', scores={'A': 0.0002536773681640625, 'B': 0.96875, 'C': 0.005096435546875, 'D': 0.0257568359375}, correct=True)"
      ]
     },
     "execution_count": 8,
     "metadata": {},
     "output_type": "execute_result"
    }
   ],
   "source": [
    "# Pre-compile model\n",
    "next(generator(sample(dataset.questions, k=1)))"
   ]
  },
  {
   "cell_type": "markdown",
   "id": "63adb7ed-bf61-43b2-97c4-abf699c5b5f5",
   "metadata": {},
   "source": [
    "# Experiment"
   ]
  },
  {
   "cell_type": "code",
   "execution_count": 9,
   "id": "4bddaeef-1d21-4ee2-ab16-bc2a9d9a0c1f",
   "metadata": {},
   "outputs": [
    {
     "data": {
      "application/vnd.jupyter.widget-view+json": {
       "model_id": "d4cfc069f03848099968a64af35f1a30",
       "version_major": 2,
       "version_minor": 0
      },
      "text/plain": [
       "Iterations:   0%|          | 0/3 [00:00<?, ?it/s]"
      ]
     },
     "metadata": {},
     "output_type": "display_data"
    },
    {
     "data": {
      "application/vnd.jupyter.widget-view+json": {
       "model_id": "c3cc28e5158a47a0b0d1aaa9454ff81c",
       "version_major": 2,
       "version_minor": 0
      },
      "text/plain": [
       "Questions:   0%|          | 0/128 [00:00<?, ?it/s]"
      ]
     },
     "metadata": {},
     "output_type": "display_data"
    },
    {
     "data": {
      "application/vnd.jupyter.widget-view+json": {
       "model_id": "b4da22c20a5c44bb978d4511ec270537",
       "version_major": 2,
       "version_minor": 0
      },
      "text/plain": [
       "Questions:   0%|          | 0/128 [00:00<?, ?it/s]"
      ]
     },
     "metadata": {},
     "output_type": "display_data"
    },
    {
     "data": {
      "application/vnd.jupyter.widget-view+json": {
       "model_id": "349c4ab029d94b2f8de74238aba139a7",
       "version_major": 2,
       "version_minor": 0
      },
      "text/plain": [
       "Questions:   0%|          | 0/128 [00:00<?, ?it/s]"
      ]
     },
     "metadata": {},
     "output_type": "display_data"
    }
   ],
   "source": [
    "start_time = timer()\n",
    "\n",
    "scores = []\n",
    "for _ in trange(n_iterations, desc=\"Iterations\"):\n",
    "\n",
    "    # Randomly sample questions\n",
    "    questions = sample(dataset.questions, k=n_questions)\n",
    "\n",
    "    # Decorate questions w/ progress bar\n",
    "    questions = tqdm(questions, desc=\"Questions\", leave=False)\n",
    "    \n",
    "    score = evaluate_generator(\n",
    "        generator,\n",
    "        questions=questions,\n",
    "    )\n",
    "    scores.append(score)\n",
    "\n",
    "duration = ((timer() - start_time) / 1000000000)"
   ]
  },
  {
   "cell_type": "code",
   "execution_count": 10,
   "id": "29c586a3-df9b-4125-bec6-5a92cb76e031",
   "metadata": {},
   "outputs": [
    {
     "name": "stdout",
     "output_type": "stream",
     "text": [
      "Average 0.59 s/q\n"
     ]
    }
   ],
   "source": [
    "t = duration / (n_iterations * n_questions)\n",
    "print(f\"Average {t:0.2f} s/q\")"
   ]
  },
  {
   "cell_type": "code",
   "execution_count": 11,
   "id": "54849bb8-06c2-47d4-a62b-1b4344a16780",
   "metadata": {},
   "outputs": [
    {
     "data": {
      "image/png": "[encoded data removed]",
      "text/plain": [
       "<Figure size 640x480 with 1 Axes>"
      ]
     },
     "metadata": {},
     "output_type": "display_data"
    }
   ],
   "source": [
    "plt.boxplot(scores)\n",
    "plt.ylabel(\"MMLU Score\")\n",
    "plt.show()"
   ]
  },
  {
   "cell_type": "code",
   "execution_count": null,
   "id": "f388ad1c-ab5d-4657-9e81-689332d35fd3",
   "metadata": {},
   "outputs": [],
   "source": []
  }
 ],
 "metadata": {
  "kernelspec": {
   "display_name": "Python 3 (ipykernel)",
   "language": "python",
   "name": "python3"
  },
  "language_info": {
   "codemirror_mode": {
    "name": "ipython",
    "version": 3
   },
   "file_extension": ".py",
   "mimetype": "text/x-python",
   "name": "python",
   "nbconvert_exporter": "python",
   "pygments_lexer": "ipython3",
   "version": "3.12.6"
  }
 },
 "nbformat": 4,
 "nbformat_minor": 5
}
